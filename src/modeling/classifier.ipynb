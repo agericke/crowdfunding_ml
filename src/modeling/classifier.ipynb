{
 "cells": [
  {
   "cell_type": "code",
   "execution_count": 1,
   "metadata": {},
   "outputs": [],
   "source": [
    "import os\n",
    "import datetime\n",
    "import math\n",
    "from datetime import date\n",
    "import time\n",
    "from collections import Counter\n",
    "from collections import defaultdict\n",
    "from itertools import product\n",
    "from math import log\n",
    "\n",
    "import pickle\n",
    "import pandas as pd\n",
    "import numpy as np\n",
    "from pandas.api.types import CategoricalDtype\n",
    "\n",
    "import matplotlib.pyplot as plt\n",
    "import seaborn as sns\n",
    "\n",
    "from sklearn import preprocessing\n",
    "from sklearn.model_selection import train_test_split\n",
    "from sklearn.model_selection import GridSearchCV\n",
    "from sklearn.model_selection import StratifiedKFold\n",
    "from sklearn.naive_bayes import GaussianNB\n",
    "from sklearn.linear_model import LogisticRegression\n",
    "from sklearn.feature_selection import RFECV\n",
    "from sklearn.ensemble import RandomForestClassifier\n",
    "from sklearn.model_selection import RandomizedSearchCV\n",
    "\n",
    "import statsmodels.api as sm\n",
    "import statsmodels.formula.api as smf\n",
    "\n",
    "from scipy import stats\n",
    "from scipy.stats import norm\n",
    "from sklearn.metrics import accuracy_score\n",
    "from sklearn.metrics import log_loss\n",
    "from sklearn.metrics import confusion_matrix\n",
    "from sklearn.metrics import precision_score\n",
    "from sklearn.metrics import recall_score\n",
    "from sklearn.metrics import classification_report\n",
    "from sklearn.metrics import roc_curve\n",
    "from sklearn.metrics import roc_auc_score\n",
    "from sklearn.metrics import precision_recall_curve\n",
    "\n",
    "#%matplotlib inline\n",
    "sns.set()"
   ]
  },
  {
   "cell_type": "markdown",
   "metadata": {},
   "source": [
    "# MODELING PROCESS\n",
    "\n",
    "The modeling process will consist of the following phases:\n",
    "\n",
    "1. Normalize data\n",
    "2. Build model\n",
    "3. Compute cross-validation accuracy\n",
    "4. Tune model\n",
    "5. Repeat\n",
    "6. **Report accuracy on new data**"
   ]
  },
  {
   "cell_type": "code",
   "execution_count": 2,
   "metadata": {},
   "outputs": [],
   "source": [
    "def initial_setup():\n",
    "    \"\"\"Create Initial setup of directories variables, and dataframe vars to use.\n",
    "    Returns:\n",
    "        A tuple containing:\n",
    "            - datadir....Absolute Path to the data directory of the project.\n",
    "            - dirname....Absolute Path of directory that contains this file.\n",
    "            - imagesdir..Absolute path of directory that contains the images.\n",
    "    \"\"\"\n",
    "    dirname = os.path.dirname(os.path.abspath('__file__'))\n",
    "    datadir =  os.path.join(\n",
    "                os.path.abspath(os.path.join(os.path.join(dirname, os.pardir), os.pardir)), \n",
    "                'data'\n",
    "            )\n",
    "    imagesdir =  os.path.join(os.path.abspath(os.path.join(dirname, os.pardir)), 'images')\n",
    "    return dirname, datadir, imagesdir\n",
    "\n",
    "\n",
    "def read_from_disk(filename):\n",
    "    \"\"\"Read a dataframe from a filename in disk.\n",
    "    Args:\n",
    "        filename....Path to the file.\n",
    "    Returns:\n",
    "        A pandas dataframe.\n",
    "    \"\"\"\n",
    "    return pickle.load(open(filename, 'rb'))\n",
    "\n",
    "\n",
    "def store_model(dataframe, filename):\n",
    "    \"\"\"Store model using pickle.\n",
    "    Args:\n",
    "        dataframe...pandas dataframe to store.\n",
    "        filename....Path to the file to store the datafram in.\n",
    "    Returns:\n",
    "        Nothing.\n",
    "    \"\"\"\n",
    "    pickle.dump(dataframe, open(filename, 'wb'))"
   ]
  },
  {
   "cell_type": "code",
   "execution_count": 3,
   "metadata": {},
   "outputs": [
    {
     "name": "stdout",
     "output_type": "stream",
     "text": [
      "Step 0: Initial directories and colnames set up\n",
      "Directory of this file is /home/agericke/crowdfunding_ml/src/modeling\n",
      "Data directory is /home/agericke/crowdfunding_ml/data\n",
      "Images directory is /home/agericke/crowdfunding_ml/src/images\n"
     ]
    }
   ],
   "source": [
    "# 0 - Initial directories and colnames set up\n",
    "print(\"Step 0: Initial directories and colnames set up\")\n",
    "dirname, datadir, imagesdir = initial_setup()\n",
    "print(\"Directory of this file is {}\".format(dirname))\n",
    "print(\"Data directory is {}\".format(datadir))\n",
    "print(\"Images directory is {}\".format(imagesdir))"
   ]
  },
  {
   "cell_type": "markdown",
   "metadata": {},
   "source": [
    "##  0. Load data and select variables."
   ]
  },
  {
   "cell_type": "code",
   "execution_count": 4,
   "metadata": {},
   "outputs": [
    {
     "data": {
      "text/html": [
       "<div>\n",
       "<style scoped>\n",
       "    .dataframe tbody tr th:only-of-type {\n",
       "        vertical-align: middle;\n",
       "    }\n",
       "\n",
       "    .dataframe tbody tr th {\n",
       "        vertical-align: top;\n",
       "    }\n",
       "\n",
       "    .dataframe thead th {\n",
       "        text-align: right;\n",
       "    }\n",
       "</style>\n",
       "<table border=\"1\" class=\"dataframe\">\n",
       "  <thead>\n",
       "    <tr style=\"text-align: right;\">\n",
       "      <th></th>\n",
       "      <th>staff_pick</th>\n",
       "      <th>result</th>\n",
       "      <th>goal_usd</th>\n",
       "      <th>pledged_usd</th>\n",
       "      <th>main_category</th>\n",
       "      <th>state</th>\n",
       "      <th>ln(goal_usd)</th>\n",
       "      <th>goal_usd_bin</th>\n",
       "      <th>duration_in_days_bin</th>\n",
       "      <th>weekday_launch</th>\n",
       "      <th>weekend_launch</th>\n",
       "      <th>month_launch</th>\n",
       "      <th>num_competitors</th>\n",
       "      <th>num_competitors_bin</th>\n",
       "      <th>num_competitors_staffpick</th>\n",
       "    </tr>\n",
       "    <tr>\n",
       "      <th>launched_at</th>\n",
       "      <th></th>\n",
       "      <th></th>\n",
       "      <th></th>\n",
       "      <th></th>\n",
       "      <th></th>\n",
       "      <th></th>\n",
       "      <th></th>\n",
       "      <th></th>\n",
       "      <th></th>\n",
       "      <th></th>\n",
       "      <th></th>\n",
       "      <th></th>\n",
       "      <th></th>\n",
       "      <th></th>\n",
       "      <th></th>\n",
       "    </tr>\n",
       "  </thead>\n",
       "  <tbody>\n",
       "    <tr>\n",
       "      <th>2009-04-28 11:55:41</th>\n",
       "      <td>True</td>\n",
       "      <td>1</td>\n",
       "      <td>3000.0</td>\n",
       "      <td>3329.00</td>\n",
       "      <td>journalism</td>\n",
       "      <td>NY</td>\n",
       "      <td>8.006368</td>\n",
       "      <td>(0.0, 40000.0]</td>\n",
       "      <td>(0.0, 29.0]</td>\n",
       "      <td>Tuesday</td>\n",
       "      <td>False</td>\n",
       "      <td>4</td>\n",
       "      <td>1.0</td>\n",
       "      <td>(0.0, 10.0]</td>\n",
       "      <td>1.0</td>\n",
       "    </tr>\n",
       "    <tr>\n",
       "      <th>2009-04-29 03:26:32</th>\n",
       "      <td>False</td>\n",
       "      <td>0</td>\n",
       "      <td>300.0</td>\n",
       "      <td>15.00</td>\n",
       "      <td>music</td>\n",
       "      <td>IL</td>\n",
       "      <td>5.703782</td>\n",
       "      <td>(0.0, 40000.0]</td>\n",
       "      <td>(0.0, 29.0]</td>\n",
       "      <td>Wednesday</td>\n",
       "      <td>False</td>\n",
       "      <td>4</td>\n",
       "      <td>1.0</td>\n",
       "      <td>(0.0, 10.0]</td>\n",
       "      <td>0.0</td>\n",
       "    </tr>\n",
       "    <tr>\n",
       "      <th>2009-04-29 20:08:13</th>\n",
       "      <td>False</td>\n",
       "      <td>0</td>\n",
       "      <td>640.0</td>\n",
       "      <td>41.00</td>\n",
       "      <td>design</td>\n",
       "      <td>NY</td>\n",
       "      <td>6.461468</td>\n",
       "      <td>(0.0, 40000.0]</td>\n",
       "      <td>(45.0, inf]</td>\n",
       "      <td>Wednesday</td>\n",
       "      <td>False</td>\n",
       "      <td>4</td>\n",
       "      <td>1.0</td>\n",
       "      <td>(0.0, 10.0]</td>\n",
       "      <td>0.0</td>\n",
       "    </tr>\n",
       "    <tr>\n",
       "      <th>2009-04-29 21:11:15</th>\n",
       "      <td>True</td>\n",
       "      <td>1</td>\n",
       "      <td>500.0</td>\n",
       "      <td>1820.00</td>\n",
       "      <td>technology</td>\n",
       "      <td>NY</td>\n",
       "      <td>6.214608</td>\n",
       "      <td>(0.0, 40000.0]</td>\n",
       "      <td>(45.0, inf]</td>\n",
       "      <td>Wednesday</td>\n",
       "      <td>False</td>\n",
       "      <td>4</td>\n",
       "      <td>1.0</td>\n",
       "      <td>(0.0, 10.0]</td>\n",
       "      <td>1.0</td>\n",
       "    </tr>\n",
       "    <tr>\n",
       "      <th>2009-04-29 23:32:55</th>\n",
       "      <td>False</td>\n",
       "      <td>1</td>\n",
       "      <td>500.0</td>\n",
       "      <td>501.66</td>\n",
       "      <td>film-&amp;-video</td>\n",
       "      <td>IN</td>\n",
       "      <td>6.214608</td>\n",
       "      <td>(0.0, 40000.0]</td>\n",
       "      <td>(29.0, 45.0]</td>\n",
       "      <td>Wednesday</td>\n",
       "      <td>False</td>\n",
       "      <td>4</td>\n",
       "      <td>1.0</td>\n",
       "      <td>(0.0, 10.0]</td>\n",
       "      <td>0.0</td>\n",
       "    </tr>\n",
       "    <tr>\n",
       "      <th>2009-04-30 20:22:43</th>\n",
       "      <td>True</td>\n",
       "      <td>1</td>\n",
       "      <td>6000.0</td>\n",
       "      <td>6575.00</td>\n",
       "      <td>theater</td>\n",
       "      <td>NY</td>\n",
       "      <td>8.699515</td>\n",
       "      <td>(0.0, 40000.0]</td>\n",
       "      <td>(29.0, 45.0]</td>\n",
       "      <td>Thursday</td>\n",
       "      <td>False</td>\n",
       "      <td>4</td>\n",
       "      <td>1.0</td>\n",
       "      <td>(0.0, 10.0]</td>\n",
       "      <td>1.0</td>\n",
       "    </tr>\n",
       "    <tr>\n",
       "      <th>2009-04-30 20:23:22</th>\n",
       "      <td>False</td>\n",
       "      <td>1</td>\n",
       "      <td>10000.0</td>\n",
       "      <td>10145.00</td>\n",
       "      <td>theater</td>\n",
       "      <td>NY</td>\n",
       "      <td>9.210340</td>\n",
       "      <td>(0.0, 40000.0]</td>\n",
       "      <td>(45.0, inf]</td>\n",
       "      <td>Thursday</td>\n",
       "      <td>False</td>\n",
       "      <td>4</td>\n",
       "      <td>2.0</td>\n",
       "      <td>(0.0, 10.0]</td>\n",
       "      <td>1.0</td>\n",
       "    </tr>\n",
       "    <tr>\n",
       "      <th>2009-05-01 03:06:19</th>\n",
       "      <td>True</td>\n",
       "      <td>1</td>\n",
       "      <td>500.0</td>\n",
       "      <td>575.00</td>\n",
       "      <td>theater</td>\n",
       "      <td>VA</td>\n",
       "      <td>6.214608</td>\n",
       "      <td>(0.0, 40000.0]</td>\n",
       "      <td>(29.0, 45.0]</td>\n",
       "      <td>Friday</td>\n",
       "      <td>False</td>\n",
       "      <td>5</td>\n",
       "      <td>1.0</td>\n",
       "      <td>(0.0, 10.0]</td>\n",
       "      <td>1.0</td>\n",
       "    </tr>\n",
       "    <tr>\n",
       "      <th>2009-05-01 12:22:21</th>\n",
       "      <td>False</td>\n",
       "      <td>0</td>\n",
       "      <td>2000.0</td>\n",
       "      <td>25.00</td>\n",
       "      <td>art</td>\n",
       "      <td>NY</td>\n",
       "      <td>7.600902</td>\n",
       "      <td>(0.0, 40000.0]</td>\n",
       "      <td>(29.0, 45.0]</td>\n",
       "      <td>Friday</td>\n",
       "      <td>False</td>\n",
       "      <td>5</td>\n",
       "      <td>1.0</td>\n",
       "      <td>(0.0, 10.0]</td>\n",
       "      <td>0.0</td>\n",
       "    </tr>\n",
       "    <tr>\n",
       "      <th>2009-05-01 15:44:25</th>\n",
       "      <td>True</td>\n",
       "      <td>1</td>\n",
       "      <td>4000.0</td>\n",
       "      <td>4100.60</td>\n",
       "      <td>music</td>\n",
       "      <td>LA</td>\n",
       "      <td>8.294050</td>\n",
       "      <td>(0.0, 40000.0]</td>\n",
       "      <td>(29.0, 45.0]</td>\n",
       "      <td>Friday</td>\n",
       "      <td>False</td>\n",
       "      <td>5</td>\n",
       "      <td>1.0</td>\n",
       "      <td>(0.0, 10.0]</td>\n",
       "      <td>1.0</td>\n",
       "    </tr>\n",
       "  </tbody>\n",
       "</table>\n",
       "</div>"
      ],
      "text/plain": [
       "                     staff_pick  result  goal_usd  pledged_usd main_category  \\\n",
       "launched_at                                                                    \n",
       "2009-04-28 11:55:41        True       1    3000.0      3329.00    journalism   \n",
       "2009-04-29 03:26:32       False       0     300.0        15.00         music   \n",
       "2009-04-29 20:08:13       False       0     640.0        41.00        design   \n",
       "2009-04-29 21:11:15        True       1     500.0      1820.00    technology   \n",
       "2009-04-29 23:32:55       False       1     500.0       501.66  film-&-video   \n",
       "2009-04-30 20:22:43        True       1    6000.0      6575.00       theater   \n",
       "2009-04-30 20:23:22       False       1   10000.0     10145.00       theater   \n",
       "2009-05-01 03:06:19        True       1     500.0       575.00       theater   \n",
       "2009-05-01 12:22:21       False       0    2000.0        25.00           art   \n",
       "2009-05-01 15:44:25        True       1    4000.0      4100.60         music   \n",
       "\n",
       "                    state  ln(goal_usd)    goal_usd_bin duration_in_days_bin  \\\n",
       "launched_at                                                                    \n",
       "2009-04-28 11:55:41    NY      8.006368  (0.0, 40000.0]          (0.0, 29.0]   \n",
       "2009-04-29 03:26:32    IL      5.703782  (0.0, 40000.0]          (0.0, 29.0]   \n",
       "2009-04-29 20:08:13    NY      6.461468  (0.0, 40000.0]          (45.0, inf]   \n",
       "2009-04-29 21:11:15    NY      6.214608  (0.0, 40000.0]          (45.0, inf]   \n",
       "2009-04-29 23:32:55    IN      6.214608  (0.0, 40000.0]         (29.0, 45.0]   \n",
       "2009-04-30 20:22:43    NY      8.699515  (0.0, 40000.0]         (29.0, 45.0]   \n",
       "2009-04-30 20:23:22    NY      9.210340  (0.0, 40000.0]          (45.0, inf]   \n",
       "2009-05-01 03:06:19    VA      6.214608  (0.0, 40000.0]         (29.0, 45.0]   \n",
       "2009-05-01 12:22:21    NY      7.600902  (0.0, 40000.0]         (29.0, 45.0]   \n",
       "2009-05-01 15:44:25    LA      8.294050  (0.0, 40000.0]         (29.0, 45.0]   \n",
       "\n",
       "                    weekday_launch  weekend_launch  month_launch  \\\n",
       "launched_at                                                        \n",
       "2009-04-28 11:55:41        Tuesday           False             4   \n",
       "2009-04-29 03:26:32      Wednesday           False             4   \n",
       "2009-04-29 20:08:13      Wednesday           False             4   \n",
       "2009-04-29 21:11:15      Wednesday           False             4   \n",
       "2009-04-29 23:32:55      Wednesday           False             4   \n",
       "2009-04-30 20:22:43       Thursday           False             4   \n",
       "2009-04-30 20:23:22       Thursday           False             4   \n",
       "2009-05-01 03:06:19         Friday           False             5   \n",
       "2009-05-01 12:22:21         Friday           False             5   \n",
       "2009-05-01 15:44:25         Friday           False             5   \n",
       "\n",
       "                     num_competitors num_competitors_bin  \\\n",
       "launched_at                                                \n",
       "2009-04-28 11:55:41              1.0         (0.0, 10.0]   \n",
       "2009-04-29 03:26:32              1.0         (0.0, 10.0]   \n",
       "2009-04-29 20:08:13              1.0         (0.0, 10.0]   \n",
       "2009-04-29 21:11:15              1.0         (0.0, 10.0]   \n",
       "2009-04-29 23:32:55              1.0         (0.0, 10.0]   \n",
       "2009-04-30 20:22:43              1.0         (0.0, 10.0]   \n",
       "2009-04-30 20:23:22              2.0         (0.0, 10.0]   \n",
       "2009-05-01 03:06:19              1.0         (0.0, 10.0]   \n",
       "2009-05-01 12:22:21              1.0         (0.0, 10.0]   \n",
       "2009-05-01 15:44:25              1.0         (0.0, 10.0]   \n",
       "\n",
       "                     num_competitors_staffpick  \n",
       "launched_at                                     \n",
       "2009-04-28 11:55:41                        1.0  \n",
       "2009-04-29 03:26:32                        0.0  \n",
       "2009-04-29 20:08:13                        0.0  \n",
       "2009-04-29 21:11:15                        1.0  \n",
       "2009-04-29 23:32:55                        0.0  \n",
       "2009-04-30 20:22:43                        1.0  \n",
       "2009-04-30 20:23:22                        1.0  \n",
       "2009-05-01 03:06:19                        1.0  \n",
       "2009-05-01 12:22:21                        0.0  \n",
       "2009-05-01 15:44:25                        1.0  "
      ]
     },
     "execution_count": 4,
     "metadata": {},
     "output_type": "execute_result"
    }
   ],
   "source": [
    "df = read_from_disk(os.path.join(datadir, 'data_cleaned.pkl'))\n",
    "df.head(10)"
   ]
  },
  {
   "cell_type": "code",
   "execution_count": 5,
   "metadata": {},
   "outputs": [],
   "source": [
    "columns = ['staff_pick', 'result', 'ln(goal_usd)', 'main_category', 'state', 'duration_in_days_bin', \n",
    "           'weekday_launch', 'month_launch', 'num_competitors_bin']\n",
    "df = df[columns].copy()"
   ]
  },
  {
   "cell_type": "markdown",
   "metadata": {},
   "source": [
    "## 1. Standardize data and Dummy Variables\n",
    "\n",
    "First of all lets standardize only numeric columns of the data."
   ]
  },
  {
   "cell_type": "code",
   "execution_count": 6,
   "metadata": {},
   "outputs": [],
   "source": [
    "from pandas.api.types import is_numeric_dtype\n",
    "\n",
    "y = df['result']\n",
    "X = df.drop('result', axis=1)\n",
    "num_cols = X.columns[X.dtypes.apply(lambda col: np.all([is_numeric_dtype(col),  col != 'bool']))]"
   ]
  },
  {
   "cell_type": "code",
   "execution_count": 7,
   "metadata": {},
   "outputs": [
    {
     "name": "stderr",
     "output_type": "stream",
     "text": [
      "/home/agericke/anaconda3/lib/python3.7/site-packages/sklearn/preprocessing/data.py:625: DataConversionWarning: Data with input dtype int64, float64 were all converted to float64 by StandardScaler.\n",
      "  return self.partial_fit(X, y)\n",
      "/home/agericke/anaconda3/lib/python3.7/site-packages/sklearn/base.py:462: DataConversionWarning: Data with input dtype int64, float64 were all converted to float64 by StandardScaler.\n",
      "  return self.fit(X, **fit_params).transform(X)\n"
     ]
    }
   ],
   "source": [
    "scaler = preprocessing.StandardScaler()\n",
    "X[num_cols] = scaler.fit_transform(X[num_cols])"
   ]
  },
  {
   "cell_type": "code",
   "execution_count": 8,
   "metadata": {},
   "outputs": [],
   "source": [
    "X['staff_pick'] = X['staff_pick'].astype('int')"
   ]
  },
  {
   "cell_type": "code",
   "execution_count": 9,
   "metadata": {},
   "outputs": [],
   "source": [
    "X = pd.get_dummies(X, drop_first=True)"
   ]
  },
  {
   "cell_type": "markdown",
   "metadata": {},
   "source": [
    "Stratified splitting"
   ]
  },
  {
   "cell_type": "code",
   "execution_count": 10,
   "metadata": {},
   "outputs": [],
   "source": [
    "X_train, X_test, y_train, y_test = train_test_split(X, y, test_size=0.2, random_state=42, stratify=y)"
   ]
  },
  {
   "cell_type": "markdown",
   "metadata": {},
   "source": [
    "##  2. Models"
   ]
  },
  {
   "cell_type": "markdown",
   "metadata": {},
   "source": [
    "###  2.0 NIR (No Informaiton Rate)"
   ]
  },
  {
   "cell_type": "code",
   "execution_count": 11,
   "metadata": {},
   "outputs": [
    {
     "data": {
      "text/plain": [
       "0.5531897274524621"
      ]
     },
     "execution_count": 11,
     "metadata": {},
     "output_type": "execute_result"
    }
   ],
   "source": [
    "nir = np.mean(y)\n",
    "nir"
   ]
  },
  {
   "cell_type": "markdown",
   "metadata": {},
   "source": [
    "### 2.1 Gaussian Naive Bayes"
   ]
  },
  {
   "cell_type": "code",
   "execution_count": 12,
   "metadata": {},
   "outputs": [],
   "source": [
    "gnb_scikit = GaussianNB()"
   ]
  },
  {
   "cell_type": "code",
   "execution_count": 13,
   "metadata": {},
   "outputs": [
    {
     "data": {
      "text/plain": [
       "GaussianNB(priors=None, var_smoothing=1e-09)"
      ]
     },
     "execution_count": 13,
     "metadata": {},
     "output_type": "execute_result"
    }
   ],
   "source": [
    "gnb_scikit.fit(X_train, y_train)"
   ]
  },
  {
   "cell_type": "code",
   "execution_count": 14,
   "metadata": {},
   "outputs": [],
   "source": [
    "y_test_pred = gnb_scikit.predict(X_test)\n",
    "y_train_pred = gnb_scikit.predict(X_train)"
   ]
  },
  {
   "cell_type": "code",
   "execution_count": 15,
   "metadata": {},
   "outputs": [
    {
     "name": "stdout",
     "output_type": "stream",
     "text": [
      "accuracy on training data=0.6518751900\n",
      "accuracy on test data=0.6486038869\n"
     ]
    }
   ],
   "source": [
    "print('accuracy on training data={:.10f}'.format(accuracy_score(y_train_pred, y_train)))\n",
    "print('accuracy on test data={:.10f}'.format(accuracy_score(y_test_pred, y_test)))"
   ]
  },
  {
   "cell_type": "markdown",
   "metadata": {},
   "source": [
    "For a Gaussian Naive Bayes classificator we will need to compute:\n",
    "\n",
    "1. P(y) - Prior probabilities\n",
    "2. P(x|y)\n",
    "3. P(y|x) - Posterior probabilities"
   ]
  },
  {
   "cell_type": "code",
   "execution_count": 16,
   "metadata": {},
   "outputs": [],
   "source": [
    "class GaussianNaiveBayes:\n",
    "    \"\"\"Naive Bayes text categorization model\n",
    "    \"\"\"\n",
    "\n",
    "    def __init__(self, unique_classes=[0]):\n",
    "        self.classes = np.array(unique_classes)\n",
    "        \n",
    "    \n",
    "    def fit(self, X, y):\n",
    "\n",
    "        self.examples = X\n",
    "        self.labels = y\n",
    "\n",
    "        self.prior_prob = X.groupby(y).apply(lambda x: float(len(x)) / float(X.shape[0])).to_numpy()\n",
    "\n",
    "        # Calculate per column means\n",
    "        self.means = X.groupby(y).aggregate(np.mean).to_numpy()\n",
    "        self.vars = X.groupby(y).aggregate(np.var).to_numpy()\n",
    "            \n",
    "    \n",
    "    def predict(self, X):\n",
    "        \n",
    "        y_pred = np.zeros(X.shape[0])\n",
    "        \n",
    "        probs = np.empty([X.shape[0], len(self.classes)])\n",
    "        \n",
    "        if not isinstance(X, np.ndarray): X = np.array(X)\n",
    "\n",
    "        for i, cl in enumerate(self.classes):\n",
    "            \n",
    "            # For efficiency purposes, we will perform first all per column values\n",
    "            #df_logs = pd.DataFrame().reindex_like(X)\n",
    "            #df_logs = X.apply(lambda col_values: self.calculate_log_probabilities(col_values, col_values.name, cl),\n",
    "            #                                      axis=0)\n",
    "            \n",
    "            prob = np.log(self.prior_prob[i])\n",
    "            cond_prob =  - 0.5 * np.sum(2. * np.pi * self.vars[i, :])\n",
    "            cond_prob -= 0.5 * np.sum((X - self.means[i, :]) ** 2 / (self.vars[i, :]), 1)\n",
    "            probs[:, cl] = prob + cond_prob\n",
    "            \n",
    "        #normalization_factor = self.log_sum(sum_positive, sum_negative)\n",
    "            #probs[:, cl] = df_logs.apply(lambda x: x.sum() + self.prior_prob[cl], axis=1)\n",
    "        \n",
    "        y_pred = self.classes[probs.argmax(axis=1)]\n",
    "\n",
    "        return y_pred\n",
    "    \n",
    "    \n",
    "    def log_sum(self, logx, logy):\n",
    "        \"\"\"Utility function to compute $log(exp(logx) + exp(logy))$\n",
    "        while avoiding numerical issues\n",
    "        \"\"\"\n",
    "        m = max(logx, logy)\n",
    "        return m + log(exp(logx - m) + exp(logy - m))\n",
    "    \n",
    "    \n",
    "    def calculate_log_probabilities(self, values, col_name, cl):\n",
    "        \"\"\"Calculate probabilities\n",
    "        \"\"\"\n",
    "        mean = self.col_means.loc[cl, col_name]\n",
    "        std = self.col_stds.loc[cl, col_name]\n",
    "        dist = norm(mean, std)\n",
    "        \n",
    "        return np.log(norm.pdf(values.values, mean, std))"
   ]
  },
  {
   "cell_type": "code",
   "execution_count": 17,
   "metadata": {},
   "outputs": [],
   "source": [
    "gnb = GaussianNaiveBayes([0, 1])\n",
    "gnb.fit(X_train, y_train)"
   ]
  },
  {
   "cell_type": "code",
   "execution_count": 18,
   "metadata": {},
   "outputs": [],
   "source": [
    "y_test_pred = gnb.predict(X_test)\n",
    "y_train_pred = gnb.predict(X_train)"
   ]
  },
  {
   "cell_type": "code",
   "execution_count": 19,
   "metadata": {},
   "outputs": [
    {
     "name": "stdout",
     "output_type": "stream",
     "text": [
      "accuracy on training data=0.6525286114\n",
      "accuracy on test data=0.6473358694\n"
     ]
    }
   ],
   "source": [
    "print('accuracy on training data={:.10f}'.format(accuracy_score(y_train_pred, y_train)))\n",
    "print('accuracy on test data={:.10f}'.format(accuracy_score(y_test_pred, y_test)))"
   ]
  },
  {
   "cell_type": "markdown",
   "metadata": {},
   "source": [
    "### 2.2 Logistic Regression"
   ]
  },
  {
   "cell_type": "markdown",
   "metadata": {},
   "source": [
    "For the Logistic Regression we will approach it in two methods:\n",
    "\n",
    "1. Only from a ML perspective using the scikit package. We will perform a GridSearch from scratch and using the GridSearchCV method. Then we will perform a model analysis, calculating ROC values, precision and recall, AUC values and analysing the top coefficients for both classes.\n",
    "\n",
    "2. We will introduce as well a statistics perspective for analysing the statistical importance of each coefficient and will try to optimize the model by prunning certain variables."
   ]
  },
  {
   "cell_type": "markdown",
   "metadata": {},
   "source": [
    "### 2.2.1 ML Log. Regresion"
   ]
  },
  {
   "cell_type": "markdown",
   "metadata": {},
   "source": [
    "#### Naive Log. Regression.\n",
    "\n",
    "Perform a simple Logistic Regression to obtain an accuracy threshold."
   ]
  },
  {
   "cell_type": "code",
   "execution_count": 20,
   "metadata": {},
   "outputs": [
    {
     "name": "stderr",
     "output_type": "stream",
     "text": [
      "/home/agericke/anaconda3/lib/python3.7/site-packages/sklearn/linear_model/logistic.py:758: ConvergenceWarning: lbfgs failed to converge. Increase the number of iterations.\n",
      "  \"of iterations.\", ConvergenceWarning)\n"
     ]
    },
    {
     "data": {
      "text/plain": [
       "LogisticRegression(C=1.0, class_weight=None, dual=False, fit_intercept=True,\n",
       "          intercept_scaling=1, max_iter=100, multi_class='auto',\n",
       "          n_jobs=None, penalty='l2', random_state=None, solver='lbfgs',\n",
       "          tol=0.0001, verbose=0, warm_start=False)"
      ]
     },
     "execution_count": 20,
     "metadata": {},
     "output_type": "execute_result"
    }
   ],
   "source": [
    "lr_scikit = LogisticRegression(solver='lbfgs', multi_class='auto', max_iter=200, random_state=42)\n",
    "lr_scikit.fit(X_train, y_train)"
   ]
  },
  {
   "cell_type": "code",
   "execution_count": 21,
   "metadata": {},
   "outputs": [
    {
     "name": "stdout",
     "output_type": "stream",
     "text": [
      "accuracy on training data=0.7047635067\n",
      "accuracy on test data=0.7022229123\n"
     ]
    }
   ],
   "source": [
    "y_test_pred = lr_scikit.predict(X_test)\n",
    "y_train_pred = lr_scikit.predict(X_train)\n",
    "print('accuracy on training data={:.10f}'.format(accuracy_score(y_train_pred, y_train)))\n",
    "print('accuracy on test data={:.10f}'.format(accuracy_score(y_test_pred, y_test)))"
   ]
  },
  {
   "cell_type": "markdown",
   "metadata": {},
   "source": [
    "#### Model Tunning\n",
    "\n",
    "Lets analyse the different combinations of options for finding the best parameter configuration for the model."
   ]
  },
  {
   "cell_type": "code",
   "execution_count": 22,
   "metadata": {},
   "outputs": [],
   "source": [
    "# Creates a LogsticRegression object.\n",
    "def get_clf(penalty='l2', c=1, fit_intercept=True, solver='lbfgs', multi_class='auto',\n",
    "            max_iter=200, random_state=42, **kwds):\n",
    "    \"\"\"Function for creating a Logistic Regression object.\n",
    "    \n",
    "    Args:\n",
    "        penalty........Penalty type to be used by the Logistic Regression.\n",
    "        c..............C value for the regression.\n",
    "        solver.........Type of solver.\n",
    "        fit_intercept..Bool to indicate whther to fit or not the intercept.\n",
    "        multi_class....Specify type of multi_class to be used.\n",
    "        max_iter.......Maximum number of iterations taken for the solvers to converge.\n",
    "        random_state...RandomState instance.\n",
    "        \n",
    "    Returns:\n",
    "        A Logistic Regression classifier with the specified parameters.\n",
    "    \"\"\"\n",
    "    #print(\"get clf: {}\".format(kwds))\n",
    "    #print(\"C value = {}\".format(c))\n",
    "    return LogisticRegression(penalty=penalty, C=c, fit_intercept=fit_intercept, solver=solver, \n",
    "                              multi_class=multi_class, max_iter=max_iter, random_state=random_state)"
   ]
  },
  {
   "cell_type": "code",
   "execution_count": 23,
   "metadata": {},
   "outputs": [],
   "source": [
    "# 5-fold cross-validation accuracy\n",
    "def deviance(X, y, model):\n",
    "    \"\"\" Calculate the deviance for each model.\n",
    "    \"\"\"\n",
    "    return 2*log_loss(y, model.predict_proba(X), normalize=False)\n",
    "\n",
    "\n",
    "def do_cross_validation(X, y, X_val, y_val, n_folds=5, verbose=False, random_state=42, **kwds):\n",
    "    \"\"\"Perform a cross-validation accuracy.\n",
    "    \n",
    "    Args:\n",
    "        X.....................Training set matrix without the y value.\n",
    "        y.....................Class value for the training set.\n",
    "        X_val.................Validation set matrix without the y value.\n",
    "        y_val.................Class value for the validation set.\n",
    "        n_folds...............Number of folds to be performed by the cross-validation.\n",
    "        verbose...............Whether to print mid-results.\n",
    "        random_state..........RandomState instance.\n",
    "        **kwds................Other keyword arguments for the model.\n",
    "    \n",
    "    Returns:\n",
    "        Tuple containing accuracies and SD for the train sets, test sets and validation sets.\n",
    "    \"\"\"\n",
    "    #print(\"cross val: {}\".format(kwds))\n",
    "    cv = StratifiedKFold(n_splits=n_folds, shuffle=True, random_state=random_state)\n",
    "    val_accuracies = []\n",
    "    train_accuracies = []\n",
    "    test_accuracies = []\n",
    "    deviances = []\n",
    "    \n",
    "    for foldi, (train_ind, test_ind) in enumerate(cv.split(X, y)):\n",
    "        # Create Classification Model\n",
    "        model = get_clf(random_state=random_state, **kwds)\n",
    "        # Fit model\n",
    "        model.fit(X[train_ind, :], y[train_ind])\n",
    "        # Perform accuracy on train set\n",
    "        train_accuracies.append(accuracy_score(model.predict(X[train_ind]), y[train_ind]))\n",
    "        # Predict on test set and perform accuracy\n",
    "        acc = accuracy_score(y[test_ind], model.predict(X[test_ind, :]))\n",
    "        test_accuracies.append(acc)\n",
    "        # Predict on validation set and perform accuracy.\n",
    "        val_accuracies.append(accuracy_score(y_val, model.predict(X_val)))\n",
    "        if verbose:\n",
    "            print('fold %d accuracy=%.4g' % (foldi, acc))\n",
    "        deviances.append(deviance(X_val, y_val, model))\n",
    "\n",
    "    return (np.mean(test_accuracies), np.std(test_accuracies) / math.sqrt(n_folds),\n",
    "            np.mean(train_accuracies), np.std(train_accuracies) / math.sqrt(n_folds),\n",
    "            np.mean(val_accuracies), np.std(val_accuracies) / math.sqrt(n_folds),\n",
    "            np.mean(deviances), np.std(deviances) / math.sqrt(n_folds)\n",
    "           )\n",
    "\n",
    "def print_results(results):\n",
    "    print('test accuracy=%.4f (%.2f) train accuracy=%.4f (%.2f) validation accuracy=%.4f (%.2f) deviance=%.4f (%.2f)' % \n",
    "           results)"
   ]
  },
  {
   "cell_type": "code",
   "execution_count": 24,
   "metadata": {},
   "outputs": [],
   "source": [
    "def generate_all_opts():\n",
    "    \"\"\"\n",
    "    Enumerate all possible classifier settings and compute.\n",
    "    \"\"\"\n",
    "    penalty = ['l2']\n",
    "    fit_intercept = [True, False]\n",
    "    argnames = ['penalty', 'fit_intercept']\n",
    "    option_iter = product(penalty, fit_intercept)\n",
    "    return argnames, option_iter"
   ]
  },
  {
   "cell_type": "code",
   "execution_count": 25,
   "metadata": {},
   "outputs": [],
   "source": [
    "def eval_all_combinations(X_train, y_train, X_test, y_test, n_folds=5, verbose=False, c_eval=False,\n",
    "                          cs=[], **kwds):\n",
    "    \"\"\"Evaluate all combinations of options.\n",
    "    \"\"\"\n",
    "    results = []\n",
    "    \n",
    "    if len(cs) > 0:\n",
    "        for c in cs:\n",
    "            #print(\"eval comb: {}\".format(kwds))\n",
    "            accs = do_cross_validation(X_train.to_numpy(), y_train.to_numpy(), X_test.to_numpy(),\n",
    "                                       y_test.to_numpy(), n_folds=n_folds, verbose=verbose, c=c, **kwds)\n",
    "            opts = kwds.copy()\n",
    "            opts['c'] = c\n",
    "            results.append((accs, opts))\n",
    "        results_sorted = sorted(results, key=lambda x: (-x[0][4], -x[0][0], -x[0][2]))\n",
    "    else:\n",
    "        argnames, option_iter = generate_all_opts()\n",
    "        for options in option_iter:\n",
    "            opts = {name: opt for name, opt in zip(argnames, options)}\n",
    "            accs = do_cross_validation(X_train.to_numpy(), y_train.to_numpy(), X_test.to_numpy(),\n",
    "                                          y_test.to_numpy(), n_folds=n_folds, verbose=verbose, **opts)\n",
    "            results.append((accs, opts))\n",
    "        results_sorted = sorted(results, key=lambda x: (-x[0][4], x[0][6], -x[0][0], -x[0][2]))\n",
    "    return results_sorted"
   ]
  },
  {
   "cell_type": "code",
   "execution_count": 26,
   "metadata": {},
   "outputs": [
    {
     "name": "stdout",
     "output_type": "stream",
     "text": [
      "Best options are {'penalty': 'l2', 'fit_intercept': False} with accuracy=70.20%\n"
     ]
    }
   ],
   "source": [
    "results = eval_all_combinations(X_train, y_train, X_test, y_test, verbose=False)\n",
    "best_opts = results[0][1]\n",
    "print(\"Best options are {} with accuracy={:.2%}\".format(results[0][1], results[0][0][4]))"
   ]
  },
  {
   "cell_type": "code",
   "execution_count": 27,
   "metadata": {},
   "outputs": [],
   "source": [
    "# Find the best c value\n",
    "cs = [.001, .01, .1, 1, 5, 10, 1000, 10000]\n",
    "results = eval_all_combinations(X_train, y_train, X_test, y_test, verbose=False,\n",
    "                                cs=cs, **best_opts)"
   ]
  },
  {
   "cell_type": "code",
   "execution_count": 28,
   "metadata": {},
   "outputs": [],
   "source": [
    "def plot_accuracies(results):\n",
    "    \"\"\"Plot accuracies for the different c values.\n",
    "    \"\"\"\n",
    "    #Sort results according to c values\n",
    "    results = sorted(results, key=lambda x: (x[1]['c']))\n",
    "    accs = [result[0] for result in results]\n",
    "    opts = [result[1] for result in results]\n",
    "    cs = [opt['c'] for opt in opts]\n",
    "    test_accs = [acc[0] for acc in accs]\n",
    "    test_sd = [acc[1] for acc in accs]\n",
    "    train_accs = [acc[2] for acc in accs]\n",
    "    train_sd = [acc[3] for acc in accs]\n",
    "    val_accs = [acc[4] for acc in accs]\n",
    "    val_sd = [acc[5] for acc in accs]\n",
    "    dev = [acc[6] for acc in accs]\n",
    "    dev_sd = [acc[7] for acc in accs]\n",
    "    \n",
    "    # plot accuracies\n",
    "    plt.figure()\n",
    "    plt.errorbar(cs, train_accs, fmt='go-', label='train acc', yerr=train_sd)\n",
    "    plt.errorbar(cs, test_accs, fmt='bo-', label='test acc', yerr=test_sd)\n",
    "    plt.errorbar(cs, val_accs, fmt='ro-', label='val acc', yerr=val_sd)\n",
    "    plt.xlabel('C')\n",
    "    plt.ylabel('Accuracy')\n",
    "    plt.xscale('log')\n",
    "    plt.title(\"Accuracies with different C values.\")\n",
    "    plt.ylim([0.68, 0.75])\n",
    "    plt.legend()\n",
    "    plt.show()\n",
    "    # plot deviance values\n",
    "    plt.figure()\n",
    "    plt.errorbar(cs, dev, fmt='ro-', label='deviance vals', yerr=dev_sd)\n",
    "    plt.xlabel('C')\n",
    "    plt.ylabel('deviance')\n",
    "    plt.xscale('log')\n",
    "    plt.title(\"Deviance Values with different C values.\")\n",
    "    plt.show()"
   ]
  },
  {
   "cell_type": "code",
   "execution_count": 29,
   "metadata": {},
   "outputs": [
    {
     "data": {
      "image/png": "[encoded data removed]",
      "text/plain": [
       "<Figure size 432x288 with 1 Axes>"
      ]
     },
     "metadata": {
      "needs_background": "light"
     },
     "output_type": "display_data"
    },
    {
     "data": {
      "image/png": "[encoded data removed]",
      "text/plain": [
       "<Figure size 432x288 with 1 Axes>"
      ]
     },
     "metadata": {
      "needs_background": "light"
     },
     "output_type": "display_data"
    }
   ],
   "source": [
    "plot_accuracies(results)"
   ]
  },
  {
   "cell_type": "markdown",
   "metadata": {},
   "source": [
    "1. [x] Select model evaluation crieria. - Accuracy Score + Deviance\n",
    "    - [x] ROC curve.\n",
    "    - [x] AUC values.\n",
    "2. [x] Model evaluation with GridSearch.\n",
    "3. [x] Model Performance analysis.\n",
    "4. [x] Model tunning with statistics.\n",
    "    - [x] Model evaluation comparison.\n",
    "    - [x] From scratch model backwards and forward selection.\n",
    "5. [ ] Model Summary."
   ]
  },
  {
   "cell_type": "markdown",
   "metadata": {},
   "source": [
    "####  Select Best Model.\n",
    "\n",
    "Fit a model with the best parameters."
   ]
  },
  {
   "cell_type": "code",
   "execution_count": 30,
   "metadata": {},
   "outputs": [
    {
     "name": "stdout",
     "output_type": "stream",
     "text": [
      "Best options are {'penalty': 'l2', 'fit_intercept': False, 'c': 1}\n"
     ]
    }
   ],
   "source": [
    "# Results are already sorted by val_acc, then test acc and finally train acc.\n",
    "best_opts = results[0][1]\n",
    "print('Best options are {}'.format(best_opts))"
   ]
  },
  {
   "cell_type": "code",
   "execution_count": 31,
   "metadata": {},
   "outputs": [
    {
     "name": "stdout",
     "output_type": "stream",
     "text": [
      "Test Accuracy 70.2223%\n"
     ]
    }
   ],
   "source": [
    "lr_model = get_clf(**best_opts)\n",
    "lr_model.fit(X_train.to_numpy(), y_train.to_numpy())\n",
    "y_pred = lr_model.predict(X_test.to_numpy())\n",
    "print(\"Test Accuracy {:.4%}\".format(accuracy_score(y_pred, y_test)))"
   ]
  },
  {
   "cell_type": "markdown",
   "metadata": {},
   "source": [
    "####  Analysis using GridSearch"
   ]
  },
  {
   "cell_type": "code",
   "execution_count": 32,
   "metadata": {},
   "outputs": [
    {
     "data": {
      "text/plain": [
       "GridSearchCV(cv=5, error_score='raise-deprecating',\n",
       "       estimator=LogisticRegression(C=1.0, class_weight=None, dual=False, fit_intercept=True,\n",
       "          intercept_scaling=1, max_iter=200, multi_class='warn',\n",
       "          n_jobs=None, penalty='l2', random_state=42, solver='lbfgs',\n",
       "          tol=0.0001, verbose=0, warm_start=False),\n",
       "       fit_params=None, iid='warn', n_jobs=None,\n",
       "       param_grid={'penalty': ['l2'], 'C': [0.001, 0.01, 0.1, 1, 5, 10, 1000, 10000], 'fit_intercept': [True]},\n",
       "       pre_dispatch='2*n_jobs', refit=True, return_train_score='warn',\n",
       "       scoring=None, verbose=0)"
      ]
     },
     "execution_count": 32,
     "metadata": {},
     "output_type": "execute_result"
    }
   ],
   "source": [
    "cs = [.001, .01, .1, 1, 5, 10, 1000, 10000]\n",
    "parameters = {'penalty': ['l2'], 'C':cs, 'fit_intercept': [True]}\n",
    "model = LogisticRegression(solver='lbfgs', random_state=42, max_iter=200)\n",
    "grid = GridSearchCV(model, parameters, cv=5)\n",
    "grid.fit(X_train.to_numpy(), y_train.to_numpy())"
   ]
  },
  {
   "cell_type": "code",
   "execution_count": 33,
   "metadata": {},
   "outputs": [
    {
     "name": "stdout",
     "output_type": "stream",
     "text": [
      "Best parameters found with GridSearch Function: {'C': 1000, 'fit_intercept': True, 'penalty': 'l2'}\n"
     ]
    }
   ],
   "source": [
    "print('Best parameters found with GridSearch Function: {}'.format(grid.best_params_))"
   ]
  },
  {
   "cell_type": "code",
   "execution_count": 34,
   "metadata": {},
   "outputs": [
    {
     "name": "stdout",
     "output_type": "stream",
     "text": [
      "Test Accuracy 70.2119%\n"
     ]
    }
   ],
   "source": [
    "lr_model = grid.best_estimator_\n",
    "lr_model.fit(X_train.to_numpy(), y_train.to_numpy())\n",
    "y_pred = lr_model.predict(X_test.to_numpy())\n",
    "y_pred_prob = lr_model.predict_proba(X_test.to_numpy())\n",
    "\n",
    "print(\"Test Accuracy {:.4%}\".format(accuracy_score(y_pred, y_test)))"
   ]
  },
  {
   "cell_type": "markdown",
   "metadata": {},
   "source": [
    "We see that the best parameters coincide with the ones that we found."
   ]
  },
  {
   "cell_type": "markdown",
   "metadata": {},
   "source": [
    "#### Model Performance Analysis"
   ]
  },
  {
   "cell_type": "code",
   "execution_count": 82,
   "metadata": {},
   "outputs": [
    {
     "name": "stdout",
     "output_type": "stream",
     "text": [
      "Successful Terms:\n",
      "staff_pick (2.34902)\n",
      "main_category_design (2.05264)\n",
      "main_category_dance (1.27395)\n",
      "main_category_theater (1.23736)\n",
      "main_category_comics (1.08088)\n",
      "main_category_games (0.900108)\n",
      "main_category_film-&-video (0.656736)\n",
      "state_VT (0.644108)\n",
      "main_category_music (0.587684)\n",
      "state_NY (0.488475)\n",
      "\n",
      "Fail Terms:\n",
      "main_category_journalism (-1.22942)\n",
      "state_MS (-0.956004)\n",
      "duration_in_days_bin_(45.0, inf] (-0.814076)\n",
      "state_NE (-0.803603)\n",
      "state_OK (-0.714515)\n",
      "state_SD (-0.675443)\n",
      "state_KS (-0.645074)\n",
      "state_AR (-0.636539)\n",
      "state_AL (-0.625548)\n",
      "state_WV (-0.610407)\n"
     ]
    }
   ],
   "source": [
    "# Lets analyze the terms more related to the different classes.\n",
    "# Coefficients for the positive class\n",
    "coef = lr_model.coef_[0]\n",
    "cols =  X_train.columns\n",
    "srted = np.argsort(coef)\n",
    "# Pick top 10 coef. in descendent order\n",
    "topi = srted[::-1][:10]\n",
    "boti = srted[:10]\n",
    "print('Successful Terms:\\n' + '\\n'.join('%s (%g)' % (n, c) for n, c in zip(cols[topi], coef[topi])))\n",
    "print('\\nFail Terms:\\n' + '\\n'.join('%s (%g)' % (n, c) for n, c in zip(cols[boti], coef[boti])))"
   ]
  },
  {
   "cell_type": "code",
   "execution_count": 83,
   "metadata": {},
   "outputs": [
    {
     "data": {
      "text/plain": [
       "Text(0.5, 257.44, 'Predicted label')"
      ]
     },
     "execution_count": 83,
     "metadata": {},
     "output_type": "execute_result"
    },
    {
     "data": {
      "image/png": "[encoded data removed]",
      "text/plain": [
       "<Figure size 432x288 with 2 Axes>"
      ]
     },
     "metadata": {
      "needs_background": "light"
     },
     "output_type": "display_data"
    }
   ],
   "source": [
    "# Lets analyze the confusion matrix\n",
    "cnf_matrix = confusion_matrix(y_test.to_numpy(), y_pred)\n",
    "\n",
    "class_names=['fail','successful'] # name  of classes\n",
    "\n",
    "fig, ax = plt.subplots()\n",
    "tick_marks = np.arange(len(class_names))\n",
    "plt.xticks(tick_marks, class_names)\n",
    "plt.yticks(tick_marks, class_names)\n",
    "# create heatmap\n",
    "sns.heatmap(pd.DataFrame(cnf_matrix), annot=True, cmap=\"YlGnBu\" ,fmt='g')\n",
    "ax.xaxis.set_label_position(\"top\")\n",
    "plt.tight_layout()\n",
    "plt.title('Confusion matrix', y=1.1)\n",
    "plt.ylabel('Actual label')\n",
    "plt.xlabel('Predicted label')"
   ]
  },
  {
   "cell_type": "code",
   "execution_count": 84,
   "metadata": {},
   "outputs": [
    {
     "name": "stdout",
     "output_type": "stream",
     "text": [
      "Accuracy Score: 70.21%\n",
      "Precision Score: 72.38%\n",
      "Recall Score: 74.64% \n",
      "\n",
      "              precision    recall  f1-score   support\n",
      "\n",
      "        fail       0.67      0.65      0.66     17266\n",
      "  successful       0.72      0.75      0.73     21377\n",
      "\n",
      "   micro avg       0.70      0.70      0.70     38643\n",
      "   macro avg       0.70      0.70      0.70     38643\n",
      "weighted avg       0.70      0.70      0.70     38643\n",
      "\n"
     ]
    }
   ],
   "source": [
    "print(\"Accuracy Score: {:.2%}\".format(accuracy_score(y_test, y_pred)))\n",
    "print(\"Precision Score: {:.2%}\".format(precision_score(y_test, y_pred)))\n",
    "print(\"Recall Score: {:.2%} \\n\".format(recall_score(y_test, y_pred)))\n",
    "print(classification_report(y_test, y_pred, target_names=class_names))"
   ]
  },
  {
   "cell_type": "code",
   "execution_count": 85,
   "metadata": {},
   "outputs": [
    {
     "name": "stdout",
     "output_type": "stream",
     "text": [
      "No Skill: ROC AUC = 0.500\n",
      "Logistic: ROC AUC = 0.771\n"
     ]
    }
   ],
   "source": [
    "# Lets take a look at the ROC curve.\n",
    "ns_probs = [1 for _ in range(len(y_test))] # No skill predictor\n",
    "# Keep only probabilities for Successful class\n",
    "y_pred_prob_pos = y_pred_prob[:, 1]\n",
    "# Calculate ROC scores\n",
    "ns_roc = roc_auc_score(y_test, ns_probs)\n",
    "model_roc = roc_auc_score(y_test, y_pred_prob_pos)\n",
    "print(\"No Skill: ROC AUC = {:.3f}\".format(ns_roc))\n",
    "print(\"Logistic: ROC AUC = {:.3f}\".format(model_roc))\n",
    "\n",
    "# Calculate roc curves\n",
    "ns_fpr, ns_tpr, thresholds = roc_curve(y_test, ns_probs)\n",
    "model_fpr, model_tpr, thresholds = roc_curve(y_test, y_pred_prob_pos)"
   ]
  },
  {
   "cell_type": "code",
   "execution_count": 86,
   "metadata": {},
   "outputs": [],
   "source": [
    "# Calculate precision-recall curve\n",
    "precision, recall, thresholds = precision_recall_curve(y_test.to_numpy(), y_pred_prob_pos)"
   ]
  },
  {
   "cell_type": "code",
   "execution_count": 87,
   "metadata": {},
   "outputs": [
    {
     "data": {
      "image/png": "[encoded data removed]",
      "text/plain": [
       "<Figure size 576x432 with 1 Axes>"
      ]
     },
     "metadata": {
      "needs_background": "light"
     },
     "output_type": "display_data"
    }
   ],
   "source": [
    "# Plot Roc Curves\n",
    "fig = plt.figure(figsize=(8, 6))\n",
    "plt.plot(model_fpr, model_tpr, color='darkorange',lw=2, label='ROC curve (area = {:.2f})'.format(model_roc))\n",
    "plt.plot(ns_fpr, ns_tpr, color='navy', lw=2, linestyle='--')\n",
    "plt.xlim([0.0, 1.0])\n",
    "plt.ylim([0.0, 1.05])\n",
    "plt.xlabel('False Positive Rate')\n",
    "plt.ylabel('True Positive Rate')\n",
    "plt.title('Receiver operating Characteristic curve')\n",
    "plt.legend(loc=\"lower right\")\n",
    "plt.show()"
   ]
  },
  {
   "cell_type": "code",
   "execution_count": 41,
   "metadata": {},
   "outputs": [
    {
     "data": {
      "image/png": "[encoded data removed]",
      "text/plain": [
       "<Figure size 576x432 with 1 Axes>"
      ]
     },
     "metadata": {
      "needs_background": "light"
     },
     "output_type": "display_data"
    }
   ],
   "source": [
    "fig = plt.figure(figsize=(8, 6))\n",
    "plt.plot(precision, recall, label='Prec-Recall')\n",
    "#plt.xlim([0.0, 1.0])\n",
    "#plt.ylim([0.0, 1.05])\n",
    "plt.xlabel('Precision')\n",
    "plt.ylabel('Recall')\n",
    "plt.title('Precision-Recall Curve')\n",
    "plt.legend(loc=\"upper right\")\n",
    "plt.show()"
   ]
  },
  {
   "cell_type": "markdown",
   "metadata": {},
   "source": [
    "#### Recursive Feature Selection"
   ]
  },
  {
   "cell_type": "code",
   "execution_count": 42,
   "metadata": {},
   "outputs": [
    {
     "data": {
      "text/plain": [
       "77"
      ]
     },
     "execution_count": 42,
     "metadata": {},
     "output_type": "execute_result"
    }
   ],
   "source": [
    "len(lr_model.coef_[0])"
   ]
  },
  {
   "cell_type": "code",
   "execution_count": 43,
   "metadata": {},
   "outputs": [
    {
     "data": {
      "text/plain": [
       "RFECV(cv=StratifiedKFold(n_splits=5, random_state=None, shuffle=False),\n",
       "   estimator=LogisticRegression(C=1000, class_weight=None, dual=False, fit_intercept=True,\n",
       "          intercept_scaling=1, max_iter=200, multi_class='warn',\n",
       "          n_jobs=None, penalty='l2', random_state=42, solver='lbfgs',\n",
       "          tol=0.0001, verbose=0, warm_start=False),\n",
       "   min_features_to_select=1, n_jobs=None, scoring=None, step=2, verbose=0)"
      ]
     },
     "execution_count": 43,
     "metadata": {},
     "output_type": "execute_result"
    }
   ],
   "source": [
    "rfecv = RFECV(estimator=grid.best_estimator_, step=2, cv=StratifiedKFold(5))\n",
    "rfecv.fit(X_train.to_numpy(), y_train.to_numpy())"
   ]
  },
  {
   "cell_type": "code",
   "execution_count": 44,
   "metadata": {},
   "outputs": [
    {
     "name": "stdout",
     "output_type": "stream",
     "text": [
      "Optimal number of features : 75\n"
     ]
    },
    {
     "data": {
      "image/png": "[encoded data removed]",
      "text/plain": [
       "<Figure size 720x576 with 1 Axes>"
      ]
     },
     "metadata": {
      "needs_background": "light"
     },
     "output_type": "display_data"
    }
   ],
   "source": [
    "print(\"Optimal number of features : %d\" % rfecv.n_features_)\n",
    "\n",
    "# Plot number of features VS. cross-validation scores\n",
    "plt.figure(figsize=(10, 8))\n",
    "plt.xlabel(\"Number of features selected\")\n",
    "plt.ylabel(\"Cross validation score (# of correct classifications)\")\n",
    "plt.plot(range(1, len(rfecv.support_) + 2, 2), rfecv.grid_scores_)\n",
    "plt.show()"
   ]
  },
  {
   "cell_type": "markdown",
   "metadata": {},
   "source": [
    "### 2.2.2 Statistics Analysis\n",
    "\n",
    "For performing also a statistical analysis on the model and its parameters we will use the package stats."
   ]
  },
  {
   "cell_type": "code",
   "execution_count": 45,
   "metadata": {},
   "outputs": [],
   "source": [
    "def create_model_formula(target_var, x_vars, include_intercept=True):\n",
    "    \"\"\"Function for creating a formula.\n",
    "    \n",
    "    Args:\n",
    "        target_var..........Dependent variable.\n",
    "        x_vars..............List of independent variable.\n",
    "        include_intercept...Bool to indicate whether to include or not the intercept.\n",
    "    Returns:\n",
    "        A string representing the formula to be passed.\n",
    "    \"\"\"\n",
    "    if include_intercept:\n",
    "        separator = \" + \"\n",
    "        model_form = target_var + \" ~ \" + separator.join(x_vars)\n",
    "    else:\n",
    "        separator = \" + \"\n",
    "        model_form = target_var + \" ~ \" + separator.join(x_vars) + \" - 1\"\n",
    "    \n",
    "    return model_form\n",
    "\n",
    "\n",
    "def remove_vars_from_formula(formula, vars_to_remove):\n",
    "    \"\"\"Remove specific vars from the formula.\n",
    "    \n",
    "    Args:\n",
    "        formula...........Formula to be applied in the model.\n",
    "        args_to_remove....List of variables to remove from the formula.\n",
    "    \n",
    "    Returns:\n",
    "        A string representing the formula.\n",
    "    \"\"\"\n",
    "    separator = \" - \"\n",
    "    model_form = formula + separator + separator.join(vars_to_remove)\n",
    "    \n",
    "    return model_form"
   ]
  },
  {
   "cell_type": "code",
   "execution_count": 46,
   "metadata": {},
   "outputs": [],
   "source": [
    "df_model = pd.concat([y_train, X_train], axis=1)\n",
    "df_model.rename(\n",
    "    columns={'ln(goal_usd)': 'ln_goal_usd', 'main_category_film-&-video': 'main_category_film_video',\n",
    "             #'duration_in_days_bin_(0.0, 29.0]': 'duration_in_days_low',\n",
    "             'duration_in_days_bin_(29.0, 45.0]': 'duration_in_days_medium',\n",
    "             'duration_in_days_bin_(45.0, inf]': 'duration_in_days_high',\n",
    "             #'num_competitors_bin_(0.0, 10.0]': 'num_competitors_low',\n",
    "             'num_competitors_bin_(10.0, 30.0]': 'num_competitors_medium',\n",
    "             'num_competitors_bin_(30.0, inf]': 'num_competitors_high'},\n",
    "    inplace=True\n",
    ")\n",
    "\n",
    "target_var = 'result'\n",
    "x_vars = [col for col in df_model.columns if col != target_var]\n",
    "model_form = create_model_formula(target_var, x_vars)"
   ]
  },
  {
   "cell_type": "code",
   "execution_count": 47,
   "metadata": {},
   "outputs": [],
   "source": [
    "lr_stats = smf.glm(formula=model_form, data=df_model, family=sm.families.Binomial()).fit(method='lbfgs')"
   ]
  },
  {
   "cell_type": "code",
   "execution_count": 48,
   "metadata": {},
   "outputs": [
    {
     "data": {
      "text/html": [
       "<table class=\"simpletable\">\n",
       "<tr>\n",
       "        <td>Model:</td>               <td>GLM</td>           <td>Method:</td>         <td>IRLS</td>     \n",
       "</tr>\n",
       "<tr>\n",
       "    <td>Link Function:</td>          <td>logit</td>           <td>AIC:</td>        <td>174954.2070</td> \n",
       "</tr>\n",
       "<tr>\n",
       "  <td>Dependent Variable:</td>      <td>result</td>           <td>BIC:</td>       <td>-1671147.3163</td>\n",
       "</tr>\n",
       "<tr>\n",
       "         <td>Date:</td>        <td>2020-07-08 19:32</td> <td>Log-Likelihood:</td>    <td>-87399.</td>   \n",
       "</tr>\n",
       "<tr>\n",
       "   <td>No. Observations:</td>       <td>154571</td>         <td>LL-Null:</td>      <td>-1.0626e+05</td> \n",
       "</tr>\n",
       "<tr>\n",
       "       <td>Df Model:</td>             <td>77</td>           <td>Deviance:</td>     <td>1.7480e+05</td>  \n",
       "</tr>\n",
       "<tr>\n",
       "     <td>Df Residuals:</td>         <td>154493</td>       <td>Pearson chi2:</td>    <td>1.60e+05</td>   \n",
       "</tr>\n",
       "<tr>\n",
       "      <td>Converged:</td>           <td>1.0000</td>          <td>Scale:</td>         <td>1.0000</td>    \n",
       "</tr>\n",
       "<tr>\n",
       "    <td>No. Iterations:</td>        <td>2.0000</td>             <td></td>               <td></td>       \n",
       "</tr>\n",
       "</table>\n",
       "<table class=\"simpletable\">\n",
       "<tr>\n",
       "              <td></td>               <th>Coef.</th>  <th>Std.Err.</th>     <th>z</th>     <th>P>|z|</th> <th>[0.025</th>  <th>0.975]</th> \n",
       "</tr>\n",
       "<tr>\n",
       "  <th>Intercept</th>                 <td>0.1705</td>   <td>0.1128</td>   <td>1.5113</td>  <td>0.1307</td> <td>-0.0506</td> <td>0.3916</td> \n",
       "</tr>\n",
       "<tr>\n",
       "  <th>staff_pick</th>                <td>2.3472</td>   <td>0.0260</td>   <td>90.2397</td> <td>0.0000</td> <td>2.2962</td>  <td>2.3981</td> \n",
       "</tr>\n",
       "<tr>\n",
       "  <th>ln_goal_usd</th>               <td>-0.4894</td>  <td>0.0065</td>  <td>-75.3115</td> <td>0.0000</td> <td>-0.5022</td> <td>-0.4767</td>\n",
       "</tr>\n",
       "<tr>\n",
       "  <th>month_launch</th>              <td>-0.0288</td>  <td>0.0058</td>   <td>-4.9544</td> <td>0.0000</td> <td>-0.0401</td> <td>-0.0174</td>\n",
       "</tr>\n",
       "<tr>\n",
       "  <th>main_category_comics</th>      <td>1.0809</td>   <td>0.0375</td>   <td>28.8011</td> <td>0.0000</td> <td>1.0074</td>  <td>1.1545</td> \n",
       "</tr>\n",
       "<tr>\n",
       "  <th>main_category_crafts</th>      <td>-0.6034</td>  <td>0.0429</td>  <td>-14.0498</td> <td>0.0000</td> <td>-0.6876</td> <td>-0.5193</td>\n",
       "</tr>\n",
       "<tr>\n",
       "  <th>main_category_dance</th>       <td>1.2739</td>   <td>0.0642</td>   <td>19.8573</td> <td>0.0000</td> <td>1.1481</td>  <td>1.3996</td> \n",
       "</tr>\n",
       "<tr>\n",
       "  <th>main_category_design</th>      <td>2.0526</td>   <td>0.0398</td>   <td>51.5971</td> <td>0.0000</td> <td>1.9746</td>  <td>2.1305</td> \n",
       "</tr>\n",
       "<tr>\n",
       "  <th>main_category_fashion</th>     <td>-0.2622</td>  <td>0.0294</td>   <td>-8.9269</td> <td>0.0000</td> <td>-0.3197</td> <td>-0.2046</td>\n",
       "</tr>\n",
       "<tr>\n",
       "  <th>main_category_film_video</th>  <td>0.6569</td>   <td>0.0250</td>   <td>26.2644</td> <td>0.0000</td> <td>0.6079</td>  <td>0.7059</td> \n",
       "</tr>\n",
       "<tr>\n",
       "  <th>main_category_food</th>        <td>-0.0200</td>  <td>0.0301</td>   <td>-0.6631</td> <td>0.5073</td> <td>-0.0789</td> <td>0.0390</td> \n",
       "</tr>\n",
       "<tr>\n",
       "  <th>main_category_games</th>       <td>0.9003</td>   <td>0.0278</td>   <td>32.3693</td> <td>0.0000</td> <td>0.8458</td>  <td>0.9548</td> \n",
       "</tr>\n",
       "<tr>\n",
       "  <th>main_category_journalism</th>  <td>-1.2281</td>  <td>0.0563</td>  <td>-21.8265</td> <td>0.0000</td> <td>-1.3384</td> <td>-1.1178</td>\n",
       "</tr>\n",
       "<tr>\n",
       "  <th>main_category_music</th>       <td>0.5878</td>   <td>0.0241</td>   <td>24.4071</td> <td>0.0000</td> <td>0.5406</td>  <td>0.6350</td> \n",
       "</tr>\n",
       "<tr>\n",
       "  <th>main_category_photography</th> <td>-0.0456</td>  <td>0.0429</td>   <td>-1.0621</td> <td>0.2882</td> <td>-0.1297</td> <td>0.0385</td> \n",
       "</tr>\n",
       "<tr>\n",
       "  <th>main_category_publishing</th>  <td>-0.2597</td>  <td>0.0248</td>  <td>-10.4624</td> <td>0.0000</td> <td>-0.3084</td> <td>-0.2111</td>\n",
       "</tr>\n",
       "<tr>\n",
       "  <th>main_category_technology</th>  <td>-0.4368</td>  <td>0.0297</td>  <td>-14.7301</td> <td>0.0000</td> <td>-0.4949</td> <td>-0.3787</td>\n",
       "</tr>\n",
       "<tr>\n",
       "  <th>main_category_theater</th>     <td>1.2379</td>   <td>0.0448</td>   <td>27.6041</td> <td>0.0000</td> <td>1.1500</td>  <td>1.3258</td> \n",
       "</tr>\n",
       "<tr>\n",
       "  <th>state_AL</th>                  <td>-0.6254</td>  <td>0.1321</td>   <td>-4.7334</td> <td>0.0000</td> <td>-0.8843</td> <td>-0.3664</td>\n",
       "</tr>\n",
       "<tr>\n",
       "  <th>state_AR</th>                  <td>-0.6365</td>  <td>0.1441</td>   <td>-4.4183</td> <td>0.0000</td> <td>-0.9189</td> <td>-0.3542</td>\n",
       "</tr>\n",
       "<tr>\n",
       "  <th>state_AZ</th>                  <td>-0.3388</td>  <td>0.1176</td>   <td>-2.8801</td> <td>0.0040</td> <td>-0.5693</td> <td>-0.1082</td>\n",
       "</tr>\n",
       "<tr>\n",
       "  <th>state_CA</th>                  <td>0.4223</td>   <td>0.1129</td>   <td>3.7387</td>  <td>0.0002</td> <td>0.2009</td>  <td>0.6436</td> \n",
       "</tr>\n",
       "<tr>\n",
       "  <th>state_CO</th>                  <td>-0.0875</td>  <td>0.1164</td>   <td>-0.7520</td> <td>0.4521</td> <td>-0.3156</td> <td>0.1406</td> \n",
       "</tr>\n",
       "<tr>\n",
       "  <th>state_CT</th>                  <td>-0.1586</td>  <td>0.1262</td>   <td>-1.2571</td> <td>0.2087</td> <td>-0.4059</td> <td>0.0887</td> \n",
       "</tr>\n",
       "<tr>\n",
       "  <th>state_DC</th>                  <td>0.0453</td>   <td>0.1239</td>   <td>0.3651</td>  <td>0.7150</td> <td>-0.1977</td> <td>0.2882</td> \n",
       "</tr>\n",
       "<tr>\n",
       "  <th>state_DE</th>                  <td>-0.3129</td>  <td>0.1655</td>   <td>-1.8908</td> <td>0.0586</td> <td>-0.6373</td> <td>0.0114</td> \n",
       "</tr>\n",
       "<tr>\n",
       "  <th>state_FL</th>                  <td>-0.6072</td>  <td>0.1138</td>   <td>-5.3356</td> <td>0.0000</td> <td>-0.8302</td> <td>-0.3842</td>\n",
       "</tr>\n",
       "<tr>\n",
       "  <th>state_GA</th>                  <td>-0.5686</td>  <td>0.1157</td>   <td>-4.9131</td> <td>0.0000</td> <td>-0.7955</td> <td>-0.3418</td>\n",
       "</tr>\n",
       "<tr>\n",
       "  <th>state_HI</th>                  <td>-0.2116</td>  <td>0.1398</td>   <td>-1.5136</td> <td>0.1301</td> <td>-0.4855</td> <td>0.0624</td> \n",
       "</tr>\n",
       "<tr>\n",
       "  <th>state_IA</th>                  <td>-0.3522</td>  <td>0.1364</td>   <td>-2.5816</td> <td>0.0098</td> <td>-0.6195</td> <td>-0.0848</td>\n",
       "</tr>\n",
       "<tr>\n",
       "  <th>state_ID</th>                  <td>-0.3673</td>  <td>0.1352</td>   <td>-2.7174</td> <td>0.0066</td> <td>-0.6322</td> <td>-0.1024</td>\n",
       "</tr>\n",
       "<tr>\n",
       "  <th>state_IL</th>                  <td>0.0559</td>   <td>0.1144</td>   <td>0.4890</td>  <td>0.6249</td> <td>-0.1683</td> <td>0.2801</td> \n",
       "</tr>\n",
       "<tr>\n",
       "  <th>state_IN</th>                  <td>-0.5437</td>  <td>0.1214</td>   <td>-4.4778</td> <td>0.0000</td> <td>-0.7817</td> <td>-0.3057</td>\n",
       "</tr>\n",
       "<tr>\n",
       "  <th>state_KS</th>                  <td>-0.6458</td>  <td>0.1376</td>   <td>-4.6939</td> <td>0.0000</td> <td>-0.9155</td> <td>-0.3762</td>\n",
       "</tr>\n",
       "<tr>\n",
       "  <th>state_KY</th>                  <td>-0.5296</td>  <td>0.1286</td>   <td>-4.1175</td> <td>0.0000</td> <td>-0.7817</td> <td>-0.2775</td>\n",
       "</tr>\n",
       "<tr>\n",
       "  <th>state_LA</th>                  <td>-0.2447</td>  <td>0.1262</td>   <td>-1.9382</td> <td>0.0526</td> <td>-0.4921</td> <td>0.0027</td> \n",
       "</tr>\n",
       "<tr>\n",
       "  <th>state_MA</th>                  <td>0.3541</td>   <td>0.1158</td>   <td>3.0568</td>  <td>0.0022</td> <td>0.1271</td>  <td>0.5812</td> \n",
       "</tr>\n",
       "<tr>\n",
       "  <th>state_MD</th>                  <td>-0.3544</td>  <td>0.1203</td>   <td>-2.9457</td> <td>0.0032</td> <td>-0.5903</td> <td>-0.1186</td>\n",
       "</tr>\n",
       "<tr>\n",
       "  <th>state_ME</th>                  <td>0.0597</td>   <td>0.1360</td>   <td>0.4390</td>  <td>0.6607</td> <td>-0.2069</td> <td>0.3263</td> \n",
       "</tr>\n",
       "<tr>\n",
       "  <th>state_MI</th>                  <td>-0.2899</td>  <td>0.1164</td>   <td>-2.4902</td> <td>0.0128</td> <td>-0.5180</td> <td>-0.0617</td>\n",
       "</tr>\n",
       "<tr>\n",
       "  <th>state_MN</th>                  <td>0.0773</td>   <td>0.1182</td>   <td>0.6540</td>  <td>0.5131</td> <td>-0.1544</td> <td>0.3091</td> \n",
       "</tr>\n",
       "<tr>\n",
       "  <th>state_MO</th>                  <td>-0.4532</td>  <td>0.1194</td>   <td>-3.7944</td> <td>0.0001</td> <td>-0.6873</td> <td>-0.2191</td>\n",
       "</tr>\n",
       "<tr>\n",
       "  <th>state_MS</th>                  <td>-0.9585</td>  <td>0.1552</td>   <td>-6.1770</td> <td>0.0000</td> <td>-1.2626</td> <td>-0.6544</td>\n",
       "</tr>\n",
       "<tr>\n",
       "  <th>state_MT</th>                  <td>0.0784</td>   <td>0.1448</td>   <td>0.5412</td>  <td>0.5884</td> <td>-0.2054</td> <td>0.3622</td> \n",
       "</tr>\n",
       "<tr>\n",
       "  <th>state_NC</th>                  <td>-0.3496</td>  <td>0.1166</td>   <td>-2.9989</td> <td>0.0027</td> <td>-0.5780</td> <td>-0.1211</td>\n",
       "</tr>\n",
       "<tr>\n",
       "  <th>state_ND</th>                  <td>-0.5289</td>  <td>0.2065</td>   <td>-2.5618</td> <td>0.0104</td> <td>-0.9336</td> <td>-0.1243</td>\n",
       "</tr>\n",
       "<tr>\n",
       "  <th>state_NE</th>                  <td>-0.8042</td>  <td>0.1497</td>   <td>-5.3719</td> <td>0.0000</td> <td>-1.0976</td> <td>-0.5108</td>\n",
       "</tr>\n",
       "<tr>\n",
       "  <th>state_NH</th>                  <td>0.0486</td>   <td>0.1405</td>   <td>0.3460</td>  <td>0.7293</td> <td>-0.2268</td> <td>0.3240</td> \n",
       "</tr>\n",
       "<tr>\n",
       "  <th>state_NJ</th>                  <td>-0.3512</td>  <td>0.1190</td>   <td>-2.9520</td> <td>0.0032</td> <td>-0.5844</td> <td>-0.1180</td>\n",
       "</tr>\n",
       "<tr>\n",
       "  <th>state_NM</th>                  <td>-0.1924</td>  <td>0.1338</td>   <td>-1.4376</td> <td>0.1506</td> <td>-0.4546</td> <td>0.0699</td> \n",
       "</tr>\n",
       "<tr>\n",
       "  <th>state_NV</th>                  <td>-0.3463</td>  <td>0.1223</td>   <td>-2.8307</td> <td>0.0046</td> <td>-0.5861</td> <td>-0.1065</td>\n",
       "</tr>\n",
       "<tr>\n",
       "  <th>state_NY</th>                  <td>0.4880</td>   <td>0.1128</td>   <td>4.3242</td>  <td>0.0000</td> <td>0.2668</td>  <td>0.7091</td> \n",
       "</tr>\n",
       "<tr>\n",
       "  <th>state_OH</th>                  <td>-0.3864</td>  <td>0.1158</td>   <td>-3.3376</td> <td>0.0008</td> <td>-0.6134</td> <td>-0.1595</td>\n",
       "</tr>\n",
       "<tr>\n",
       "  <th>state_OK</th>                  <td>-0.7141</td>  <td>0.1319</td>   <td>-5.4160</td> <td>0.0000</td> <td>-0.9726</td> <td>-0.4557</td>\n",
       "</tr>\n",
       "<tr>\n",
       "  <th>state_OR</th>                  <td>0.2248</td>   <td>0.1163</td>   <td>1.9337</td>  <td>0.0532</td> <td>-0.0031</td> <td>0.4527</td> \n",
       "</tr>\n",
       "<tr>\n",
       "  <th>state_PA</th>                  <td>-0.1101</td>  <td>0.1149</td>   <td>-0.9583</td> <td>0.3379</td> <td>-0.3353</td> <td>0.1151</td> \n",
       "</tr>\n",
       "<tr>\n",
       "  <th>state_RI</th>                  <td>0.1323</td>   <td>0.1460</td>   <td>0.9065</td>  <td>0.3646</td> <td>-0.1538</td> <td>0.4185</td> \n",
       "</tr>\n",
       "<tr>\n",
       "  <th>state_SC</th>                  <td>-0.4791</td>  <td>0.1269</td>   <td>-3.7745</td> <td>0.0002</td> <td>-0.7279</td> <td>-0.2303</td>\n",
       "</tr>\n",
       "<tr>\n",
       "  <th>state_SD</th>                  <td>-0.6771</td>  <td>0.1875</td>   <td>-3.6112</td> <td>0.0003</td> <td>-1.0446</td> <td>-0.3096</td>\n",
       "</tr>\n",
       "<tr>\n",
       "  <th>state_TN</th>                  <td>-0.0398</td>  <td>0.1170</td>   <td>-0.3402</td> <td>0.7337</td> <td>-0.2691</td> <td>0.1895</td> \n",
       "</tr>\n",
       "<tr>\n",
       "  <th>state_TX</th>                  <td>-0.1999</td>  <td>0.1133</td>   <td>-1.7643</td> <td>0.0777</td> <td>-0.4220</td> <td>0.0222</td> \n",
       "</tr>\n",
       "<tr>\n",
       "  <th>state_UT</th>                  <td>0.0419</td>   <td>0.1188</td>   <td>0.3528</td>  <td>0.7242</td> <td>-0.1910</td> <td>0.2748</td> \n",
       "</tr>\n",
       "<tr>\n",
       "  <th>state_VA</th>                  <td>-0.3361</td>  <td>0.1177</td>   <td>-2.8554</td> <td>0.0043</td> <td>-0.5669</td> <td>-0.1054</td>\n",
       "</tr>\n",
       "<tr>\n",
       "  <th>state_VT</th>                  <td>0.6433</td>   <td>0.1444</td>   <td>4.4542</td>  <td>0.0000</td> <td>0.3602</td>  <td>0.9263</td> \n",
       "</tr>\n",
       "<tr>\n",
       "  <th>state_WA</th>                  <td>0.2274</td>   <td>0.1148</td>   <td>1.9813</td>  <td>0.0476</td> <td>0.0024</td>  <td>0.4524</td> \n",
       "</tr>\n",
       "<tr>\n",
       "  <th>state_WI</th>                  <td>-0.2560</td>  <td>0.1214</td>   <td>-2.1093</td> <td>0.0349</td> <td>-0.4939</td> <td>-0.0181</td>\n",
       "</tr>\n",
       "<tr>\n",
       "  <th>state_WV</th>                  <td>-0.6091</td>  <td>0.1653</td>   <td>-3.6854</td> <td>0.0002</td> <td>-0.9331</td> <td>-0.2852</td>\n",
       "</tr>\n",
       "<tr>\n",
       "  <th>state_WY</th>                  <td>0.1987</td>   <td>0.1958</td>   <td>1.0148</td>  <td>0.3102</td> <td>-0.1851</td> <td>0.5825</td> \n",
       "</tr>\n",
       "<tr>\n",
       "  <th>duration_in_days_medium</th>   <td>-0.3624</td>  <td>0.0154</td>  <td>-23.4615</td> <td>0.0000</td> <td>-0.3926</td> <td>-0.3321</td>\n",
       "</tr>\n",
       "<tr>\n",
       "  <th>duration_in_days_high</th>     <td>-0.8141</td>  <td>0.0199</td>  <td>-40.9871</td> <td>0.0000</td> <td>-0.8530</td> <td>-0.7752</td>\n",
       "</tr>\n",
       "<tr>\n",
       "  <th>weekday_launch_Tuesday</th>    <td>0.1589</td>   <td>0.0190</td>   <td>8.3497</td>  <td>0.0000</td> <td>0.1216</td>  <td>0.1962</td> \n",
       "</tr>\n",
       "<tr>\n",
       "  <th>weekday_launch_Wednesday</th>  <td>0.0820</td>   <td>0.0197</td>   <td>4.1639</td>  <td>0.0000</td> <td>0.0434</td>  <td>0.1206</td> \n",
       "</tr>\n",
       "<tr>\n",
       "  <th>weekday_launch_Thursday</th>   <td>-0.0098</td>  <td>0.0202</td>   <td>-0.4852</td> <td>0.6275</td> <td>-0.0494</td> <td>0.0298</td> \n",
       "</tr>\n",
       "<tr>\n",
       "  <th>weekday_launch_Friday</th>     <td>-0.0541</td>  <td>0.0203</td>   <td>-2.6681</td> <td>0.0076</td> <td>-0.0939</td> <td>-0.0144</td>\n",
       "</tr>\n",
       "<tr>\n",
       "  <th>weekday_launch_Saturday</th>   <td>-0.1313</td>  <td>0.0248</td>   <td>-5.2976</td> <td>0.0000</td> <td>-0.1799</td> <td>-0.0827</td>\n",
       "</tr>\n",
       "<tr>\n",
       "  <th>weekday_launch_Sunday</th>     <td>-0.1154</td>  <td>0.0280</td>   <td>-4.1179</td> <td>0.0000</td> <td>-0.1703</td> <td>-0.0605</td>\n",
       "</tr>\n",
       "<tr>\n",
       "  <th>num_competitors_medium</th>    <td>-0.2903</td>  <td>0.0184</td>  <td>-15.7955</td> <td>0.0000</td> <td>-0.3263</td> <td>-0.2543</td>\n",
       "</tr>\n",
       "<tr>\n",
       "  <th>num_competitors_high</th>      <td>-0.3999</td>  <td>0.0278</td>  <td>-14.4041</td> <td>0.0000</td> <td>-0.4543</td> <td>-0.3455</td>\n",
       "</tr>\n",
       "</table>"
      ],
      "text/plain": [
       "<class 'statsmodels.iolib.summary2.Summary'>\n",
       "\"\"\"\n",
       "                    Results: Generalized linear model\n",
       "==========================================================================\n",
       "Model:                  GLM                Method:           IRLS         \n",
       "Link Function:          logit              AIC:              174954.2070  \n",
       "Dependent Variable:     result             BIC:              -1671147.3163\n",
       "Date:                   2020-07-08 19:32   Log-Likelihood:   -87399.      \n",
       "No. Observations:       154571             LL-Null:          -1.0626e+05  \n",
       "Df Model:               77                 Deviance:         1.7480e+05   \n",
       "Df Residuals:           154493             Pearson chi2:     1.60e+05     \n",
       "Converged:              1.0000             Scale:            1.0000       \n",
       "No. Iterations:         2.0000                                            \n",
       "--------------------------------------------------------------------------\n",
       "                           Coef.  Std.Err.    z     P>|z|   [0.025  0.975]\n",
       "--------------------------------------------------------------------------\n",
       "Intercept                  0.1705   0.1128   1.5113 0.1307 -0.0506  0.3916\n",
       "staff_pick                 2.3472   0.0260  90.2397 0.0000  2.2962  2.3981\n",
       "ln_goal_usd               -0.4894   0.0065 -75.3115 0.0000 -0.5022 -0.4767\n",
       "month_launch              -0.0288   0.0058  -4.9544 0.0000 -0.0401 -0.0174\n",
       "main_category_comics       1.0809   0.0375  28.8011 0.0000  1.0074  1.1545\n",
       "main_category_crafts      -0.6034   0.0429 -14.0498 0.0000 -0.6876 -0.5193\n",
       "main_category_dance        1.2739   0.0642  19.8573 0.0000  1.1481  1.3996\n",
       "main_category_design       2.0526   0.0398  51.5971 0.0000  1.9746  2.1305\n",
       "main_category_fashion     -0.2622   0.0294  -8.9269 0.0000 -0.3197 -0.2046\n",
       "main_category_film_video   0.6569   0.0250  26.2644 0.0000  0.6079  0.7059\n",
       "main_category_food        -0.0200   0.0301  -0.6631 0.5073 -0.0789  0.0390\n",
       "main_category_games        0.9003   0.0278  32.3693 0.0000  0.8458  0.9548\n",
       "main_category_journalism  -1.2281   0.0563 -21.8265 0.0000 -1.3384 -1.1178\n",
       "main_category_music        0.5878   0.0241  24.4071 0.0000  0.5406  0.6350\n",
       "main_category_photography -0.0456   0.0429  -1.0621 0.2882 -0.1297  0.0385\n",
       "main_category_publishing  -0.2597   0.0248 -10.4624 0.0000 -0.3084 -0.2111\n",
       "main_category_technology  -0.4368   0.0297 -14.7301 0.0000 -0.4949 -0.3787\n",
       "main_category_theater      1.2379   0.0448  27.6041 0.0000  1.1500  1.3258\n",
       "state_AL                  -0.6254   0.1321  -4.7334 0.0000 -0.8843 -0.3664\n",
       "state_AR                  -0.6365   0.1441  -4.4183 0.0000 -0.9189 -0.3542\n",
       "state_AZ                  -0.3388   0.1176  -2.8801 0.0040 -0.5693 -0.1082\n",
       "state_CA                   0.4223   0.1129   3.7387 0.0002  0.2009  0.6436\n",
       "state_CO                  -0.0875   0.1164  -0.7520 0.4521 -0.3156  0.1406\n",
       "state_CT                  -0.1586   0.1262  -1.2571 0.2087 -0.4059  0.0887\n",
       "state_DC                   0.0453   0.1239   0.3651 0.7150 -0.1977  0.2882\n",
       "state_DE                  -0.3129   0.1655  -1.8908 0.0586 -0.6373  0.0114\n",
       "state_FL                  -0.6072   0.1138  -5.3356 0.0000 -0.8302 -0.3842\n",
       "state_GA                  -0.5686   0.1157  -4.9131 0.0000 -0.7955 -0.3418\n",
       "state_HI                  -0.2116   0.1398  -1.5136 0.1301 -0.4855  0.0624\n",
       "state_IA                  -0.3522   0.1364  -2.5816 0.0098 -0.6195 -0.0848\n",
       "state_ID                  -0.3673   0.1352  -2.7174 0.0066 -0.6322 -0.1024\n",
       "state_IL                   0.0559   0.1144   0.4890 0.6249 -0.1683  0.2801\n",
       "state_IN                  -0.5437   0.1214  -4.4778 0.0000 -0.7817 -0.3057\n",
       "state_KS                  -0.6458   0.1376  -4.6939 0.0000 -0.9155 -0.3762\n",
       "state_KY                  -0.5296   0.1286  -4.1175 0.0000 -0.7817 -0.2775\n",
       "state_LA                  -0.2447   0.1262  -1.9382 0.0526 -0.4921  0.0027\n",
       "state_MA                   0.3541   0.1158   3.0568 0.0022  0.1271  0.5812\n",
       "state_MD                  -0.3544   0.1203  -2.9457 0.0032 -0.5903 -0.1186\n",
       "state_ME                   0.0597   0.1360   0.4390 0.6607 -0.2069  0.3263\n",
       "state_MI                  -0.2899   0.1164  -2.4902 0.0128 -0.5180 -0.0617\n",
       "state_MN                   0.0773   0.1182   0.6540 0.5131 -0.1544  0.3091\n",
       "state_MO                  -0.4532   0.1194  -3.7944 0.0001 -0.6873 -0.2191\n",
       "state_MS                  -0.9585   0.1552  -6.1770 0.0000 -1.2626 -0.6544\n",
       "state_MT                   0.0784   0.1448   0.5412 0.5884 -0.2054  0.3622\n",
       "state_NC                  -0.3496   0.1166  -2.9989 0.0027 -0.5780 -0.1211\n",
       "state_ND                  -0.5289   0.2065  -2.5618 0.0104 -0.9336 -0.1243\n",
       "state_NE                  -0.8042   0.1497  -5.3719 0.0000 -1.0976 -0.5108\n",
       "state_NH                   0.0486   0.1405   0.3460 0.7293 -0.2268  0.3240\n",
       "state_NJ                  -0.3512   0.1190  -2.9520 0.0032 -0.5844 -0.1180\n",
       "state_NM                  -0.1924   0.1338  -1.4376 0.1506 -0.4546  0.0699\n",
       "state_NV                  -0.3463   0.1223  -2.8307 0.0046 -0.5861 -0.1065\n",
       "state_NY                   0.4880   0.1128   4.3242 0.0000  0.2668  0.7091\n",
       "state_OH                  -0.3864   0.1158  -3.3376 0.0008 -0.6134 -0.1595\n",
       "state_OK                  -0.7141   0.1319  -5.4160 0.0000 -0.9726 -0.4557\n",
       "state_OR                   0.2248   0.1163   1.9337 0.0532 -0.0031  0.4527\n",
       "state_PA                  -0.1101   0.1149  -0.9583 0.3379 -0.3353  0.1151\n",
       "state_RI                   0.1323   0.1460   0.9065 0.3646 -0.1538  0.4185\n",
       "state_SC                  -0.4791   0.1269  -3.7745 0.0002 -0.7279 -0.2303\n",
       "state_SD                  -0.6771   0.1875  -3.6112 0.0003 -1.0446 -0.3096\n",
       "state_TN                  -0.0398   0.1170  -0.3402 0.7337 -0.2691  0.1895\n",
       "state_TX                  -0.1999   0.1133  -1.7643 0.0777 -0.4220  0.0222\n",
       "state_UT                   0.0419   0.1188   0.3528 0.7242 -0.1910  0.2748\n",
       "state_VA                  -0.3361   0.1177  -2.8554 0.0043 -0.5669 -0.1054\n",
       "state_VT                   0.6433   0.1444   4.4542 0.0000  0.3602  0.9263\n",
       "state_WA                   0.2274   0.1148   1.9813 0.0476  0.0024  0.4524\n",
       "state_WI                  -0.2560   0.1214  -2.1093 0.0349 -0.4939 -0.0181\n",
       "state_WV                  -0.6091   0.1653  -3.6854 0.0002 -0.9331 -0.2852\n",
       "state_WY                   0.1987   0.1958   1.0148 0.3102 -0.1851  0.5825\n",
       "duration_in_days_medium   -0.3624   0.0154 -23.4615 0.0000 -0.3926 -0.3321\n",
       "duration_in_days_high     -0.8141   0.0199 -40.9871 0.0000 -0.8530 -0.7752\n",
       "weekday_launch_Tuesday     0.1589   0.0190   8.3497 0.0000  0.1216  0.1962\n",
       "weekday_launch_Wednesday   0.0820   0.0197   4.1639 0.0000  0.0434  0.1206\n",
       "weekday_launch_Thursday   -0.0098   0.0202  -0.4852 0.6275 -0.0494  0.0298\n",
       "weekday_launch_Friday     -0.0541   0.0203  -2.6681 0.0076 -0.0939 -0.0144\n",
       "weekday_launch_Saturday   -0.1313   0.0248  -5.2976 0.0000 -0.1799 -0.0827\n",
       "weekday_launch_Sunday     -0.1154   0.0280  -4.1179 0.0000 -0.1703 -0.0605\n",
       "num_competitors_medium    -0.2903   0.0184 -15.7955 0.0000 -0.3263 -0.2543\n",
       "num_competitors_high      -0.3999   0.0278 -14.4041 0.0000 -0.4543 -0.3455\n",
       "==========================================================================\n",
       "\n",
       "\"\"\""
      ]
     },
     "execution_count": 48,
     "metadata": {},
     "output_type": "execute_result"
    }
   ],
   "source": [
    "lr_stats.summary2()"
   ]
  },
  {
   "cell_type": "code",
   "execution_count": 49,
   "metadata": {},
   "outputs": [],
   "source": [
    "X_train_lr = X_train.rename(\n",
    "    columns={'ln(goal_usd)': 'ln_goal_usd', 'main_category_film-&-video': 'main_category_film_video',\n",
    "             #'duration_in_days_bin_(0.0, 29.0]': 'duration_in_days_low',\n",
    "             'duration_in_days_bin_(29.0, 45.0]': 'duration_in_days_medium',\n",
    "             'duration_in_days_bin_(45.0, inf]': 'duration_in_days_high',\n",
    "             #'num_competitors_bin_(0.0, 10.0]': 'num_competitors_low',\n",
    "             'num_competitors_bin_(10.0, 30.0]': 'num_competitors_medium',\n",
    "             'num_competitors_bin_(30.0, inf]': 'num_competitors_high'}\n",
    ")\n",
    "X_test_lr = X_test.rename(\n",
    "    columns={'ln(goal_usd)': 'ln_goal_usd', 'main_category_film-&-video': 'main_category_film_video',\n",
    "             #'duration_in_days_bin_(0.0, 29.0]': 'duration_in_days_low',\n",
    "             'duration_in_days_bin_(29.0, 45.0]': 'duration_in_days_medium',\n",
    "             'duration_in_days_bin_(45.0, inf]': 'duration_in_days_high',\n",
    "             #'num_competitors_bin_(0.0, 10.0]': 'num_competitors_low',\n",
    "             'num_competitors_bin_(10.0, 30.0]': 'num_competitors_medium',\n",
    "             'num_competitors_bin_(30.0, inf]': 'num_competitors_high'}\n",
    ")"
   ]
  },
  {
   "cell_type": "code",
   "execution_count": 50,
   "metadata": {},
   "outputs": [],
   "source": [
    "y_train_pred = lr_stats.predict(X_train_lr)\n",
    "y_train_pred = y_train_pred.apply(lambda x: 1 if x > 0.5 else 0)\n",
    "y_test_pred = lr_stats.predict(X_test_lr)\n",
    "y_test_pred = y_test_pred.apply(lambda x: 1 if x > 0.5 else 0)"
   ]
  },
  {
   "cell_type": "code",
   "execution_count": 51,
   "metadata": {},
   "outputs": [
    {
     "name": "stdout",
     "output_type": "stream",
     "text": [
      "Accuracy on training data=0.7047764458\n",
      "Accuracy on test data=0.7020935228\n"
     ]
    }
   ],
   "source": [
    "print('Accuracy on training data={:.10f}'.format(accuracy_score(y_train_pred, y_train)))\n",
    "print('Accuracy on test data={:.10f}'.format(accuracy_score(y_test_pred, y_test)))"
   ]
  },
  {
   "cell_type": "markdown",
   "metadata": {},
   "source": [
    "#### Stepwise selection"
   ]
  },
  {
   "cell_type": "code",
   "execution_count": 63,
   "metadata": {},
   "outputs": [],
   "source": [
    "model_form = create_model_formula('result', '1')\n",
    "lr_stats_null = smf.glm(formula=model_form, data=df_model, family=sm.families.Binomial()).fit(method='lbfgs')"
   ]
  },
  {
   "cell_type": "code",
   "execution_count": 69,
   "metadata": {},
   "outputs": [],
   "source": [
    "# Lets drop variables until all variables are significant at a given cutoff (alpha).\n",
    "alpha = .01"
   ]
  },
  {
   "cell_type": "code",
   "execution_count": 70,
   "metadata": {},
   "outputs": [],
   "source": [
    "def backward_selection(data, response, X_test, y_test, max_iter=10, alpha=0.05, verbose=False):\n",
    "    \"\"\"Linear model designed for backwards selection.\n",
    "\n",
    "    Args:\n",
    "        data..........pandas DataFrame with all possible predictors and response.\n",
    "        response......name of response column in data.\n",
    "        X_test........Test set for computing accuracy of the model.\n",
    "        y_test........Array of Test set actual labels.\n",
    "        max_iter......Maximum number of removals.\n",
    "        alpha.........Confidence threshold cutoff.\n",
    "\n",
    "    Returns:\n",
    "        model.........The final obtained model.\n",
    "        removed_cols..Dict containing remove cols and their p-values.\n",
    "        results.......Dict containing results on each interaction.\n",
    "    \"\"\"    \n",
    "    x_vars = set(data.columns)\n",
    "    x_vars.remove(response)\n",
    "    removed_cols = [] # list of dicts containing {col_name: p_value}\n",
    "    results = [] #list with dicts containing {formula: , accuracy_on_test: , aic}\n",
    "\n",
    "    # Run model with all variables\n",
    "    model_form = create_model_formula(response, x_vars)\n",
    "    if verbose:\n",
    "        print(\"Running model with formula: \\n{}\".format(model_form))\n",
    "    lr_stats = smf.glm(formula=model_form, data=data, family=sm.families.Binomial()).fit(method='lbfgs')\n",
    "    # Compute Accuracy\n",
    "    y_test_pred = lr_stats.predict(X_test)\n",
    "    y_test_pred = y_test_pred.apply(lambda x: 1 if x > 0.5 else 0)\n",
    "    test_acc = accuracy_score(y_test_pred, y_test)\n",
    "    results.append({'formula': model_form, 'test_accuracy': test_acc, 'aic': lr_stats.aic})\n",
    "    \n",
    "    p_values = lr_stats.pvalues.sort_values(ascending=False)\n",
    "    if verbose:\n",
    "            print(\"\\nTest Accuracy: {}\".format(test_acc))\n",
    "            print(\"\\nAIC: {}\".format(lr_stats.aic))\n",
    "            print(\"\\nBiggest p-value: {}:{}\".format(p_values.index[0], p_values[0]))\n",
    "    \n",
    "    while (p_values[0] > alpha) and (len(removed_cols) <= max_iter):\n",
    "        \n",
    "        removed_cols.append({p_values.index[0]: p_values[0]})\n",
    "        print(removed_cols)\n",
    "        model_form = remove_vars_from_formula(model_form, [p_values.index[0]])\n",
    "        if verbose and len(removed_cols)>1:\n",
    "            print(\"\\n\\nRunning model with formula: \\n{}\".format(model_form))\n",
    "        \n",
    "        lr_stats = smf.glm(formula=model_form, data=data, family=sm.families.Binomial()).fit(method='lbfgs')\n",
    "        y_test_pred = lr_stats.predict(X_test)\n",
    "        y_test_pred = y_test_pred.apply(lambda x: 1 if x > 0.5 else 0)\n",
    "        test_acc = accuracy_score(y_test_pred, y_test)\n",
    "        results.append({'formula': model_form, 'test_accuracy': test_acc, 'aic': lr_stats.aic})\n",
    "        if verbose:\n",
    "            print(\"\\nTest Accuracy: {}\".format(test_acc))\n",
    "            print(\"\\nAIC: {}\".format(lr_stats.aic))\n",
    "            print(\"\\nBiggest p-value: {}:{}\".format(p_values.index[0], p_values[0]))\n",
    "        \n",
    "        p_values = lr_stats.pvalues.sort_values(ascending=False)\n",
    "        \n",
    "    return lr_stats, removed_cols, results"
   ]
  },
  {
   "cell_type": "code",
   "execution_count": 71,
   "metadata": {},
   "outputs": [
    {
     "name": "stdout",
     "output_type": "stream",
     "text": [
      "Running model with formula: \n",
      "result ~ state_NJ + main_category_journalism + month_launch + state_MI + weekday_launch_Saturday + weekday_launch_Friday + state_MN + state_WY + main_category_crafts + state_ND + state_WI + main_category_photography + state_GA + main_category_games + main_category_comics + state_NC + state_MD + weekday_launch_Wednesday + ln_goal_usd + state_UT + state_FL + weekday_launch_Sunday + state_PA + state_KS + state_WA + state_SC + main_category_publishing + state_TX + num_competitors_medium + state_MO + state_MS + num_competitors_high + state_NY + state_OK + main_category_dance + state_OH + state_AR + state_DC + state_KY + main_category_fashion + main_category_technology + state_CA + main_category_food + main_category_film_video + state_MA + state_LA + weekday_launch_Tuesday + duration_in_days_medium + state_ME + state_MT + duration_in_days_high + state_CO + state_DE + state_VT + state_OR + state_ID + state_VA + main_category_music + state_RI + state_TN + state_NH + main_category_theater + state_NV + state_IA + state_HI + state_AL + weekday_launch_Thursday + state_NM + state_WV + state_IL + state_SD + staff_pick + state_CT + main_category_design + state_AZ + state_IN + state_NE\n",
      "\n",
      "Test Accuracy: 0.7020935227596201\n",
      "\n",
      "AIC: 174954.20699189923\n",
      "\n",
      "Biggest p-value: state_TN:0.7336990076349279\n",
      "[{'state_TN': 0.7336990076349279}]\n",
      "\n",
      "Test Accuracy: 0.70214527857568\n",
      "\n",
      "AIC: 174952.32273693386\n",
      "\n",
      "Biggest p-value: state_TN:0.7336990076349279\n",
      "[{'state_TN': 0.7336990076349279}, {'weekday_launch_Thursday': 0.6280411537972019}]\n",
      "\n",
      "\n",
      "Running model with formula: \n",
      "result ~ state_NJ + main_category_journalism + month_launch + state_MI + weekday_launch_Saturday + weekday_launch_Friday + state_MN + state_WY + main_category_crafts + state_ND + state_WI + main_category_photography + state_GA + main_category_games + main_category_comics + state_NC + state_MD + weekday_launch_Wednesday + ln_goal_usd + state_UT + state_FL + weekday_launch_Sunday + state_PA + state_KS + state_WA + state_SC + main_category_publishing + state_TX + num_competitors_medium + state_MO + state_MS + num_competitors_high + state_NY + state_OK + main_category_dance + state_OH + state_AR + state_DC + state_KY + main_category_fashion + main_category_technology + state_CA + main_category_food + main_category_film_video + state_MA + state_LA + weekday_launch_Tuesday + duration_in_days_medium + state_ME + state_MT + duration_in_days_high + state_CO + state_DE + state_VT + state_OR + state_ID + state_VA + main_category_music + state_RI + state_TN + state_NH + main_category_theater + state_NV + state_IA + state_HI + state_AL + weekday_launch_Thursday + state_NM + state_WV + state_IL + state_SD + staff_pick + state_CT + main_category_design + state_AZ + state_IN + state_NE - state_TN - weekday_launch_Thursday\n",
      "\n",
      "Test Accuracy: 0.7022746681158295\n",
      "\n",
      "AIC: 174950.5579316732\n",
      "\n",
      "Biggest p-value: weekday_launch_Thursday:0.6280411537972019\n",
      "[{'state_TN': 0.7336990076349279}, {'weekday_launch_Thursday': 0.6280411537972019}, {'main_category_food': 0.50562235816038}]\n",
      "\n",
      "\n",
      "Running model with formula: \n",
      "result ~ state_NJ + main_category_journalism + month_launch + state_MI + weekday_launch_Saturday + weekday_launch_Friday + state_MN + state_WY + main_category_crafts + state_ND + state_WI + main_category_photography + state_GA + main_category_games + main_category_comics + state_NC + state_MD + weekday_launch_Wednesday + ln_goal_usd + state_UT + state_FL + weekday_launch_Sunday + state_PA + state_KS + state_WA + state_SC + main_category_publishing + state_TX + num_competitors_medium + state_MO + state_MS + num_competitors_high + state_NY + state_OK + main_category_dance + state_OH + state_AR + state_DC + state_KY + main_category_fashion + main_category_technology + state_CA + main_category_food + main_category_film_video + state_MA + state_LA + weekday_launch_Tuesday + duration_in_days_medium + state_ME + state_MT + duration_in_days_high + state_CO + state_DE + state_VT + state_OR + state_ID + state_VA + main_category_music + state_RI + state_TN + state_NH + main_category_theater + state_NV + state_IA + state_HI + state_AL + weekday_launch_Thursday + state_NM + state_WV + state_IL + state_SD + staff_pick + state_CT + main_category_design + state_AZ + state_IN + state_NE - state_TN - weekday_launch_Thursday - main_category_food\n",
      "\n",
      "Test Accuracy: 0.7023264239318894\n",
      "\n",
      "AIC: 174949.00135927091\n",
      "\n",
      "Biggest p-value: main_category_food:0.50562235816038\n",
      "[{'state_TN': 0.7336990076349279}, {'weekday_launch_Thursday': 0.6280411537972019}, {'main_category_food': 0.50562235816038}, {'state_NH': 0.3777077693952303}]\n",
      "\n",
      "\n",
      "Running model with formula: \n",
      "result ~ state_NJ + main_category_journalism + month_launch + state_MI + weekday_launch_Saturday + weekday_launch_Friday + state_MN + state_WY + main_category_crafts + state_ND + state_WI + main_category_photography + state_GA + main_category_games + main_category_comics + state_NC + state_MD + weekday_launch_Wednesday + ln_goal_usd + state_UT + state_FL + weekday_launch_Sunday + state_PA + state_KS + state_WA + state_SC + main_category_publishing + state_TX + num_competitors_medium + state_MO + state_MS + num_competitors_high + state_NY + state_OK + main_category_dance + state_OH + state_AR + state_DC + state_KY + main_category_fashion + main_category_technology + state_CA + main_category_food + main_category_film_video + state_MA + state_LA + weekday_launch_Tuesday + duration_in_days_medium + state_ME + state_MT + duration_in_days_high + state_CO + state_DE + state_VT + state_OR + state_ID + state_VA + main_category_music + state_RI + state_TN + state_NH + main_category_theater + state_NV + state_IA + state_HI + state_AL + weekday_launch_Thursday + state_NM + state_WV + state_IL + state_SD + staff_pick + state_CT + main_category_design + state_AZ + state_IN + state_NE - state_TN - weekday_launch_Thursday - main_category_food - state_NH\n",
      "\n",
      "Test Accuracy: 0.7024816913800689\n",
      "\n",
      "AIC: 174947.78072063025\n",
      "\n",
      "Biggest p-value: state_NH:0.3777077693952303\n",
      "[{'state_TN': 0.7336990076349279}, {'weekday_launch_Thursday': 0.6280411537972019}, {'main_category_food': 0.50562235816038}, {'state_NH': 0.3777077693952303}, {'main_category_photography': 0.35999534839429936}]\n",
      "\n",
      "\n",
      "Running model with formula: \n",
      "result ~ state_NJ + main_category_journalism + month_launch + state_MI + weekday_launch_Saturday + weekday_launch_Friday + state_MN + state_WY + main_category_crafts + state_ND + state_WI + main_category_photography + state_GA + main_category_games + main_category_comics + state_NC + state_MD + weekday_launch_Wednesday + ln_goal_usd + state_UT + state_FL + weekday_launch_Sunday + state_PA + state_KS + state_WA + state_SC + main_category_publishing + state_TX + num_competitors_medium + state_MO + state_MS + num_competitors_high + state_NY + state_OK + main_category_dance + state_OH + state_AR + state_DC + state_KY + main_category_fashion + main_category_technology + state_CA + main_category_food + main_category_film_video + state_MA + state_LA + weekday_launch_Tuesday + duration_in_days_medium + state_ME + state_MT + duration_in_days_high + state_CO + state_DE + state_VT + state_OR + state_ID + state_VA + main_category_music + state_RI + state_TN + state_NH + main_category_theater + state_NV + state_IA + state_HI + state_AL + weekday_launch_Thursday + state_NM + state_WV + state_IL + state_SD + staff_pick + state_CT + main_category_design + state_AZ + state_IN + state_NE - state_TN - weekday_launch_Thursday - main_category_food - state_NH - main_category_photography\n",
      "\n",
      "Test Accuracy: 0.7025075692880988\n",
      "\n",
      "AIC: 174946.61909268046\n",
      "\n",
      "Biggest p-value: main_category_photography:0.35999534839429936\n",
      "[{'state_TN': 0.7336990076349279}, {'weekday_launch_Thursday': 0.6280411537972019}, {'main_category_food': 0.50562235816038}, {'state_NH': 0.3777077693952303}, {'main_category_photography': 0.35999534839429936}, {'state_ME': 0.33732723204020676}]\n",
      "\n",
      "\n",
      "Running model with formula: \n",
      "result ~ state_NJ + main_category_journalism + month_launch + state_MI + weekday_launch_Saturday + weekday_launch_Friday + state_MN + state_WY + main_category_crafts + state_ND + state_WI + main_category_photography + state_GA + main_category_games + main_category_comics + state_NC + state_MD + weekday_launch_Wednesday + ln_goal_usd + state_UT + state_FL + weekday_launch_Sunday + state_PA + state_KS + state_WA + state_SC + main_category_publishing + state_TX + num_competitors_medium + state_MO + state_MS + num_competitors_high + state_NY + state_OK + main_category_dance + state_OH + state_AR + state_DC + state_KY + main_category_fashion + main_category_technology + state_CA + main_category_food + main_category_film_video + state_MA + state_LA + weekday_launch_Tuesday + duration_in_days_medium + state_ME + state_MT + duration_in_days_high + state_CO + state_DE + state_VT + state_OR + state_ID + state_VA + main_category_music + state_RI + state_TN + state_NH + main_category_theater + state_NV + state_IA + state_HI + state_AL + weekday_launch_Thursday + state_NM + state_WV + state_IL + state_SD + staff_pick + state_CT + main_category_design + state_AZ + state_IN + state_NE - state_TN - weekday_launch_Thursday - main_category_food - state_NH - main_category_photography - state_ME\n"
     ]
    },
    {
     "name": "stdout",
     "output_type": "stream",
     "text": [
      "\n",
      "Test Accuracy: 0.7025334471961286\n",
      "\n",
      "AIC: 174945.54119902846\n",
      "\n",
      "Biggest p-value: state_ME:0.33732723204020676\n",
      "[{'state_TN': 0.7336990076349279}, {'weekday_launch_Thursday': 0.6280411537972019}, {'main_category_food': 0.50562235816038}, {'state_NH': 0.3777077693952303}, {'main_category_photography': 0.35999534839429936}, {'state_ME': 0.33732723204020676}, {'state_DC': 0.38648301365606275}]\n",
      "\n",
      "\n",
      "Running model with formula: \n",
      "result ~ state_NJ + main_category_journalism + month_launch + state_MI + weekday_launch_Saturday + weekday_launch_Friday + state_MN + state_WY + main_category_crafts + state_ND + state_WI + main_category_photography + state_GA + main_category_games + main_category_comics + state_NC + state_MD + weekday_launch_Wednesday + ln_goal_usd + state_UT + state_FL + weekday_launch_Sunday + state_PA + state_KS + state_WA + state_SC + main_category_publishing + state_TX + num_competitors_medium + state_MO + state_MS + num_competitors_high + state_NY + state_OK + main_category_dance + state_OH + state_AR + state_DC + state_KY + main_category_fashion + main_category_technology + state_CA + main_category_food + main_category_film_video + state_MA + state_LA + weekday_launch_Tuesday + duration_in_days_medium + state_ME + state_MT + duration_in_days_high + state_CO + state_DE + state_VT + state_OR + state_ID + state_VA + main_category_music + state_RI + state_TN + state_NH + main_category_theater + state_NV + state_IA + state_HI + state_AL + weekday_launch_Thursday + state_NM + state_WV + state_IL + state_SD + staff_pick + state_CT + main_category_design + state_AZ + state_IN + state_NE - state_TN - weekday_launch_Thursday - main_category_food - state_NH - main_category_photography - state_ME - state_DC\n",
      "\n",
      "Test Accuracy: 0.7025075692880988\n",
      "\n",
      "AIC: 174944.29125291383\n",
      "\n",
      "Biggest p-value: state_DC:0.38648301365606275\n",
      "[{'state_TN': 0.7336990076349279}, {'weekday_launch_Thursday': 0.6280411537972019}, {'main_category_food': 0.50562235816038}, {'state_NH': 0.3777077693952303}, {'main_category_photography': 0.35999534839429936}, {'state_ME': 0.33732723204020676}, {'state_DC': 0.38648301365606275}, {'state_MT': 0.44696324708312407}]\n",
      "\n",
      "\n",
      "Running model with formula: \n",
      "result ~ state_NJ + main_category_journalism + month_launch + state_MI + weekday_launch_Saturday + weekday_launch_Friday + state_MN + state_WY + main_category_crafts + state_ND + state_WI + main_category_photography + state_GA + main_category_games + main_category_comics + state_NC + state_MD + weekday_launch_Wednesday + ln_goal_usd + state_UT + state_FL + weekday_launch_Sunday + state_PA + state_KS + state_WA + state_SC + main_category_publishing + state_TX + num_competitors_medium + state_MO + state_MS + num_competitors_high + state_NY + state_OK + main_category_dance + state_OH + state_AR + state_DC + state_KY + main_category_fashion + main_category_technology + state_CA + main_category_food + main_category_film_video + state_MA + state_LA + weekday_launch_Tuesday + duration_in_days_medium + state_ME + state_MT + duration_in_days_high + state_CO + state_DE + state_VT + state_OR + state_ID + state_VA + main_category_music + state_RI + state_TN + state_NH + main_category_theater + state_NV + state_IA + state_HI + state_AL + weekday_launch_Thursday + state_NM + state_WV + state_IL + state_SD + staff_pick + state_CT + main_category_design + state_AZ + state_IN + state_NE - state_TN - weekday_launch_Thursday - main_category_food - state_NH - main_category_photography - state_ME - state_DC - state_MT\n",
      "\n",
      "Test Accuracy: 0.7024040576559791\n",
      "\n",
      "AIC: 174942.87068116284\n",
      "\n",
      "Biggest p-value: state_MT:0.44696324708312407\n",
      "[{'state_TN': 0.7336990076349279}, {'weekday_launch_Thursday': 0.6280411537972019}, {'main_category_food': 0.50562235816038}, {'state_NH': 0.3777077693952303}, {'main_category_photography': 0.35999534839429936}, {'state_ME': 0.33732723204020676}, {'state_DC': 0.38648301365606275}, {'state_MT': 0.44696324708312407}, {'state_UT': 0.5090239465900397}]\n",
      "\n",
      "\n",
      "Running model with formula: \n",
      "result ~ state_NJ + main_category_journalism + month_launch + state_MI + weekday_launch_Saturday + weekday_launch_Friday + state_MN + state_WY + main_category_crafts + state_ND + state_WI + main_category_photography + state_GA + main_category_games + main_category_comics + state_NC + state_MD + weekday_launch_Wednesday + ln_goal_usd + state_UT + state_FL + weekday_launch_Sunday + state_PA + state_KS + state_WA + state_SC + main_category_publishing + state_TX + num_competitors_medium + state_MO + state_MS + num_competitors_high + state_NY + state_OK + main_category_dance + state_OH + state_AR + state_DC + state_KY + main_category_fashion + main_category_technology + state_CA + main_category_food + main_category_film_video + state_MA + state_LA + weekday_launch_Tuesday + duration_in_days_medium + state_ME + state_MT + duration_in_days_high + state_CO + state_DE + state_VT + state_OR + state_ID + state_VA + main_category_music + state_RI + state_TN + state_NH + main_category_theater + state_NV + state_IA + state_HI + state_AL + weekday_launch_Thursday + state_NM + state_WV + state_IL + state_SD + staff_pick + state_CT + main_category_design + state_AZ + state_IN + state_NE - state_TN - weekday_launch_Thursday - main_category_food - state_NH - main_category_photography - state_ME - state_DC - state_MT - state_UT\n",
      "\n",
      "Test Accuracy: 0.7024816913800689\n",
      "\n",
      "AIC: 174941.30703430486\n",
      "\n",
      "Biggest p-value: state_UT:0.5090239465900397\n",
      "[{'state_TN': 0.7336990076349279}, {'weekday_launch_Thursday': 0.6280411537972019}, {'main_category_food': 0.50562235816038}, {'state_NH': 0.3777077693952303}, {'main_category_photography': 0.35999534839429936}, {'state_ME': 0.33732723204020676}, {'state_DC': 0.38648301365606275}, {'state_MT': 0.44696324708312407}, {'state_UT': 0.5090239465900397}, {'state_IL': 0.28471277064719935}]\n",
      "\n",
      "\n",
      "Running model with formula: \n",
      "result ~ state_NJ + main_category_journalism + month_launch + state_MI + weekday_launch_Saturday + weekday_launch_Friday + state_MN + state_WY + main_category_crafts + state_ND + state_WI + main_category_photography + state_GA + main_category_games + main_category_comics + state_NC + state_MD + weekday_launch_Wednesday + ln_goal_usd + state_UT + state_FL + weekday_launch_Sunday + state_PA + state_KS + state_WA + state_SC + main_category_publishing + state_TX + num_competitors_medium + state_MO + state_MS + num_competitors_high + state_NY + state_OK + main_category_dance + state_OH + state_AR + state_DC + state_KY + main_category_fashion + main_category_technology + state_CA + main_category_food + main_category_film_video + state_MA + state_LA + weekday_launch_Tuesday + duration_in_days_medium + state_ME + state_MT + duration_in_days_high + state_CO + state_DE + state_VT + state_OR + state_ID + state_VA + main_category_music + state_RI + state_TN + state_NH + main_category_theater + state_NV + state_IA + state_HI + state_AL + weekday_launch_Thursday + state_NM + state_WV + state_IL + state_SD + staff_pick + state_CT + main_category_design + state_AZ + state_IN + state_NE - state_TN - weekday_launch_Thursday - main_category_food - state_NH - main_category_photography - state_ME - state_DC - state_MT - state_UT - state_IL\n",
      "\n",
      "Test Accuracy: 0.7026369588282483\n",
      "\n",
      "AIC: 174940.4521047859\n",
      "\n",
      "Biggest p-value: state_IL:0.28471277064719935\n",
      "[{'state_TN': 0.7336990076349279}, {'weekday_launch_Thursday': 0.6280411537972019}, {'main_category_food': 0.50562235816038}, {'state_NH': 0.3777077693952303}, {'main_category_photography': 0.35999534839429936}, {'state_ME': 0.33732723204020676}, {'state_DC': 0.38648301365606275}, {'state_MT': 0.44696324708312407}, {'state_UT': 0.5090239465900397}, {'state_IL': 0.28471277064719935}, {'state_MN': 0.3174209817057062}]\n",
      "\n",
      "\n",
      "Running model with formula: \n",
      "result ~ state_NJ + main_category_journalism + month_launch + state_MI + weekday_launch_Saturday + weekday_launch_Friday + state_MN + state_WY + main_category_crafts + state_ND + state_WI + main_category_photography + state_GA + main_category_games + main_category_comics + state_NC + state_MD + weekday_launch_Wednesday + ln_goal_usd + state_UT + state_FL + weekday_launch_Sunday + state_PA + state_KS + state_WA + state_SC + main_category_publishing + state_TX + num_competitors_medium + state_MO + state_MS + num_competitors_high + state_NY + state_OK + main_category_dance + state_OH + state_AR + state_DC + state_KY + main_category_fashion + main_category_technology + state_CA + main_category_food + main_category_film_video + state_MA + state_LA + weekday_launch_Tuesday + duration_in_days_medium + state_ME + state_MT + duration_in_days_high + state_CO + state_DE + state_VT + state_OR + state_ID + state_VA + main_category_music + state_RI + state_TN + state_NH + main_category_theater + state_NV + state_IA + state_HI + state_AL + weekday_launch_Thursday + state_NM + state_WV + state_IL + state_SD + staff_pick + state_CT + main_category_design + state_AZ + state_IN + state_NE - state_TN - weekday_launch_Thursday - main_category_food - state_NH - main_category_photography - state_ME - state_DC - state_MT - state_UT - state_IL - state_MN\n"
     ]
    },
    {
     "name": "stdout",
     "output_type": "stream",
     "text": [
      "\n",
      "Test Accuracy: 0.7026369588282483\n",
      "\n",
      "AIC: 174939.45247139537\n",
      "\n",
      "Biggest p-value: state_MN:0.3174209817057062\n",
      "[{'state_TN': 0.7336990076349279}, {'weekday_launch_Thursday': 0.6280411537972019}, {'main_category_food': 0.50562235816038}, {'state_NH': 0.3777077693952303}, {'main_category_photography': 0.35999534839429936}, {'state_ME': 0.33732723204020676}, {'state_DC': 0.38648301365606275}, {'state_MT': 0.44696324708312407}, {'state_UT': 0.5090239465900397}, {'state_IL': 0.28471277064719935}, {'state_MN': 0.3174209817057062}, {'state_RI': 0.33049500042870417}]\n",
      "\n",
      "\n",
      "Running model with formula: \n",
      "result ~ state_NJ + main_category_journalism + month_launch + state_MI + weekday_launch_Saturday + weekday_launch_Friday + state_MN + state_WY + main_category_crafts + state_ND + state_WI + main_category_photography + state_GA + main_category_games + main_category_comics + state_NC + state_MD + weekday_launch_Wednesday + ln_goal_usd + state_UT + state_FL + weekday_launch_Sunday + state_PA + state_KS + state_WA + state_SC + main_category_publishing + state_TX + num_competitors_medium + state_MO + state_MS + num_competitors_high + state_NY + state_OK + main_category_dance + state_OH + state_AR + state_DC + state_KY + main_category_fashion + main_category_technology + state_CA + main_category_food + main_category_film_video + state_MA + state_LA + weekday_launch_Tuesday + duration_in_days_medium + state_ME + state_MT + duration_in_days_high + state_CO + state_DE + state_VT + state_OR + state_ID + state_VA + main_category_music + state_RI + state_TN + state_NH + main_category_theater + state_NV + state_IA + state_HI + state_AL + weekday_launch_Thursday + state_NM + state_WV + state_IL + state_SD + staff_pick + state_CT + main_category_design + state_AZ + state_IN + state_NE - state_TN - weekday_launch_Thursday - main_category_food - state_NH - main_category_photography - state_ME - state_DC - state_MT - state_UT - state_IL - state_MN - state_RI\n",
      "\n",
      "Test Accuracy: 0.7026369588282483\n",
      "\n",
      "AIC: 174938.40370079144\n",
      "\n",
      "Biggest p-value: state_RI:0.33049500042870417\n",
      "[{'state_TN': 0.7336990076349279}, {'weekday_launch_Thursday': 0.6280411537972019}, {'main_category_food': 0.50562235816038}, {'state_NH': 0.3777077693952303}, {'main_category_photography': 0.35999534839429936}, {'state_ME': 0.33732723204020676}, {'state_DC': 0.38648301365606275}, {'state_MT': 0.44696324708312407}, {'state_UT': 0.5090239465900397}, {'state_IL': 0.28471277064719935}, {'state_MN': 0.3174209817057062}, {'state_RI': 0.33049500042870417}, {'state_WY': 0.3373875951728901}]\n",
      "\n",
      "\n",
      "Running model with formula: \n",
      "result ~ state_NJ + main_category_journalism + month_launch + state_MI + weekday_launch_Saturday + weekday_launch_Friday + state_MN + state_WY + main_category_crafts + state_ND + state_WI + main_category_photography + state_GA + main_category_games + main_category_comics + state_NC + state_MD + weekday_launch_Wednesday + ln_goal_usd + state_UT + state_FL + weekday_launch_Sunday + state_PA + state_KS + state_WA + state_SC + main_category_publishing + state_TX + num_competitors_medium + state_MO + state_MS + num_competitors_high + state_NY + state_OK + main_category_dance + state_OH + state_AR + state_DC + state_KY + main_category_fashion + main_category_technology + state_CA + main_category_food + main_category_film_video + state_MA + state_LA + weekday_launch_Tuesday + duration_in_days_medium + state_ME + state_MT + duration_in_days_high + state_CO + state_DE + state_VT + state_OR + state_ID + state_VA + main_category_music + state_RI + state_TN + state_NH + main_category_theater + state_NV + state_IA + state_HI + state_AL + weekday_launch_Thursday + state_NM + state_WV + state_IL + state_SD + staff_pick + state_CT + main_category_design + state_AZ + state_IN + state_NE - state_TN - weekday_launch_Thursday - main_category_food - state_NH - main_category_photography - state_ME - state_DC - state_MT - state_UT - state_IL - state_MN - state_RI - state_WY\n",
      "\n",
      "Test Accuracy: 0.7025852030121885\n",
      "\n",
      "AIC: 174937.32723263628\n",
      "\n",
      "Biggest p-value: state_WY:0.3373875951728901\n"
     ]
    }
   ],
   "source": [
    "lr_stats, removed_cols, results = backward_selection(df_model, target_var, X_test_lr, y_test,\n",
    "                                                     alpha=alpha, max_iter = 100, verbose=True)"
   ]
  },
  {
   "cell_type": "code",
   "execution_count": 72,
   "metadata": {},
   "outputs": [
    {
     "data": {
      "text/plain": [
       "[<matplotlib.lines.Line2D at 0x7f9983a75690>]"
      ]
     },
     "execution_count": 72,
     "metadata": {},
     "output_type": "execute_result"
    },
    {
     "data": {
      "image/png": "[encoded data removed]",
      "text/plain": [
       "<Figure size 432x288 with 1 Axes>"
      ]
     },
     "metadata": {
      "needs_background": "light"
     },
     "output_type": "display_data"
    }
   ],
   "source": [
    "accs = [result['test_accuracy'] for result in results]\n",
    "plt.plot(range(len(accs)), accs)"
   ]
  },
  {
   "cell_type": "code",
   "execution_count": 73,
   "metadata": {},
   "outputs": [
    {
     "data": {
      "text/plain": [
       "[<matplotlib.lines.Line2D at 0x7f998324ffd0>]"
      ]
     },
     "execution_count": 73,
     "metadata": {},
     "output_type": "execute_result"
    },
    {
     "data": {
      "image/png": "[encoded data removed]",
      "text/plain": [
       "<Figure size 432x288 with 1 Axes>"
      ]
     },
     "metadata": {
      "needs_background": "light"
     },
     "output_type": "display_data"
    }
   ],
   "source": [
    "aic = [result['aic'] for result in results]\n",
    "plt.plot(range(len(aic)), aic)"
   ]
  },
  {
   "cell_type": "markdown",
   "metadata": {},
   "source": [
    "#### Model Performance Analysis"
   ]
  },
  {
   "cell_type": "code",
   "execution_count": 89,
   "metadata": {},
   "outputs": [
    {
     "name": "stdout",
     "output_type": "stream",
     "text": [
      "Successful Terms:\n",
      "staff_pick (2.34771)\n",
      "main_category_design (2.06637)\n",
      "main_category_dance (1.28594)\n",
      "main_category_theater (1.25114)\n",
      "main_category_comics (1.0937)\n",
      "main_category_games (0.913364)\n",
      "main_category_film_video (0.669738)\n",
      "state_VT (0.601128)\n",
      "main_category_music (0.596692)\n",
      "state_NY (0.447426)\n",
      "\n",
      "Fail Terms:\n",
      "month_launch (-0.0287349)\n",
      "state_HI (-0.211216)\n",
      "state_WI (-0.255442)\n",
      "state_NC (-0.349001)\n",
      "state_IL (0.0565418)\n",
      "state_TN (-0.0393182)\n",
      "state_CA (0.422936)\n",
      "state_KY (-0.528753)\n",
      "state_RI (0.132859)\n",
      "state_SD (-0.675443)\n"
     ]
    }
   ],
   "source": [
    "# Lets analyze the terms more related to the different classes.\n",
    "# Coefficients for the positive class\n",
    "coef_pr = lr_stats.params\n",
    "cols_pr =  lr_stats.params.index\n",
    "srted_pr = np.argsort(coef_pr)\n",
    "# Pick top 10 coef. in descendent order\n",
    "topi_pr = srted_pr[::-1][:10]\n",
    "boti_pr = srted_pr[:10]\n",
    "print('Successful Terms:\\n' + '\\n'.join('%s (%g)' % (n, c) for n, c in zip(cols_pr[topi_pr], coef_pr[topi_pr])))\n",
    "print('\\nFail Terms:\\n' + '\\n'.join('%s (%g)' % (n, c) for n, c in zip(cols[boti_pr], coef[boti_pr])))"
   ]
  },
  {
   "cell_type": "code",
   "execution_count": 90,
   "metadata": {},
   "outputs": [
    {
     "data": {
      "text/plain": [
       "Text(0.5, 257.44, 'Predicted label')"
      ]
     },
     "execution_count": 90,
     "metadata": {},
     "output_type": "execute_result"
    },
    {
     "data": {
      "image/png": "[encoded data removed]",
      "text/plain": [
       "<Figure size 432x288 with 2 Axes>"
      ]
     },
     "metadata": {
      "needs_background": "light"
     },
     "output_type": "display_data"
    }
   ],
   "source": [
    "y_test_pred_prob_pr = lr_stats.predict(X_test_lr)\n",
    "y_test_pred_pr = y_test_pred_prob_pr.apply(lambda x: 1 if x > 0.5 else 0)\n",
    "# Lets analyze the confusion matrix\n",
    "cnf_matrix_pr = confusion_matrix(y_test.to_numpy(), y_test_pred_pr)\n",
    "\n",
    "class_names=['fail','successful'] # name  of classes\n",
    "\n",
    "fig, ax = plt.subplots()\n",
    "tick_marks = np.arange(len(class_names))\n",
    "plt.xticks(tick_marks, class_names)\n",
    "plt.yticks(tick_marks, class_names)\n",
    "# create heatmap\n",
    "sns.heatmap(pd.DataFrame(cnf_matrix_pr), annot=True, cmap=\"YlGnBu\" ,fmt='g')\n",
    "ax.xaxis.set_label_position(\"top\")\n",
    "plt.tight_layout()\n",
    "plt.title('Confusion matrix', y=1.1)\n",
    "plt.ylabel('Actual label')\n",
    "plt.xlabel('Predicted label')"
   ]
  },
  {
   "cell_type": "code",
   "execution_count": 91,
   "metadata": {},
   "outputs": [
    {
     "name": "stdout",
     "output_type": "stream",
     "text": [
      "Accuracy Score: 70.26%\n",
      "Precision Score: 72.44%\n",
      "Recall Score: 74.62% \n",
      "\n",
      "              precision    recall  f1-score   support\n",
      "\n",
      "        fail       0.67      0.65      0.66     17266\n",
      "  successful       0.72      0.75      0.74     21377\n",
      "\n",
      "   micro avg       0.70      0.70      0.70     38643\n",
      "   macro avg       0.70      0.70      0.70     38643\n",
      "weighted avg       0.70      0.70      0.70     38643\n",
      "\n"
     ]
    }
   ],
   "source": [
    "print(\"Accuracy Score: {:.2%}\".format(accuracy_score(y_test, y_test_pred_pr)))\n",
    "print(\"Precision Score: {:.2%}\".format(precision_score(y_test, y_test_pred_pr)))\n",
    "print(\"Recall Score: {:.2%} \\n\".format(recall_score(y_test, y_test_pred_pr)))\n",
    "print(classification_report(y_test, y_test_pred_pr, target_names=class_names))"
   ]
  },
  {
   "cell_type": "code",
   "execution_count": 92,
   "metadata": {},
   "outputs": [
    {
     "name": "stdout",
     "output_type": "stream",
     "text": [
      "No Skill: ROC AUC = 0.500\n",
      "Logistic Prunned: ROC AUC = 0.771\n"
     ]
    }
   ],
   "source": [
    "# Lets take a look at the ROC curve.\n",
    "ns_probs = [1 for _ in range(len(y_test))] # No skill predictor\n",
    "# Calculate ROC scores\n",
    "ns_roc_pr = roc_auc_score(y_test, ns_probs)\n",
    "model_roc_pr = roc_auc_score(y_test, y_test_pred_prob_pr)\n",
    "print(\"No Skill: ROC AUC = {:.3f}\".format(ns_roc))\n",
    "print(\"Logistic Prunned: ROC AUC = {:.3f}\".format(model_roc_pr))"
   ]
  },
  {
   "cell_type": "code",
   "execution_count": 93,
   "metadata": {},
   "outputs": [
    {
     "data": {
      "image/png": "[encoded data removed]",
      "text/plain": [
       "<Figure size 576x432 with 1 Axes>"
      ]
     },
     "metadata": {
      "needs_background": "light"
     },
     "output_type": "display_data"
    }
   ],
   "source": [
    "# Calculate roc curves\n",
    "model_fpr_pr, model_tpr_pr, thresholds_pr = roc_curve(y_test, y_test_pred_pr)\n",
    "\n",
    "# Calculate precision-recall curve\n",
    "precision_pr, recall_pr, thresholds_pr = precision_recall_curve(y_test.to_numpy(), y_test_pred_prob_pr)\n",
    "\n",
    "# Plot Roc Curves\n",
    "fig = plt.figure(figsize=(8, 6))\n",
    "plt.plot(model_fpr, model_tpr, color='darkorange',lw=2, label='ROC curve (area = {:.2f})'.format(model_roc))\n",
    "plt.plot(model_fpr_pr, model_tpr_pr, color='red',lw=2, label='Prunned ROC curve (area = {:.2f})'.format(model_roc_pr))\n",
    "plt.plot(ns_fpr, ns_tpr, color='navy', lw=2, linestyle='--')\n",
    "plt.xlim([0.0, 1.0])\n",
    "plt.ylim([0.0, 1.05])\n",
    "plt.xlabel('False Positive Rate')\n",
    "plt.ylabel('True Positive Rate')\n",
    "plt.title('Receiver operating Characteristic curve')\n",
    "plt.legend(loc=\"lower right\")\n",
    "plt.show()"
   ]
  },
  {
   "cell_type": "code",
   "execution_count": 94,
   "metadata": {},
   "outputs": [
    {
     "data": {
      "image/png": "[encoded data removed]",
      "text/plain": [
       "<Figure size 576x432 with 1 Axes>"
      ]
     },
     "metadata": {
      "needs_background": "light"
     },
     "output_type": "display_data"
    }
   ],
   "source": [
    "fig = plt.figure(figsize=(8, 6))\n",
    "plt.plot(precision, recall, label='Prec-Recall')\n",
    "plt.plot(precision_pr, recall_pr, label='Prec-Recall Prunned')\n",
    "#plt.xlim([0.0, 1.0])\n",
    "#plt.ylim([0.0, 1.05])\n",
    "plt.xlabel('Precision')\n",
    "plt.ylabel('Recall')\n",
    "plt.title('Precision-Recall Curve')\n",
    "plt.legend(loc=\"upper right\")\n",
    "plt.show()"
   ]
  },
  {
   "cell_type": "markdown",
   "metadata": {},
   "source": [
    "### 2.3 Random Forest\n",
    "\n",
    "We will perform a classifier using Random Forest. It is important to notice that a Random Forest implements several decision trees and ensembles them. In a classification task, each tree will make a classification, and the random forest final classification will be the the one with the highest mode.\n",
    "\n",
    "First of all we will perform a basic Random Forest with default values to have a threshold accuracy value.\n",
    "\n",
    "Then we will perform a cross-validation seeking for the best options for the random forest in terms of a balance between computing cost vs precision. We will perform this search both using an evaluation from scratch and using the gridsearch provided by the scikit package."
   ]
  },
  {
   "cell_type": "markdown",
   "metadata": {},
   "source": [
    "#### 2.3.1 Naive Log. Regression.\n",
    "\n",
    "Perform a simple Random Forest to obtain an accuracy threshold."
   ]
  },
  {
   "cell_type": "code",
   "execution_count": 13,
   "metadata": {},
   "outputs": [
    {
     "name": "stdout",
     "output_type": "stream",
     "text": [
      "Accuracy on training data=0.9796404241\n",
      "Accuracy on test data=0.6789327951\n"
     ]
    }
   ],
   "source": [
    "rf_scikit = RandomForestClassifier(n_estimators=100, random_state=42)\n",
    "rf_scikit.fit(X_train, y_train)\n",
    "\n",
    "y_test_pred = rf_scikit.predict(X_test)\n",
    "y_train_pred = rf_scikit.predict(X_train)\n",
    "print('Accuracy on training data={:.10f}'.format(accuracy_score(y_train_pred, y_train)))\n",
    "print('Accuracy on test data={:.10f}'.format(accuracy_score(y_test_pred, y_test)))"
   ]
  },
  {
   "cell_type": "markdown",
   "metadata": {},
   "source": [
    "We see that it clearly overfits.\n",
    "\n",
    "We will perform Cross-validation to avoid the overfitting."
   ]
  },
  {
   "cell_type": "markdown",
   "metadata": {},
   "source": [
    "#### 2.3.2 Model Tunning\n",
    "\n",
    "Lets analyse the different combinations of options for finding the best parameter configuration for the model."
   ]
  },
  {
   "cell_type": "code",
   "execution_count": 17,
   "metadata": {},
   "outputs": [],
   "source": [
    "# Creates a LogsticRegression object.\n",
    "def get_clf_rf(random_state=42, **kwds):\n",
    "    \"\"\"Function for creating a Random Forest object.\n",
    "    \n",
    "    Args:\n",
    "        random_state...RandomState instance.\n",
    "        \n",
    "    Returns:\n",
    "        A Random Forest Classifier.\n",
    "    \"\"\"\n",
    "    return RandomForestClassifier(random_state=random_state, **kwds)\n",
    "\n",
    "\n",
    "def do_cross_validation_rf(X, y, X_val, y_val, n_folds=5, verbose=False, random_state=42, **kwds):\n",
    "    \"\"\"Perform a cross-validation accuracy.\n",
    "    \n",
    "    Args:\n",
    "        X.....................Training set matrix without the y value.\n",
    "        y.....................Class value for the training set.\n",
    "        X_val.................Validation set matrix without the y value.\n",
    "        y_val.................Class value for the validation set.\n",
    "        n_folds...............Number of folds to be performed by the cross-validation.\n",
    "        verbose...............Whether to print mid-results.\n",
    "        random_state..........RandomState instance.\n",
    "        **kwds................Other keyword arguments for the model.\n",
    "    \n",
    "    Returns:\n",
    "        Tuple containing accuracies and SD for the train sets, test sets and validation sets.\n",
    "    \"\"\"\n",
    "    cv = StratifiedKFold(n_splits=n_folds, shuffle=True, random_state=random_state)\n",
    "    val_accuracies = []\n",
    "    train_accuracies = []\n",
    "    test_accuracies = []\n",
    "    \n",
    "    for foldi, (train_ind, test_ind) in enumerate(cv.split(X, y)):\n",
    "        # Create Classification Model\n",
    "        model = get_clf_rf(random_state=random_state, **kwds)\n",
    "        # Fit model\n",
    "        model.fit(X[train_ind, :], y[train_ind])\n",
    "        # Perform accuracy on train set\n",
    "        train_accuracies.append(accuracy_score(model.predict(X[train_ind]), y[train_ind]))\n",
    "        # Predict on test set and perform accuracy\n",
    "        acc = accuracy_score(y[test_ind], model.predict(X[test_ind, :]))\n",
    "        test_accuracies.append(acc)\n",
    "        # Predict on validation set and perform accuracy.\n",
    "        val_accuracies.append(accuracy_score(y_val, model.predict(X_val)))\n",
    "        if verbose:\n",
    "            print('fold %d test accuracy=%.4g' % (foldi, acc))\n",
    "\n",
    "    return (np.mean(test_accuracies), np.std(test_accuracies) / math.sqrt(n_folds),\n",
    "            np.mean(train_accuracies), np.std(train_accuracies) / math.sqrt(n_folds),\n",
    "            np.mean(val_accuracies), np.std(val_accuracies) / math.sqrt(n_folds)\n",
    "           )\n",
    "\n",
    "\n",
    "def print_results(results):\n",
    "    print('test accuracy=%.4f (%.2f) train accuracy=%.4f (%.2f) validation accuracy=%.4f (%.2f)' % results)\n",
    "\n",
    "    \n",
    "def generate_all_opts_rf():\n",
    "    \"\"\"\n",
    "    Enumerate all possible classifier settings and compute.\n",
    "    \"\"\"\n",
    "    # Number of trees in random forest\n",
    "    n_estimators = [int(x) for x in np.linspace(start = 10, stop = 1000, num = 25)]\n",
    "    # Number of features to consider at every split\n",
    "    max_features = ['auto', 'sqrt']\n",
    "    # Maximum number of levels in tree\n",
    "    max_depth = [int(x) for x in np.linspace(10, 110, num = 11)]\n",
    "    max_depth.append(None)\n",
    "    # Minimum number of samples required to split a node\n",
    "    min_samples_split = [2, 5, 10]\n",
    "    # Minimum number of samples required at each leaf node\n",
    "    min_samples_leaf = [1, 2, 4]\n",
    "    # Method of selecting samples for training each tree\n",
    "    bootstrap = [True, False]\n",
    "    # Create the random grid\n",
    "    random_grid = {'n_estimators': n_estimators,\n",
    "                   'max_features': max_features,\n",
    "                   'max_depth': max_depth,\n",
    "                   'min_samples_split': min_samples_split,\n",
    "                   'min_samples_leaf': min_samples_leaf,\n",
    "                   'bootstrap': bootstrap}\n",
    "    #option_iter = product(penalty, fit_intercept)\n",
    "    #return argnames, option_iter\n",
    "    return random_grid\n",
    "\n",
    "def eval_all_combinations(X_train, y_train, X_test, y_test, n_folds=3, verbose=False, **kwds):\n",
    "    \"\"\"Evaluate all combinations of options.\n",
    "    \"\"\"\n",
    "    results = []\n",
    "    random_grid = generate_all_opts_rf()\n",
    "    # Create base model to tune\n",
    "    rf = get_clf_rf()\n",
    "    rf_random = RandomizedSearchCV(estimator=rf, param_distributions=random_grid, n_iter=100, cv=n_folds,\n",
    "                                   verbose=2, random_state=42, n_jobs=None)\n",
    "    rf_random.fit(X_train, y_train)\n",
    "    \n",
    "    return rf_random"
   ]
  },
  {
   "cell_type": "code",
   "execution_count": null,
   "metadata": {},
   "outputs": [
    {
     "name": "stdout",
     "output_type": "stream",
     "text": [
      "Fitting 3 folds for each of 100 candidates, totalling 300 fits\n",
      "[CV] n_estimators=835, min_samples_split=10, min_samples_leaf=1, max_features=auto, max_depth=50, bootstrap=False \n"
     ]
    },
    {
     "name": "stderr",
     "output_type": "stream",
     "text": [
      "[Parallel(n_jobs=1)]: Using backend SequentialBackend with 1 concurrent workers.\n"
     ]
    }
   ],
   "source": [
    "results = eval_all_combinations(X_train, y_train, X_test, y_test, verbose=False)\n",
    "#best_opts = results[0][1]\n",
    "#print(\"Best options are {} with accuracy={:.2%}\".format(results[0][1], results[0"
   ]
  },
  {
   "cell_type": "code",
   "execution_count": null,
   "metadata": {},
   "outputs": [],
   "source": [
    "#print(\"eval comb: {}\".format(kwds))\n",
    "        accs = do_cross_validation_rf(X_train.to_numpy(), y_train.to_numpy(), X_test.to_numpy(),\n",
    "                                      y_test.to_numpy(), n_folds=n_folds, verbose=verbose, **kwds)\n",
    "        opts = kwds.copy()\n",
    "        results.append((accs, opts))\n",
    "    results_sorted = sorted(results, key=lambda x: (-x[0][4], -x[0][0], -x[0][2]))\n",
    "\n",
    "    argnames, option_iter = generate_all_opts()\n",
    "    for options in option_iter:\n",
    "        opts = {name: opt for name, opt in zip(argnames, options)}\n",
    "        accs = do_cross_validation(X_train.to_numpy(), y_train.to_numpy(), X_test.to_numpy(),\n",
    "                                      y_test.to_numpy(), n_folds=n_folds, verbose=verbose, **opts)\n",
    "        results.append((accs, opts))\n",
    "    results_sorted = sorted(results, key=lambda x: (-x[0][4], x[0][6], -x[0][0], -x[0][2]))\n",
    "    return results_sorted\n"
   ]
  },
  {
   "cell_type": "code",
   "execution_count": null,
   "metadata": {},
   "outputs": [],
   "source": [
    "results = eval_all_combinations(X_train, y_train, X_test, y_test, verbose=False)\n",
    "best_opts = results[0][1]\n",
    "print(\"Best options are {} with accuracy={:.2%}\".format(results[0][1], results[0][0][4]))"
   ]
  },
  {
   "cell_type": "code",
   "execution_count": null,
   "metadata": {},
   "outputs": [],
   "source": [
    "# Find the best c value\n",
    "cs = [.001, .01, .1, 1, 5, 10, 1000, 10000]\n",
    "results = eval_all_combinations(X_train, y_train, X_test, y_test, verbose=False,\n",
    "                                cs=cs, **best_opts)\n",
    "\n",
    "def plot_accuracies(results):\n",
    "    \"\"\"Plot accuracies for the different c values.\n",
    "    \"\"\"\n",
    "    #Sort results according to c values\n",
    "    results = sorted(results, key=lambda x: (x[1]['c']))\n",
    "    accs = [result[0] for result in results]\n",
    "    opts = [result[1] for result in results]\n",
    "    cs = [opt['c'] for opt in opts]\n",
    "    test_accs = [acc[0] for acc in accs]\n",
    "    test_sd = [acc[1] for acc in accs]\n",
    "    train_accs = [acc[2] for acc in accs]\n",
    "    train_sd = [acc[3] for acc in accs]\n",
    "    val_accs = [acc[4] for acc in accs]\n",
    "    val_sd = [acc[5] for acc in accs]\n",
    "    dev = [acc[6] for acc in accs]\n",
    "    dev_sd = [acc[7] for acc in accs]\n",
    "    \n",
    "    # plot accuracies\n",
    "    plt.figure()\n",
    "    plt.errorbar(cs, train_accs, fmt='go-', label='train acc', yerr=train_sd)\n",
    "    plt.errorbar(cs, test_accs, fmt='bo-', label='test acc', yerr=test_sd)\n",
    "    plt.errorbar(cs, val_accs, fmt='ro-', label='val acc', yerr=val_sd)\n",
    "    plt.xlabel('C')\n",
    "    plt.ylabel('Accuracy')\n",
    "    plt.xscale('log')\n",
    "    plt.title(\"Accuracies with different C values.\")\n",
    "    plt.ylim([0.68, 0.75])\n",
    "    plt.legend()\n",
    "    plt.show()\n",
    "    # plot deviance values\n",
    "    plt.figure()\n",
    "    plt.errorbar(cs, dev, fmt='ro-', label='deviance vals', yerr=dev_sd)\n",
    "    plt.xlabel('C')\n",
    "    plt.ylabel('deviance')\n",
    "    plt.xscale('log')\n",
    "    plt.title(\"Deviance Values with different C values.\")\n",
    "    plt.show()"
   ]
  }
 ],
 "metadata": {
  "kernelspec": {
   "display_name": "Python 3",
   "language": "python",
   "name": "python3"
  },
  "language_info": {
   "codemirror_mode": {
    "name": "ipython",
    "version": 3
   },
   "file_extension": ".py",
   "mimetype": "text/x-python",
   "name": "python",
   "nbconvert_exporter": "python",
   "pygments_lexer": "ipython3",
   "version": "3.7.7"
  }
 },
 "nbformat": 4,
 "nbformat_minor": 4
}
