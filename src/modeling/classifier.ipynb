{
 "cells": [
  {
   "cell_type": "code",
   "execution_count": 1,
   "metadata": {},
   "outputs": [],
   "source": [
    "import os\n",
    "import datetime\n",
    "import math\n",
    "from datetime import date\n",
    "import time\n",
    "from collections import Counter\n",
    "from collections import defaultdict\n",
    "from itertools import product\n",
    "from math import log\n",
    "\n",
    "import pickle\n",
    "import pandas as pd\n",
    "import numpy as np\n",
    "from pandas.api.types import CategoricalDtype\n",
    "\n",
    "import matplotlib.pyplot as plt\n",
    "import seaborn as sns\n",
    "\n",
    "from sklearn import preprocessing\n",
    "from sklearn.model_selection import train_test_split\n",
    "from sklearn.model_selection import GridSearchCV\n",
    "from sklearn.model_selection import StratifiedKFold\n",
    "from sklearn.naive_bayes import GaussianNB\n",
    "from sklearn.linear_model import LogisticRegression\n",
    "from sklearn.feature_selection import RFECV\n",
    "from sklearn.ensemble import RandomForestClassifier\n",
    "from sklearn.model_selection import RandomizedSearchCV\n",
    "\n",
    "import statsmodels.api as sm\n",
    "import statsmodels.formula.api as smf\n",
    "\n",
    "from scipy import stats\n",
    "from scipy.stats import norm\n",
    "from sklearn.metrics import accuracy_score\n",
    "from sklearn.metrics import log_loss\n",
    "from sklearn.metrics import confusion_matrix\n",
    "from sklearn.metrics import precision_score\n",
    "from sklearn.metrics import recall_score\n",
    "from sklearn.metrics import classification_report\n",
    "from sklearn.metrics import roc_curve\n",
    "from sklearn.metrics import roc_auc_score\n",
    "from sklearn.metrics import precision_recall_curve\n",
    "\n",
    "#%matplotlib inline\n",
    "sns.set()"
   ]
  },
  {
   "cell_type": "markdown",
   "metadata": {},
   "source": [
    "# MODELING PROCESS\n",
    "\n",
    "The modeling process will consist of the following phases:\n",
    "\n",
    "1. Normalize data\n",
    "2. Build model\n",
    "3. Compute cross-validation accuracy\n",
    "4. Tune model\n",
    "5. Repeat\n",
    "6. **Report accuracy on new data**"
   ]
  },
  {
   "cell_type": "code",
   "execution_count": 2,
   "metadata": {},
   "outputs": [],
   "source": [
    "def initial_setup():\n",
    "    \"\"\"Create Initial setup of directories variables, and dataframe vars to use.\n",
    "    Returns:\n",
    "        A tuple containing:\n",
    "            - datadir....Absolute Path to the data directory of the project.\n",
    "            - dirname....Absolute Path of directory that contains this file.\n",
    "            - imagesdir..Absolute path of directory that contains the images.\n",
    "            - modelsdir..Absolute path of directory that contains the models.\n",
    "    \"\"\"\n",
    "    dirname = os.path.dirname(os.path.abspath('__file__'))\n",
    "    datadir =  os.path.join(\n",
    "                os.path.abspath(os.path.join(os.path.join(dirname, os.pardir), os.pardir)), \n",
    "                'data'\n",
    "            )\n",
    "    imagesdir =  os.path.join(os.path.abspath(os.path.join(dirname, os.pardir)), 'images')\n",
    "    modelsdir = os.path.join(datadir, 'models')\n",
    "    return dirname, datadir, imagesdir, modelsdir\n",
    "\n",
    "\n",
    "def read_from_disk(filename):\n",
    "    \"\"\"Read a dataframe from a filename in disk.\n",
    "    Args:\n",
    "        filename....Path to the file.\n",
    "    Returns:\n",
    "        A pandas dataframe.\n",
    "    \"\"\"\n",
    "    return pickle.load(open(filename, 'rb'))\n",
    "\n",
    "\n",
    "def store_model(model, filename):\n",
    "    \"\"\"Store model using pickle.\n",
    "    Args:\n",
    "        model...,,,,ML model to store.\n",
    "        filename....Path to the file to store the datafram in.\n",
    "    Returns:\n",
    "        Nothing.\n",
    "    \"\"\"\n",
    "    pickl = {'model': model}\n",
    "    pickle.dump(pickl, open(filename + \".p\", \"wb\"))"
   ]
  },
  {
   "cell_type": "code",
   "execution_count": 3,
   "metadata": {},
   "outputs": [
    {
     "name": "stdout",
     "output_type": "stream",
     "text": [
      "Step 0: Initial directories and colnames set up\n",
      "Directory of this file is /home/agericke/crowdfunding_ml/src/modeling\n",
      "Data directory is /home/agericke/crowdfunding_ml/data\n",
      "Images directory is /home/agericke/crowdfunding_ml/src/images\n",
      "Models directory is /home/agericke/crowdfunding_ml/data/models\n"
     ]
    }
   ],
   "source": [
    "# 0 - Initial directories and colnames set up\n",
    "print(\"Step 0: Initial directories and colnames set up\")\n",
    "dirname, datadir, imagesdir, modelsdir = initial_setup()\n",
    "print(\"Directory of this file is {}\".format(dirname))\n",
    "print(\"Data directory is {}\".format(datadir))\n",
    "print(\"Images directory is {}\".format(imagesdir))\n",
    "print(\"Models directory is {}\".format(modelsdir))"
   ]
  },
  {
   "cell_type": "markdown",
   "metadata": {},
   "source": [
    "##  0. Load data and select variables."
   ]
  },
  {
   "cell_type": "code",
   "execution_count": 4,
   "metadata": {},
   "outputs": [
    {
     "data": {
      "text/html": [
       "<div>\n",
       "<style scoped>\n",
       "    .dataframe tbody tr th:only-of-type {\n",
       "        vertical-align: middle;\n",
       "    }\n",
       "\n",
       "    .dataframe tbody tr th {\n",
       "        vertical-align: top;\n",
       "    }\n",
       "\n",
       "    .dataframe thead th {\n",
       "        text-align: right;\n",
       "    }\n",
       "</style>\n",
       "<table border=\"1\" class=\"dataframe\">\n",
       "  <thead>\n",
       "    <tr style=\"text-align: right;\">\n",
       "      <th></th>\n",
       "      <th>staff_pick</th>\n",
       "      <th>result</th>\n",
       "      <th>goal_usd</th>\n",
       "      <th>pledged_usd</th>\n",
       "      <th>main_category</th>\n",
       "      <th>state</th>\n",
       "      <th>ln(goal_usd)</th>\n",
       "      <th>goal_usd_bin</th>\n",
       "      <th>duration_in_days_bin</th>\n",
       "      <th>weekday_launch</th>\n",
       "      <th>weekend_launch</th>\n",
       "      <th>month_launch</th>\n",
       "      <th>num_competitors</th>\n",
       "      <th>num_competitors_bin</th>\n",
       "      <th>num_competitors_staffpick</th>\n",
       "    </tr>\n",
       "    <tr>\n",
       "      <th>launched_at</th>\n",
       "      <th></th>\n",
       "      <th></th>\n",
       "      <th></th>\n",
       "      <th></th>\n",
       "      <th></th>\n",
       "      <th></th>\n",
       "      <th></th>\n",
       "      <th></th>\n",
       "      <th></th>\n",
       "      <th></th>\n",
       "      <th></th>\n",
       "      <th></th>\n",
       "      <th></th>\n",
       "      <th></th>\n",
       "      <th></th>\n",
       "    </tr>\n",
       "  </thead>\n",
       "  <tbody>\n",
       "    <tr>\n",
       "      <th>2009-04-28 11:55:41</th>\n",
       "      <td>True</td>\n",
       "      <td>1</td>\n",
       "      <td>3000.0</td>\n",
       "      <td>3329.00</td>\n",
       "      <td>journalism</td>\n",
       "      <td>NY</td>\n",
       "      <td>8.006368</td>\n",
       "      <td>(0.0, 40000.0]</td>\n",
       "      <td>(0.0, 29.0]</td>\n",
       "      <td>Tuesday</td>\n",
       "      <td>False</td>\n",
       "      <td>4</td>\n",
       "      <td>1.0</td>\n",
       "      <td>(0.0, 10.0]</td>\n",
       "      <td>1.0</td>\n",
       "    </tr>\n",
       "    <tr>\n",
       "      <th>2009-04-29 03:26:32</th>\n",
       "      <td>False</td>\n",
       "      <td>0</td>\n",
       "      <td>300.0</td>\n",
       "      <td>15.00</td>\n",
       "      <td>music</td>\n",
       "      <td>IL</td>\n",
       "      <td>5.703782</td>\n",
       "      <td>(0.0, 40000.0]</td>\n",
       "      <td>(0.0, 29.0]</td>\n",
       "      <td>Wednesday</td>\n",
       "      <td>False</td>\n",
       "      <td>4</td>\n",
       "      <td>1.0</td>\n",
       "      <td>(0.0, 10.0]</td>\n",
       "      <td>0.0</td>\n",
       "    </tr>\n",
       "    <tr>\n",
       "      <th>2009-04-29 20:08:13</th>\n",
       "      <td>False</td>\n",
       "      <td>0</td>\n",
       "      <td>640.0</td>\n",
       "      <td>41.00</td>\n",
       "      <td>design</td>\n",
       "      <td>NY</td>\n",
       "      <td>6.461468</td>\n",
       "      <td>(0.0, 40000.0]</td>\n",
       "      <td>(45.0, inf]</td>\n",
       "      <td>Wednesday</td>\n",
       "      <td>False</td>\n",
       "      <td>4</td>\n",
       "      <td>1.0</td>\n",
       "      <td>(0.0, 10.0]</td>\n",
       "      <td>0.0</td>\n",
       "    </tr>\n",
       "    <tr>\n",
       "      <th>2009-04-29 21:11:15</th>\n",
       "      <td>True</td>\n",
       "      <td>1</td>\n",
       "      <td>500.0</td>\n",
       "      <td>1820.00</td>\n",
       "      <td>technology</td>\n",
       "      <td>NY</td>\n",
       "      <td>6.214608</td>\n",
       "      <td>(0.0, 40000.0]</td>\n",
       "      <td>(45.0, inf]</td>\n",
       "      <td>Wednesday</td>\n",
       "      <td>False</td>\n",
       "      <td>4</td>\n",
       "      <td>1.0</td>\n",
       "      <td>(0.0, 10.0]</td>\n",
       "      <td>1.0</td>\n",
       "    </tr>\n",
       "    <tr>\n",
       "      <th>2009-04-29 23:32:55</th>\n",
       "      <td>False</td>\n",
       "      <td>1</td>\n",
       "      <td>500.0</td>\n",
       "      <td>501.66</td>\n",
       "      <td>film-&amp;-video</td>\n",
       "      <td>IN</td>\n",
       "      <td>6.214608</td>\n",
       "      <td>(0.0, 40000.0]</td>\n",
       "      <td>(29.0, 45.0]</td>\n",
       "      <td>Wednesday</td>\n",
       "      <td>False</td>\n",
       "      <td>4</td>\n",
       "      <td>1.0</td>\n",
       "      <td>(0.0, 10.0]</td>\n",
       "      <td>0.0</td>\n",
       "    </tr>\n",
       "    <tr>\n",
       "      <th>2009-04-30 20:22:43</th>\n",
       "      <td>True</td>\n",
       "      <td>1</td>\n",
       "      <td>6000.0</td>\n",
       "      <td>6575.00</td>\n",
       "      <td>theater</td>\n",
       "      <td>NY</td>\n",
       "      <td>8.699515</td>\n",
       "      <td>(0.0, 40000.0]</td>\n",
       "      <td>(29.0, 45.0]</td>\n",
       "      <td>Thursday</td>\n",
       "      <td>False</td>\n",
       "      <td>4</td>\n",
       "      <td>1.0</td>\n",
       "      <td>(0.0, 10.0]</td>\n",
       "      <td>1.0</td>\n",
       "    </tr>\n",
       "    <tr>\n",
       "      <th>2009-04-30 20:23:22</th>\n",
       "      <td>False</td>\n",
       "      <td>1</td>\n",
       "      <td>10000.0</td>\n",
       "      <td>10145.00</td>\n",
       "      <td>theater</td>\n",
       "      <td>NY</td>\n",
       "      <td>9.210340</td>\n",
       "      <td>(0.0, 40000.0]</td>\n",
       "      <td>(45.0, inf]</td>\n",
       "      <td>Thursday</td>\n",
       "      <td>False</td>\n",
       "      <td>4</td>\n",
       "      <td>2.0</td>\n",
       "      <td>(0.0, 10.0]</td>\n",
       "      <td>1.0</td>\n",
       "    </tr>\n",
       "    <tr>\n",
       "      <th>2009-05-01 03:06:19</th>\n",
       "      <td>True</td>\n",
       "      <td>1</td>\n",
       "      <td>500.0</td>\n",
       "      <td>575.00</td>\n",
       "      <td>theater</td>\n",
       "      <td>VA</td>\n",
       "      <td>6.214608</td>\n",
       "      <td>(0.0, 40000.0]</td>\n",
       "      <td>(29.0, 45.0]</td>\n",
       "      <td>Friday</td>\n",
       "      <td>False</td>\n",
       "      <td>5</td>\n",
       "      <td>1.0</td>\n",
       "      <td>(0.0, 10.0]</td>\n",
       "      <td>1.0</td>\n",
       "    </tr>\n",
       "    <tr>\n",
       "      <th>2009-05-01 12:22:21</th>\n",
       "      <td>False</td>\n",
       "      <td>0</td>\n",
       "      <td>2000.0</td>\n",
       "      <td>25.00</td>\n",
       "      <td>art</td>\n",
       "      <td>NY</td>\n",
       "      <td>7.600902</td>\n",
       "      <td>(0.0, 40000.0]</td>\n",
       "      <td>(29.0, 45.0]</td>\n",
       "      <td>Friday</td>\n",
       "      <td>False</td>\n",
       "      <td>5</td>\n",
       "      <td>1.0</td>\n",
       "      <td>(0.0, 10.0]</td>\n",
       "      <td>0.0</td>\n",
       "    </tr>\n",
       "    <tr>\n",
       "      <th>2009-05-01 15:44:25</th>\n",
       "      <td>True</td>\n",
       "      <td>1</td>\n",
       "      <td>4000.0</td>\n",
       "      <td>4100.60</td>\n",
       "      <td>music</td>\n",
       "      <td>LA</td>\n",
       "      <td>8.294050</td>\n",
       "      <td>(0.0, 40000.0]</td>\n",
       "      <td>(29.0, 45.0]</td>\n",
       "      <td>Friday</td>\n",
       "      <td>False</td>\n",
       "      <td>5</td>\n",
       "      <td>1.0</td>\n",
       "      <td>(0.0, 10.0]</td>\n",
       "      <td>1.0</td>\n",
       "    </tr>\n",
       "  </tbody>\n",
       "</table>\n",
       "</div>"
      ],
      "text/plain": [
       "                     staff_pick  result  goal_usd  pledged_usd main_category  \\\n",
       "launched_at                                                                    \n",
       "2009-04-28 11:55:41        True       1    3000.0      3329.00    journalism   \n",
       "2009-04-29 03:26:32       False       0     300.0        15.00         music   \n",
       "2009-04-29 20:08:13       False       0     640.0        41.00        design   \n",
       "2009-04-29 21:11:15        True       1     500.0      1820.00    technology   \n",
       "2009-04-29 23:32:55       False       1     500.0       501.66  film-&-video   \n",
       "2009-04-30 20:22:43        True       1    6000.0      6575.00       theater   \n",
       "2009-04-30 20:23:22       False       1   10000.0     10145.00       theater   \n",
       "2009-05-01 03:06:19        True       1     500.0       575.00       theater   \n",
       "2009-05-01 12:22:21       False       0    2000.0        25.00           art   \n",
       "2009-05-01 15:44:25        True       1    4000.0      4100.60         music   \n",
       "\n",
       "                    state  ln(goal_usd)    goal_usd_bin duration_in_days_bin  \\\n",
       "launched_at                                                                    \n",
       "2009-04-28 11:55:41    NY      8.006368  (0.0, 40000.0]          (0.0, 29.0]   \n",
       "2009-04-29 03:26:32    IL      5.703782  (0.0, 40000.0]          (0.0, 29.0]   \n",
       "2009-04-29 20:08:13    NY      6.461468  (0.0, 40000.0]          (45.0, inf]   \n",
       "2009-04-29 21:11:15    NY      6.214608  (0.0, 40000.0]          (45.0, inf]   \n",
       "2009-04-29 23:32:55    IN      6.214608  (0.0, 40000.0]         (29.0, 45.0]   \n",
       "2009-04-30 20:22:43    NY      8.699515  (0.0, 40000.0]         (29.0, 45.0]   \n",
       "2009-04-30 20:23:22    NY      9.210340  (0.0, 40000.0]          (45.0, inf]   \n",
       "2009-05-01 03:06:19    VA      6.214608  (0.0, 40000.0]         (29.0, 45.0]   \n",
       "2009-05-01 12:22:21    NY      7.600902  (0.0, 40000.0]         (29.0, 45.0]   \n",
       "2009-05-01 15:44:25    LA      8.294050  (0.0, 40000.0]         (29.0, 45.0]   \n",
       "\n",
       "                    weekday_launch  weekend_launch  month_launch  \\\n",
       "launched_at                                                        \n",
       "2009-04-28 11:55:41        Tuesday           False             4   \n",
       "2009-04-29 03:26:32      Wednesday           False             4   \n",
       "2009-04-29 20:08:13      Wednesday           False             4   \n",
       "2009-04-29 21:11:15      Wednesday           False             4   \n",
       "2009-04-29 23:32:55      Wednesday           False             4   \n",
       "2009-04-30 20:22:43       Thursday           False             4   \n",
       "2009-04-30 20:23:22       Thursday           False             4   \n",
       "2009-05-01 03:06:19         Friday           False             5   \n",
       "2009-05-01 12:22:21         Friday           False             5   \n",
       "2009-05-01 15:44:25         Friday           False             5   \n",
       "\n",
       "                     num_competitors num_competitors_bin  \\\n",
       "launched_at                                                \n",
       "2009-04-28 11:55:41              1.0         (0.0, 10.0]   \n",
       "2009-04-29 03:26:32              1.0         (0.0, 10.0]   \n",
       "2009-04-29 20:08:13              1.0         (0.0, 10.0]   \n",
       "2009-04-29 21:11:15              1.0         (0.0, 10.0]   \n",
       "2009-04-29 23:32:55              1.0         (0.0, 10.0]   \n",
       "2009-04-30 20:22:43              1.0         (0.0, 10.0]   \n",
       "2009-04-30 20:23:22              2.0         (0.0, 10.0]   \n",
       "2009-05-01 03:06:19              1.0         (0.0, 10.0]   \n",
       "2009-05-01 12:22:21              1.0         (0.0, 10.0]   \n",
       "2009-05-01 15:44:25              1.0         (0.0, 10.0]   \n",
       "\n",
       "                     num_competitors_staffpick  \n",
       "launched_at                                     \n",
       "2009-04-28 11:55:41                        1.0  \n",
       "2009-04-29 03:26:32                        0.0  \n",
       "2009-04-29 20:08:13                        0.0  \n",
       "2009-04-29 21:11:15                        1.0  \n",
       "2009-04-29 23:32:55                        0.0  \n",
       "2009-04-30 20:22:43                        1.0  \n",
       "2009-04-30 20:23:22                        1.0  \n",
       "2009-05-01 03:06:19                        1.0  \n",
       "2009-05-01 12:22:21                        0.0  \n",
       "2009-05-01 15:44:25                        1.0  "
      ]
     },
     "execution_count": 4,
     "metadata": {},
     "output_type": "execute_result"
    }
   ],
   "source": [
    "df = read_from_disk(os.path.join(datadir, 'data_cleaned.pkl'))\n",
    "df.head(10)"
   ]
  },
  {
   "cell_type": "code",
   "execution_count": 5,
   "metadata": {},
   "outputs": [],
   "source": [
    "columns = ['staff_pick', 'result', 'ln(goal_usd)', 'main_category', 'state', 'duration_in_days_bin', \n",
    "           'weekday_launch', 'month_launch', 'num_competitors_bin']\n",
    "df = df[columns].copy()"
   ]
  },
  {
   "cell_type": "markdown",
   "metadata": {},
   "source": [
    "## 1. Standardize data and Dummy Variables\n",
    "\n",
    "First of all lets standardize only numeric columns of the data."
   ]
  },
  {
   "cell_type": "code",
   "execution_count": 6,
   "metadata": {},
   "outputs": [],
   "source": [
    "from pandas.api.types import is_numeric_dtype\n",
    "\n",
    "y = df['result']\n",
    "X = df.drop('result', axis=1)\n",
    "num_cols = X.columns[X.dtypes.apply(lambda col: np.all([is_numeric_dtype(col),  col != 'bool']))]"
   ]
  },
  {
   "cell_type": "code",
   "execution_count": 7,
   "metadata": {},
   "outputs": [
    {
     "name": "stderr",
     "output_type": "stream",
     "text": [
      "/home/agericke/anaconda3/lib/python3.7/site-packages/sklearn/preprocessing/data.py:625: DataConversionWarning: Data with input dtype int64, float64 were all converted to float64 by StandardScaler.\n",
      "  return self.partial_fit(X, y)\n",
      "/home/agericke/anaconda3/lib/python3.7/site-packages/sklearn/base.py:462: DataConversionWarning: Data with input dtype int64, float64 were all converted to float64 by StandardScaler.\n",
      "  return self.fit(X, **fit_params).transform(X)\n"
     ]
    }
   ],
   "source": [
    "scaler = preprocessing.StandardScaler()\n",
    "X[num_cols] = scaler.fit_transform(X[num_cols])"
   ]
  },
  {
   "cell_type": "code",
   "execution_count": 8,
   "metadata": {},
   "outputs": [],
   "source": [
    "X['staff_pick'] = X['staff_pick'].astype('int')"
   ]
  },
  {
   "cell_type": "code",
   "execution_count": 9,
   "metadata": {},
   "outputs": [],
   "source": [
    "X = pd.get_dummies(X, drop_first=True)"
   ]
  },
  {
   "cell_type": "markdown",
   "metadata": {},
   "source": [
    "Stratified splitting"
   ]
  },
  {
   "cell_type": "code",
   "execution_count": 10,
   "metadata": {},
   "outputs": [],
   "source": [
    "X_train, X_test, y_train, y_test = train_test_split(X, y, test_size=0.2, random_state=42, stratify=y)"
   ]
  },
  {
   "cell_type": "markdown",
   "metadata": {},
   "source": [
    "##  2. Models"
   ]
  },
  {
   "cell_type": "markdown",
   "metadata": {},
   "source": [
    "###  2.0 NIR (No Informaiton Rate)"
   ]
  },
  {
   "cell_type": "code",
   "execution_count": 29,
   "metadata": {},
   "outputs": [
    {
     "data": {
      "text/plain": [
       "0.5531897274524621"
      ]
     },
     "execution_count": 29,
     "metadata": {},
     "output_type": "execute_result"
    }
   ],
   "source": [
    "nir = np.mean(y)\n",
    "nir"
   ]
  },
  {
   "cell_type": "markdown",
   "metadata": {},
   "source": [
    "### 2.1 Gaussian Naive Bayes"
   ]
  },
  {
   "cell_type": "code",
   "execution_count": 30,
   "metadata": {},
   "outputs": [],
   "source": [
    "gnb_scikit = GaussianNB()"
   ]
  },
  {
   "cell_type": "code",
   "execution_count": 31,
   "metadata": {},
   "outputs": [
    {
     "data": {
      "text/plain": [
       "GaussianNB(priors=None, var_smoothing=1e-09)"
      ]
     },
     "execution_count": 31,
     "metadata": {},
     "output_type": "execute_result"
    }
   ],
   "source": [
    "gnb_scikit.fit(X_train, y_train)"
   ]
  },
  {
   "cell_type": "code",
   "execution_count": 32,
   "metadata": {},
   "outputs": [],
   "source": [
    "y_test_pred = gnb_scikit.predict(X_test)\n",
    "y_train_pred = gnb_scikit.predict(X_train)"
   ]
  },
  {
   "cell_type": "code",
   "execution_count": 38,
   "metadata": {},
   "outputs": [
    {
     "data": {
      "text/plain": [
       "[1, 1, 0, 1, 1, 1, 1, 1, 1, 0]"
      ]
     },
     "execution_count": 38,
     "metadata": {},
     "output_type": "execute_result"
    }
   ],
   "source": [
    "y_test.head(10).to_numpy().tolist()"
   ]
  },
  {
   "cell_type": "code",
   "execution_count": 17,
   "metadata": {},
   "outputs": [
    {
     "name": "stdout",
     "output_type": "stream",
     "text": [
      "accuracy on training data=0.6518751900\n",
      "accuracy on test data=0.6486038869\n"
     ]
    }
   ],
   "source": [
    "print('accuracy on training data={:.10f}'.format(accuracy_score(y_train_pred, y_train)))\n",
    "print('accuracy on test data={:.10f}'.format(accuracy_score(y_test_pred, y_test)))"
   ]
  },
  {
   "cell_type": "markdown",
   "metadata": {},
   "source": [
    "For a Gaussian Naive Bayes classificator we will need to compute:\n",
    "\n",
    "1. P(y) - Prior probabilities\n",
    "2. P(x|y)\n",
    "3. P(y|x) - Posterior probabilities"
   ]
  },
  {
   "cell_type": "code",
   "execution_count": 18,
   "metadata": {},
   "outputs": [],
   "source": [
    "class GaussianNaiveBayes:\n",
    "    \"\"\"Naive Bayes text categorization model\n",
    "    \"\"\"\n",
    "\n",
    "    def __init__(self, unique_classes=[0]):\n",
    "        self.classes = np.array(unique_classes)\n",
    "        \n",
    "    \n",
    "    def fit(self, X, y):\n",
    "\n",
    "        self.examples = X\n",
    "        self.labels = y\n",
    "\n",
    "        self.prior_prob = X.groupby(y).apply(lambda x: float(len(x)) / float(X.shape[0])).to_numpy()\n",
    "\n",
    "        # Calculate per column means\n",
    "        self.means = X.groupby(y).aggregate(np.mean).to_numpy()\n",
    "        self.vars = X.groupby(y).aggregate(np.var).to_numpy()\n",
    "            \n",
    "    \n",
    "    def predict(self, X):\n",
    "        \n",
    "        y_pred = np.zeros(X.shape[0])\n",
    "        \n",
    "        probs = np.empty([X.shape[0], len(self.classes)])\n",
    "        \n",
    "        if not isinstance(X, np.ndarray): X = np.array(X)\n",
    "\n",
    "        for i, cl in enumerate(self.classes):\n",
    "            \n",
    "            # For efficiency purposes, we will perform first all per column values\n",
    "            #df_logs = pd.DataFrame().reindex_like(X)\n",
    "            #df_logs = X.apply(lambda col_values: self.calculate_log_probabilities(col_values, col_values.name, cl),\n",
    "            #                                      axis=0)\n",
    "            \n",
    "            prob = np.log(self.prior_prob[i])\n",
    "            cond_prob =  - 0.5 * np.sum(2. * np.pi * self.vars[i, :])\n",
    "            cond_prob -= 0.5 * np.sum((X - self.means[i, :]) ** 2 / (self.vars[i, :]), 1)\n",
    "            probs[:, cl] = prob + cond_prob\n",
    "            \n",
    "        #normalization_factor = self.log_sum(sum_positive, sum_negative)\n",
    "            #probs[:, cl] = df_logs.apply(lambda x: x.sum() + self.prior_prob[cl], axis=1)\n",
    "        \n",
    "        y_pred = self.classes[probs.argmax(axis=1)]\n",
    "\n",
    "        return y_pred\n",
    "    \n",
    "    \n",
    "    def log_sum(self, logx, logy):\n",
    "        \"\"\"Utility function to compute $log(exp(logx) + exp(logy))$\n",
    "        while avoiding numerical issues\n",
    "        \"\"\"\n",
    "        m = max(logx, logy)\n",
    "        return m + log(exp(logx - m) + exp(logy - m))\n",
    "    \n",
    "    \n",
    "    def calculate_log_probabilities(self, values, col_name, cl):\n",
    "        \"\"\"Calculate probabilities\n",
    "        \"\"\"\n",
    "        mean = self.col_means.loc[cl, col_name]\n",
    "        std = self.col_stds.loc[cl, col_name]\n",
    "        dist = norm(mean, std)\n",
    "        \n",
    "        return np.log(norm.pdf(values.values, mean, std))"
   ]
  },
  {
   "cell_type": "code",
   "execution_count": 19,
   "metadata": {},
   "outputs": [],
   "source": [
    "gnb = GaussianNaiveBayes([0, 1])\n",
    "gnb.fit(X_train, y_train)"
   ]
  },
  {
   "cell_type": "code",
   "execution_count": 20,
   "metadata": {},
   "outputs": [],
   "source": [
    "y_test_pred = gnb.predict(X_test)\n",
    "y_train_pred = gnb.predict(X_train)"
   ]
  },
  {
   "cell_type": "code",
   "execution_count": 21,
   "metadata": {},
   "outputs": [
    {
     "name": "stdout",
     "output_type": "stream",
     "text": [
      "accuracy on training data=0.6525286114\n",
      "accuracy on test data=0.6473358694\n"
     ]
    }
   ],
   "source": [
    "print('accuracy on training data={:.10f}'.format(accuracy_score(y_train_pred, y_train)))\n",
    "print('accuracy on test data={:.10f}'.format(accuracy_score(y_test_pred, y_test)))"
   ]
  },
  {
   "cell_type": "code",
   "execution_count": 45,
   "metadata": {},
   "outputs": [],
   "source": [
    "# Store models\n",
    "filename = os.path.join(modelsdir, 'gnb_scikit')\n",
    "store_model(gnb_scikit, filename)\n",
    "filename = os.path.join(modelsdir, 'gnb_scratch')\n",
    "store_model(gnb, filename)"
   ]
  },
  {
   "cell_type": "markdown",
   "metadata": {},
   "source": [
    "### 2.2 Logistic Regression"
   ]
  },
  {
   "cell_type": "markdown",
   "metadata": {},
   "source": [
    "For the Logistic Regression we will approach it in two methods:\n",
    "\n",
    "1. Only from a ML perspective using the scikit package. We will perform a GridSearch from scratch and using the GridSearchCV method. Then we will perform a model analysis, calculating ROC values, precision and recall, AUC values and analysing the top coefficients for both classes.\n",
    "\n",
    "2. We will introduce as well a statistics perspective for analysing the statistical importance of each coefficient and will try to optimize the model by prunning certain variables."
   ]
  },
  {
   "cell_type": "markdown",
   "metadata": {},
   "source": [
    "### 2.2.1 ML Log. Regresion"
   ]
  },
  {
   "cell_type": "markdown",
   "metadata": {},
   "source": [
    "#### Naive Log. Regression.\n",
    "\n",
    "Perform a simple Logistic Regression to obtain an accuracy threshold."
   ]
  },
  {
   "cell_type": "code",
   "execution_count": 24,
   "metadata": {},
   "outputs": [
    {
     "data": {
      "text/plain": [
       "LogisticRegression(C=1.0, class_weight=None, dual=False, fit_intercept=True,\n",
       "          intercept_scaling=1, max_iter=200, multi_class='auto',\n",
       "          n_jobs=None, penalty='l2', random_state=42, solver='lbfgs',\n",
       "          tol=0.0001, verbose=0, warm_start=False)"
      ]
     },
     "execution_count": 24,
     "metadata": {},
     "output_type": "execute_result"
    }
   ],
   "source": [
    "lr_scikit = LogisticRegression(solver='lbfgs', multi_class='auto', max_iter=200, random_state=42)\n",
    "lr_scikit.fit(X_train, y_train)"
   ]
  },
  {
   "cell_type": "code",
   "execution_count": 25,
   "metadata": {},
   "outputs": [
    {
     "name": "stdout",
     "output_type": "stream",
     "text": [
      "accuracy on training data=0.7049575923\n",
      "accuracy on test data=0.7027404705\n"
     ]
    }
   ],
   "source": [
    "y_test_pred = lr_scikit.predict(X_test)\n",
    "y_train_pred = lr_scikit.predict(X_train)\n",
    "print('accuracy on training data={:.10f}'.format(accuracy_score(y_train_pred, y_train)))\n",
    "print('accuracy on test data={:.10f}'.format(accuracy_score(y_test_pred, y_test)))"
   ]
  },
  {
   "cell_type": "markdown",
   "metadata": {},
   "source": [
    "#### Model Tunning\n",
    "\n",
    "Lets analyse the different combinations of options for finding the best parameter configuration for the model."
   ]
  },
  {
   "cell_type": "code",
   "execution_count": 26,
   "metadata": {},
   "outputs": [],
   "source": [
    "# Creates a LogsticRegression object.\n",
    "def get_clf(penalty='l2', c=1, fit_intercept=True, solver='lbfgs', multi_class='auto',\n",
    "            max_iter=200, random_state=42, **kwds):\n",
    "    \"\"\"Function for creating a Logistic Regression object.\n",
    "    \n",
    "    Args:\n",
    "        penalty........Penalty type to be used by the Logistic Regression.\n",
    "        c..............C value for the regression.\n",
    "        solver.........Type of solver.\n",
    "        fit_intercept..Bool to indicate whther to fit or not the intercept.\n",
    "        multi_class....Specify type of multi_class to be used.\n",
    "        max_iter.......Maximum number of iterations taken for the solvers to converge.\n",
    "        random_state...RandomState instance.\n",
    "        \n",
    "    Returns:\n",
    "        A Logistic Regression classifier with the specified parameters.\n",
    "    \"\"\"\n",
    "    #print(\"get clf: {}\".format(kwds))\n",
    "    #print(\"C value = {}\".format(c))\n",
    "    return LogisticRegression(penalty=penalty, C=c, fit_intercept=fit_intercept, solver=solver, \n",
    "                              multi_class=multi_class, max_iter=max_iter, random_state=random_state)"
   ]
  },
  {
   "cell_type": "code",
   "execution_count": 27,
   "metadata": {},
   "outputs": [],
   "source": [
    "# 5-fold cross-validation accuracy\n",
    "def deviance(X, y, model):\n",
    "    \"\"\" Calculate the deviance for each model.\n",
    "    \"\"\"\n",
    "    return 2*log_loss(y, model.predict_proba(X), normalize=False)\n",
    "\n",
    "\n",
    "def do_cross_validation(X, y, X_val, y_val, n_folds=5, verbose=False, random_state=42, **kwds):\n",
    "    \"\"\"Perform a cross-validation accuracy.\n",
    "    \n",
    "    Args:\n",
    "        X.....................Training set matrix without the y value.\n",
    "        y.....................Class value for the training set.\n",
    "        X_val.................Validation set matrix without the y value.\n",
    "        y_val.................Class value for the validation set.\n",
    "        n_folds...............Number of folds to be performed by the cross-validation.\n",
    "        verbose...............Whether to print mid-results.\n",
    "        random_state..........RandomState instance.\n",
    "        **kwds................Other keyword arguments for the model.\n",
    "    \n",
    "    Returns:\n",
    "        Tuple containing accuracies and SD for the train sets, test sets and validation sets.\n",
    "    \"\"\"\n",
    "    #print(\"cross val: {}\".format(kwds))\n",
    "    cv = StratifiedKFold(n_splits=n_folds, shuffle=True, random_state=random_state)\n",
    "    val_accuracies = []\n",
    "    train_accuracies = []\n",
    "    test_accuracies = []\n",
    "    deviances = []\n",
    "    \n",
    "    for foldi, (train_ind, test_ind) in enumerate(cv.split(X, y)):\n",
    "        # Create Classification Model\n",
    "        model = get_clf(random_state=random_state, **kwds)\n",
    "        # Fit model\n",
    "        model.fit(X[train_ind, :], y[train_ind])\n",
    "        # Perform accuracy on train set\n",
    "        train_accuracies.append(accuracy_score(model.predict(X[train_ind]), y[train_ind]))\n",
    "        # Predict on test set and perform accuracy\n",
    "        acc = accuracy_score(y[test_ind], model.predict(X[test_ind, :]))\n",
    "        test_accuracies.append(acc)\n",
    "        # Predict on validation set and perform accuracy.\n",
    "        val_accuracies.append(accuracy_score(y_val, model.predict(X_val)))\n",
    "        if verbose:\n",
    "            print('fold %d accuracy=%.4g' % (foldi, acc))\n",
    "        deviances.append(deviance(X_val, y_val, model))\n",
    "\n",
    "    return (np.mean(test_accuracies), np.std(test_accuracies) / math.sqrt(n_folds),\n",
    "            np.mean(train_accuracies), np.std(train_accuracies) / math.sqrt(n_folds),\n",
    "            np.mean(val_accuracies), np.std(val_accuracies) / math.sqrt(n_folds),\n",
    "            np.mean(deviances), np.std(deviances) / math.sqrt(n_folds)\n",
    "           )\n",
    "\n",
    "def print_results(results):\n",
    "    print('test accuracy=%.4f (%.2f) train accuracy=%.4f (%.2f) validation accuracy=%.4f (%.2f) deviance=%.4f (%.2f)' % \n",
    "           results)"
   ]
  },
  {
   "cell_type": "code",
   "execution_count": 30,
   "metadata": {},
   "outputs": [],
   "source": [
    "def generate_all_opts():\n",
    "    \"\"\"\n",
    "    Enumerate all possible classifier settings and compute.\n",
    "    \"\"\"\n",
    "    penalty = ['l2']\n",
    "    fit_intercept = [True, False]\n",
    "    argnames = ['penalty', 'fit_intercept']\n",
    "    option_iter = product(penalty, fit_intercept)\n",
    "    return argnames, option_iter"
   ]
  },
  {
   "cell_type": "code",
   "execution_count": 31,
   "metadata": {},
   "outputs": [],
   "source": [
    "def eval_all_combinations(X_train, y_train, X_test, y_test, n_folds=5, verbose=False, c_eval=False,\n",
    "                          cs=[], **kwds):\n",
    "    \"\"\"Evaluate all combinations of options.\n",
    "    \"\"\"\n",
    "    results = []\n",
    "    \n",
    "    if len(cs) > 0:\n",
    "        for c in cs:\n",
    "            #print(\"eval comb: {}\".format(kwds))\n",
    "            accs = do_cross_validation(X_train.to_numpy(), y_train.to_numpy(), X_test.to_numpy(),\n",
    "                                       y_test.to_numpy(), n_folds=n_folds, verbose=verbose, c=c, **kwds)\n",
    "            opts = kwds.copy()\n",
    "            opts['c'] = c\n",
    "            results.append((accs, opts))\n",
    "        results_sorted = sorted(results, key=lambda x: (-x[0][4], -x[0][0], -x[0][2]))\n",
    "    else:\n",
    "        argnames, option_iter = generate_all_opts()\n",
    "        for options in option_iter:\n",
    "            opts = {name: opt for name, opt in zip(argnames, options)}\n",
    "            accs = do_cross_validation(X_train.to_numpy(), y_train.to_numpy(), X_test.to_numpy(),\n",
    "                                          y_test.to_numpy(), n_folds=n_folds, verbose=verbose, **opts)\n",
    "            results.append((accs, opts))\n",
    "        results_sorted = sorted(results, key=lambda x: (-x[0][4], x[0][6], -x[0][0], -x[0][2]))\n",
    "    return results_sorted"
   ]
  },
  {
   "cell_type": "code",
   "execution_count": 32,
   "metadata": {},
   "outputs": [
    {
     "name": "stdout",
     "output_type": "stream",
     "text": [
      "Best options are {'penalty': 'l2', 'fit_intercept': True} with accuracy=70.24%\n"
     ]
    }
   ],
   "source": [
    "results = eval_all_combinations(X_train, y_train, X_test, y_test, verbose=False)\n",
    "best_opts = results[0][1]\n",
    "print(\"Best options are {} with accuracy={:.2%}\".format(results[0][1], results[0][0][4]))"
   ]
  },
  {
   "cell_type": "code",
   "execution_count": 33,
   "metadata": {},
   "outputs": [],
   "source": [
    "# Find the best c value\n",
    "cs = [.001, .01, .1, 1, 5, 10, 1000, 10000]\n",
    "results = eval_all_combinations(X_train, y_train, X_test, y_test, verbose=False,\n",
    "                                cs=cs, **best_opts)"
   ]
  },
  {
   "cell_type": "code",
   "execution_count": 34,
   "metadata": {},
   "outputs": [],
   "source": [
    "def plot_accuracies(results):\n",
    "    \"\"\"Plot accuracies for the different c values.\n",
    "    \"\"\"\n",
    "    #Sort results according to c values\n",
    "    results = sorted(results, key=lambda x: (x[1]['c']))\n",
    "    accs = [result[0] for result in results]\n",
    "    opts = [result[1] for result in results]\n",
    "    cs = [opt['c'] for opt in opts]\n",
    "    test_accs = [acc[0] for acc in accs]\n",
    "    test_sd = [acc[1] for acc in accs]\n",
    "    train_accs = [acc[2] for acc in accs]\n",
    "    train_sd = [acc[3] for acc in accs]\n",
    "    val_accs = [acc[4] for acc in accs]\n",
    "    val_sd = [acc[5] for acc in accs]\n",
    "    dev = [acc[6] for acc in accs]\n",
    "    dev_sd = [acc[7] for acc in accs]\n",
    "    \n",
    "    # plot accuracies\n",
    "    plt.figure()\n",
    "    plt.errorbar(cs, train_accs, fmt='go-', label='train acc', yerr=train_sd)\n",
    "    plt.errorbar(cs, test_accs, fmt='bo-', label='test acc', yerr=test_sd)\n",
    "    plt.errorbar(cs, val_accs, fmt='ro-', label='val acc', yerr=val_sd)\n",
    "    plt.xlabel('C')\n",
    "    plt.ylabel('Accuracy')\n",
    "    plt.xscale('log')\n",
    "    plt.title(\"Accuracies with different C values.\")\n",
    "    plt.ylim([0.68, 0.75])\n",
    "    plt.legend()\n",
    "    plt.show()\n",
    "    # plot deviance values\n",
    "    plt.figure()\n",
    "    plt.errorbar(cs, dev, fmt='ro-', label='deviance vals', yerr=dev_sd)\n",
    "    plt.xlabel('C')\n",
    "    plt.ylabel('deviance')\n",
    "    plt.xscale('log')\n",
    "    plt.title(\"Deviance Values with different C values.\")\n",
    "    plt.show()"
   ]
  },
  {
   "cell_type": "code",
   "execution_count": 35,
   "metadata": {},
   "outputs": [
    {
     "data": {
      "image/png": "[encoded data removed]",
      "text/plain": [
       "<Figure size 432x288 with 1 Axes>"
      ]
     },
     "metadata": {
      "needs_background": "light"
     },
     "output_type": "display_data"
    },
    {
     "data": {
      "image/png": "[encoded data removed]",
      "text/plain": [
       "<Figure size 432x288 with 1 Axes>"
      ]
     },
     "metadata": {
      "needs_background": "light"
     },
     "output_type": "display_data"
    }
   ],
   "source": [
    "plot_accuracies(results)"
   ]
  },
  {
   "cell_type": "markdown",
   "metadata": {},
   "source": [
    "1. [x] Select model evaluation crieria. - Accuracy Score + Deviance\n",
    "    - [x] ROC curve.\n",
    "    - [x] AUC values.\n",
    "2. [x] Model evaluation with GridSearch.\n",
    "3. [x] Model Performance analysis.\n",
    "4. [x] Model tunning with statistics.\n",
    "    - [x] Model evaluation comparison.\n",
    "    - [x] From scratch model backwards and forward selection.\n",
    "5. [ ] Model Summary."
   ]
  },
  {
   "cell_type": "markdown",
   "metadata": {},
   "source": [
    "####  Select Best Model.\n",
    "\n",
    "Fit a model with the best parameters."
   ]
  },
  {
   "cell_type": "code",
   "execution_count": 36,
   "metadata": {},
   "outputs": [
    {
     "name": "stdout",
     "output_type": "stream",
     "text": [
      "Best options are {'penalty': 'l2', 'fit_intercept': True, 'c': 1000}\n"
     ]
    }
   ],
   "source": [
    "# Results are already sorted by val_acc, then test acc and finally train acc.\n",
    "best_opts = results[0][1]\n",
    "print('Best options are {}'.format(best_opts))"
   ]
  },
  {
   "cell_type": "code",
   "execution_count": 37,
   "metadata": {},
   "outputs": [
    {
     "name": "stdout",
     "output_type": "stream",
     "text": [
      "Test Accuracy 70.2689%\n"
     ]
    }
   ],
   "source": [
    "lr_model = get_clf(**best_opts)\n",
    "lr_model.fit(X_train.to_numpy(), y_train.to_numpy())\n",
    "y_pred = lr_model.predict(X_test.to_numpy())\n",
    "print(\"Test Accuracy {:.4%}\".format(accuracy_score(y_pred, y_test)))"
   ]
  },
  {
   "cell_type": "markdown",
   "metadata": {},
   "source": [
    "####  Analysis using GridSearch"
   ]
  },
  {
   "cell_type": "code",
   "execution_count": 38,
   "metadata": {},
   "outputs": [
    {
     "data": {
      "text/plain": [
       "GridSearchCV(cv=5, error_score='raise-deprecating',\n",
       "       estimator=LogisticRegression(C=1.0, class_weight=None, dual=False, fit_intercept=True,\n",
       "          intercept_scaling=1, max_iter=200, multi_class='warn',\n",
       "          n_jobs=None, penalty='l2', random_state=42, solver='lbfgs',\n",
       "          tol=0.0001, verbose=0, warm_start=False),\n",
       "       fit_params=None, iid='warn', n_jobs=None,\n",
       "       param_grid={'penalty': ['l2'], 'C': [0.001, 0.01, 0.1, 1, 5, 10, 1000, 10000], 'fit_intercept': [True]},\n",
       "       pre_dispatch='2*n_jobs', refit=True, return_train_score='warn',\n",
       "       scoring=None, verbose=0)"
      ]
     },
     "execution_count": 38,
     "metadata": {},
     "output_type": "execute_result"
    }
   ],
   "source": [
    "cs = [.001, .01, .1, 1, 5, 10, 1000, 10000]\n",
    "parameters = {'penalty': ['l2'], 'C':cs, 'fit_intercept': [True]}\n",
    "model = LogisticRegression(solver='lbfgs', random_state=42, max_iter=200)\n",
    "grid = GridSearchCV(model, parameters, cv=5)\n",
    "grid.fit(X_train.to_numpy(), y_train.to_numpy())"
   ]
  },
  {
   "cell_type": "code",
   "execution_count": 47,
   "metadata": {},
   "outputs": [
    {
     "name": "stdout",
     "output_type": "stream",
     "text": [
      "Best parameters found with GridSearch Function: {'C': 1, 'fit_intercept': True, 'penalty': 'l2'}\n"
     ]
    }
   ],
   "source": [
    "print('Best parameters found with GridSearch Function: {}'.format(grid.best_params_))"
   ]
  },
  {
   "cell_type": "code",
   "execution_count": 48,
   "metadata": {},
   "outputs": [
    {
     "name": "stdout",
     "output_type": "stream",
     "text": [
      "Test Accuracy 70.2740%\n"
     ]
    }
   ],
   "source": [
    "lr_model = grid.best_estimator_\n",
    "lr_model.fit(X_train.to_numpy(), y_train.to_numpy())\n",
    "y_pred = lr_model.predict(X_test.to_numpy())\n",
    "y_pred_prob = lr_model.predict_proba(X_test.to_numpy())\n",
    "\n",
    "print(\"Test Accuracy {:.4%}\".format(accuracy_score(y_pred, y_test)))"
   ]
  },
  {
   "cell_type": "markdown",
   "metadata": {},
   "source": [
    "We see that the best parameters coincide with the ones that we found."
   ]
  },
  {
   "cell_type": "code",
   "execution_count": 49,
   "metadata": {},
   "outputs": [],
   "source": [
    "# Store the model\n",
    "filename = os.path.join(modelsdir, 'lr_scikit')\n",
    "store_model(lr_model, filename)"
   ]
  },
  {
   "cell_type": "markdown",
   "metadata": {},
   "source": [
    "#### Model Performance Analysis"
   ]
  },
  {
   "cell_type": "code",
   "execution_count": 50,
   "metadata": {},
   "outputs": [
    {
     "name": "stdout",
     "output_type": "stream",
     "text": [
      "Successful Terms:\n",
      "staff_pick (2.32297)\n",
      "main_category_design (2.0632)\n",
      "main_category_dance (1.24814)\n",
      "main_category_theater (1.24479)\n",
      "main_category_comics (1.0772)\n",
      "main_category_games (0.894455)\n",
      "state_VT (0.823129)\n",
      "main_category_film-&-video (0.655516)\n",
      "state_NY (0.645477)\n",
      "main_category_music (0.594329)\n",
      "\n",
      "Fail Terms:\n",
      "main_category_journalism (-1.22781)\n",
      "duration_in_days_bin_(45.0, inf] (-0.82011)\n",
      "state_MS (-0.754024)\n",
      "state_SD (-0.658324)\n",
      "main_category_crafts (-0.59617)\n",
      "state_OK (-0.563957)\n",
      "state_NE (-0.544305)\n",
      "state_AL (-0.51755)\n",
      "state_WV (-0.500643)\n",
      "ln(goal_usd) (-0.49456)\n"
     ]
    }
   ],
   "source": [
    "# Lets analyze the terms more related to the different classes.\n",
    "# Coefficients for the positive class\n",
    "coef = lr_model.coef_[0]\n",
    "cols =  X_train.columns\n",
    "srted = np.argsort(coef)\n",
    "# Pick top 10 coef. in descendent order\n",
    "topi = srted[::-1][:10]\n",
    "boti = srted[:10]\n",
    "print('Successful Terms:\\n' + '\\n'.join('%s (%g)' % (n, c) for n, c in zip(cols[topi], coef[topi])))\n",
    "print('\\nFail Terms:\\n' + '\\n'.join('%s (%g)' % (n, c) for n, c in zip(cols[boti], coef[boti])))"
   ]
  },
  {
   "cell_type": "code",
   "execution_count": 51,
   "metadata": {},
   "outputs": [
    {
     "data": {
      "text/plain": [
       "Text(0.5, 257.44, 'Predicted label')"
      ]
     },
     "execution_count": 51,
     "metadata": {},
     "output_type": "execute_result"
    },
    {
     "data": {
      "image/png": "[encoded data removed]",
      "text/plain": [
       "<Figure size 432x288 with 2 Axes>"
      ]
     },
     "metadata": {
      "needs_background": "light"
     },
     "output_type": "display_data"
    }
   ],
   "source": [
    "# Lets analyze the confusion matrix\n",
    "cnf_matrix = confusion_matrix(y_test.to_numpy(), y_pred)\n",
    "\n",
    "class_names=['fail','successful'] # name  of classes\n",
    "\n",
    "fig, ax = plt.subplots()\n",
    "tick_marks = np.arange(len(class_names))\n",
    "plt.xticks(tick_marks, class_names)\n",
    "plt.yticks(tick_marks, class_names)\n",
    "# create heatmap\n",
    "sns.heatmap(pd.DataFrame(cnf_matrix), annot=True, cmap=\"YlGnBu\" ,fmt='g')\n",
    "ax.xaxis.set_label_position(\"top\")\n",
    "plt.tight_layout()\n",
    "plt.title('Confusion matrix', y=1.1)\n",
    "plt.ylabel('Actual label')\n",
    "plt.xlabel('Predicted label')"
   ]
  },
  {
   "cell_type": "code",
   "execution_count": 52,
   "metadata": {},
   "outputs": [
    {
     "name": "stdout",
     "output_type": "stream",
     "text": [
      "Accuracy Score: 70.27%\n",
      "Precision Score: 72.33%\n",
      "Recall Score: 74.93% \n",
      "\n",
      "              precision    recall  f1-score   support\n",
      "\n",
      "        fail       0.68      0.65      0.66     17266\n",
      "  successful       0.72      0.75      0.74     21377\n",
      "\n",
      "   micro avg       0.70      0.70      0.70     38643\n",
      "   macro avg       0.70      0.70      0.70     38643\n",
      "weighted avg       0.70      0.70      0.70     38643\n",
      "\n"
     ]
    }
   ],
   "source": [
    "print(\"Accuracy Score: {:.2%}\".format(accuracy_score(y_test, y_pred)))\n",
    "print(\"Precision Score: {:.2%}\".format(precision_score(y_test, y_pred)))\n",
    "print(\"Recall Score: {:.2%} \\n\".format(recall_score(y_test, y_pred)))\n",
    "print(classification_report(y_test, y_pred, target_names=class_names))"
   ]
  },
  {
   "cell_type": "code",
   "execution_count": 53,
   "metadata": {},
   "outputs": [
    {
     "name": "stdout",
     "output_type": "stream",
     "text": [
      "No Skill: ROC AUC = 0.500\n",
      "Logistic: ROC AUC = 0.772\n"
     ]
    }
   ],
   "source": [
    "# Lets take a look at the ROC curve.\n",
    "ns_probs = [1 for _ in range(len(y_test))] # No skill predictor\n",
    "# Keep only probabilities for Successful class\n",
    "y_pred_prob_pos = y_pred_prob[:, 1]\n",
    "# Calculate ROC scores\n",
    "ns_roc = roc_auc_score(y_test, ns_probs)\n",
    "model_roc = roc_auc_score(y_test, y_pred_prob_pos)\n",
    "print(\"No Skill: ROC AUC = {:.3f}\".format(ns_roc))\n",
    "print(\"Logistic: ROC AUC = {:.3f}\".format(model_roc))\n",
    "\n",
    "# Calculate roc curves\n",
    "ns_fpr, ns_tpr, thresholds = roc_curve(y_test, ns_probs)\n",
    "model_fpr, model_tpr, thresholds = roc_curve(y_test, y_pred_prob_pos)"
   ]
  },
  {
   "cell_type": "code",
   "execution_count": 54,
   "metadata": {},
   "outputs": [],
   "source": [
    "# Calculate precision-recall curve\n",
    "precision, recall, thresholds = precision_recall_curve(y_test.to_numpy(), y_pred_prob_pos)"
   ]
  },
  {
   "cell_type": "code",
   "execution_count": 55,
   "metadata": {},
   "outputs": [
    {
     "data": {
      "image/png": "[encoded data removed]",
      "text/plain": [
       "<Figure size 576x432 with 1 Axes>"
      ]
     },
     "metadata": {
      "needs_background": "light"
     },
     "output_type": "display_data"
    }
   ],
   "source": [
    "# Plot Roc Curves\n",
    "fig = plt.figure(figsize=(8, 6))\n",
    "plt.plot(model_fpr, model_tpr, color='darkorange',lw=2, label='ROC curve (area = {:.2f})'.format(model_roc))\n",
    "plt.plot(ns_fpr, ns_tpr, color='navy', lw=2, linestyle='--')\n",
    "plt.xlim([0.0, 1.0])\n",
    "plt.ylim([0.0, 1.05])\n",
    "plt.xlabel('False Positive Rate')\n",
    "plt.ylabel('True Positive Rate')\n",
    "plt.title('Receiver operating Characteristic curve')\n",
    "plt.legend(loc=\"lower right\")\n",
    "plt.show()"
   ]
  },
  {
   "cell_type": "code",
   "execution_count": 56,
   "metadata": {},
   "outputs": [
    {
     "data": {
      "image/png": "[encoded data removed]",
      "text/plain": [
       "<Figure size 576x432 with 1 Axes>"
      ]
     },
     "metadata": {
      "needs_background": "light"
     },
     "output_type": "display_data"
    }
   ],
   "source": [
    "fig = plt.figure(figsize=(8, 6))\n",
    "plt.plot(precision, recall, label='Prec-Recall')\n",
    "#plt.xlim([0.0, 1.0])\n",
    "#plt.ylim([0.0, 1.05])\n",
    "plt.xlabel('Precision')\n",
    "plt.ylabel('Recall')\n",
    "plt.title('Precision-Recall Curve')\n",
    "plt.legend(loc=\"upper right\")\n",
    "plt.show()"
   ]
  },
  {
   "cell_type": "markdown",
   "metadata": {},
   "source": [
    "#### Recursive Feature Selection"
   ]
  },
  {
   "cell_type": "code",
   "execution_count": 57,
   "metadata": {},
   "outputs": [
    {
     "data": {
      "text/plain": [
       "77"
      ]
     },
     "execution_count": 57,
     "metadata": {},
     "output_type": "execute_result"
    }
   ],
   "source": [
    "len(lr_model.coef_[0])"
   ]
  },
  {
   "cell_type": "code",
   "execution_count": 43,
   "metadata": {},
   "outputs": [
    {
     "data": {
      "text/plain": [
       "RFECV(cv=StratifiedKFold(n_splits=5, random_state=None, shuffle=False),\n",
       "   estimator=LogisticRegression(C=1000, class_weight=None, dual=False, fit_intercept=True,\n",
       "          intercept_scaling=1, max_iter=200, multi_class='warn',\n",
       "          n_jobs=None, penalty='l2', random_state=42, solver='lbfgs',\n",
       "          tol=0.0001, verbose=0, warm_start=False),\n",
       "   min_features_to_select=1, n_jobs=None, scoring=None, step=2, verbose=0)"
      ]
     },
     "execution_count": 43,
     "metadata": {},
     "output_type": "execute_result"
    }
   ],
   "source": [
    "#rfecv = RFECV(estimator=grid.best_estimator_, step=2, cv=StratifiedKFold(5))\n",
    "#rfecv.fit(X_train.to_numpy(), y_train.to_numpy())"
   ]
  },
  {
   "cell_type": "code",
   "execution_count": 44,
   "metadata": {},
   "outputs": [
    {
     "name": "stdout",
     "output_type": "stream",
     "text": [
      "Optimal number of features : 75\n"
     ]
    },
    {
     "data": {
      "image/png": "[encoded data removed]",
      "text/plain": [
       "<Figure size 720x576 with 1 Axes>"
      ]
     },
     "metadata": {
      "needs_background": "light"
     },
     "output_type": "display_data"
    }
   ],
   "source": [
    "print(\"Optimal number of features : %d\" % rfecv.n_features_)\n",
    "\n",
    "# Plot number of features VS. cross-validation scores\n",
    "plt.figure(figsize=(10, 8))\n",
    "plt.xlabel(\"Number of features selected\")\n",
    "plt.ylabel(\"Cross validation score (# of correct classifications)\")\n",
    "plt.plot(range(1, len(rfecv.support_) + 2, 2), rfecv.grid_scores_)\n",
    "plt.show()"
   ]
  },
  {
   "cell_type": "markdown",
   "metadata": {},
   "source": [
    "### 2.2.2 Statistics Analysis\n",
    "\n",
    "For performing also a statistical analysis on the model and its parameters we will use the package stats."
   ]
  },
  {
   "cell_type": "code",
   "execution_count": 58,
   "metadata": {},
   "outputs": [],
   "source": [
    "def create_model_formula(target_var, x_vars, include_intercept=True):\n",
    "    \"\"\"Function for creating a formula.\n",
    "    \n",
    "    Args:\n",
    "        target_var..........Dependent variable.\n",
    "        x_vars..............List of independent variable.\n",
    "        include_intercept...Bool to indicate whether to include or not the intercept.\n",
    "    Returns:\n",
    "        A string representing the formula to be passed.\n",
    "    \"\"\"\n",
    "    if include_intercept:\n",
    "        separator = \" + \"\n",
    "        model_form = target_var + \" ~ \" + separator.join(x_vars)\n",
    "    else:\n",
    "        separator = \" + \"\n",
    "        model_form = target_var + \" ~ \" + separator.join(x_vars) + \" - 1\"\n",
    "    \n",
    "    return model_form\n",
    "\n",
    "\n",
    "def remove_vars_from_formula(formula, vars_to_remove):\n",
    "    \"\"\"Remove specific vars from the formula.\n",
    "    \n",
    "    Args:\n",
    "        formula...........Formula to be applied in the model.\n",
    "        args_to_remove....List of variables to remove from the formula.\n",
    "    \n",
    "    Returns:\n",
    "        A string representing the formula.\n",
    "    \"\"\"\n",
    "    separator = \" - \"\n",
    "    model_form = formula + separator + separator.join(vars_to_remove)\n",
    "    \n",
    "    return model_form"
   ]
  },
  {
   "cell_type": "code",
   "execution_count": 59,
   "metadata": {},
   "outputs": [],
   "source": [
    "df_model = pd.concat([y_train, X_train], axis=1)\n",
    "df_model.rename(\n",
    "    columns={'ln(goal_usd)': 'ln_goal_usd', 'main_category_film-&-video': 'main_category_film_video',\n",
    "             #'duration_in_days_bin_(0.0, 29.0]': 'duration_in_days_low',\n",
    "             'duration_in_days_bin_(29.0, 45.0]': 'duration_in_days_medium',\n",
    "             'duration_in_days_bin_(45.0, inf]': 'duration_in_days_high',\n",
    "             #'num_competitors_bin_(0.0, 10.0]': 'num_competitors_low',\n",
    "             'num_competitors_bin_(10.0, 30.0]': 'num_competitors_medium',\n",
    "             'num_competitors_bin_(30.0, inf]': 'num_competitors_high'},\n",
    "    inplace=True\n",
    ")\n",
    "\n",
    "target_var = 'result'\n",
    "x_vars = [col for col in df_model.columns if col != target_var]\n",
    "model_form = create_model_formula(target_var, x_vars)"
   ]
  },
  {
   "cell_type": "code",
   "execution_count": 60,
   "metadata": {},
   "outputs": [],
   "source": [
    "lr_stats = smf.glm(formula=model_form, data=df_model, family=sm.families.Binomial()).fit(method='lbfgs')"
   ]
  },
  {
   "cell_type": "code",
   "execution_count": 61,
   "metadata": {},
   "outputs": [
    {
     "data": {
      "text/html": [
       "<table class=\"simpletable\">\n",
       "<tr>\n",
       "        <td>Model:</td>               <td>GLM</td>           <td>Method:</td>         <td>IRLS</td>     \n",
       "</tr>\n",
       "<tr>\n",
       "    <td>Link Function:</td>          <td>logit</td>           <td>AIC:</td>        <td>174985.1276</td> \n",
       "</tr>\n",
       "<tr>\n",
       "  <td>Dependent Variable:</td>      <td>result</td>           <td>BIC:</td>       <td>-1671116.3957</td>\n",
       "</tr>\n",
       "<tr>\n",
       "         <td>Date:</td>        <td>2020-07-09 13:55</td> <td>Log-Likelihood:</td>    <td>-87415.</td>   \n",
       "</tr>\n",
       "<tr>\n",
       "   <td>No. Observations:</td>       <td>154571</td>         <td>LL-Null:</td>      <td>-1.0626e+05</td> \n",
       "</tr>\n",
       "<tr>\n",
       "       <td>Df Model:</td>             <td>77</td>           <td>Deviance:</td>     <td>1.7483e+05</td>  \n",
       "</tr>\n",
       "<tr>\n",
       "     <td>Df Residuals:</td>         <td>154493</td>       <td>Pearson chi2:</td>    <td>1.60e+05</td>   \n",
       "</tr>\n",
       "<tr>\n",
       "      <td>Converged:</td>           <td>1.0000</td>          <td>Scale:</td>         <td>1.0000</td>    \n",
       "</tr>\n",
       "<tr>\n",
       "    <td>No. Iterations:</td>        <td>2.0000</td>             <td></td>               <td></td>       \n",
       "</tr>\n",
       "</table>\n",
       "<table class=\"simpletable\">\n",
       "<tr>\n",
       "              <td></td>               <th>Coef.</th>  <th>Std.Err.</th>     <th>z</th>     <th>P>|z|</th> <th>[0.025</th>  <th>0.975]</th> \n",
       "</tr>\n",
       "<tr>\n",
       "  <th>Intercept</th>                 <td>0.0986</td>   <td>0.1136</td>   <td>0.8681</td>  <td>0.3854</td> <td>-0.1240</td> <td>0.3212</td> \n",
       "</tr>\n",
       "<tr>\n",
       "  <th>staff_pick</th>                <td>2.3231</td>   <td>0.0258</td>   <td>89.8869</td> <td>0.0000</td> <td>2.2724</td>  <td>2.3737</td> \n",
       "</tr>\n",
       "<tr>\n",
       "  <th>ln_goal_usd</th>               <td>-0.4948</td>  <td>0.0065</td>  <td>-76.1900</td> <td>0.0000</td> <td>-0.5076</td> <td>-0.4821</td>\n",
       "</tr>\n",
       "<tr>\n",
       "  <th>month_launch</th>              <td>-0.0258</td>  <td>0.0058</td>   <td>-4.4361</td> <td>0.0000</td> <td>-0.0371</td> <td>-0.0144</td>\n",
       "</tr>\n",
       "<tr>\n",
       "  <th>main_category_comics</th>      <td>1.0802</td>   <td>0.0375</td>   <td>28.7718</td> <td>0.0000</td> <td>1.0067</td>  <td>1.1538</td> \n",
       "</tr>\n",
       "<tr>\n",
       "  <th>main_category_crafts</th>      <td>-0.5949</td>  <td>0.0429</td>  <td>-13.8566</td> <td>0.0000</td> <td>-0.6790</td> <td>-0.5107</td>\n",
       "</tr>\n",
       "<tr>\n",
       "  <th>main_category_dance</th>       <td>1.2541</td>   <td>0.0646</td>   <td>19.4030</td> <td>0.0000</td> <td>1.1275</td>  <td>1.3808</td> \n",
       "</tr>\n",
       "<tr>\n",
       "  <th>main_category_design</th>      <td>2.0681</td>   <td>0.0399</td>   <td>51.8272</td> <td>0.0000</td> <td>1.9899</td>  <td>2.1463</td> \n",
       "</tr>\n",
       "<tr>\n",
       "  <th>main_category_fashion</th>     <td>-0.2666</td>  <td>0.0293</td>   <td>-9.0851</td> <td>0.0000</td> <td>-0.3241</td> <td>-0.2091</td>\n",
       "</tr>\n",
       "<tr>\n",
       "  <th>main_category_film_video</th>  <td>0.6581</td>   <td>0.0250</td>   <td>26.3543</td> <td>0.0000</td> <td>0.6091</td>  <td>0.7070</td> \n",
       "</tr>\n",
       "<tr>\n",
       "  <th>main_category_food</th>        <td>-0.0262</td>  <td>0.0300</td>   <td>-0.8754</td> <td>0.3813</td> <td>-0.0850</td> <td>0.0325</td> \n",
       "</tr>\n",
       "<tr>\n",
       "  <th>main_category_games</th>       <td>0.8973</td>   <td>0.0277</td>   <td>32.3526</td> <td>0.0000</td> <td>0.8429</td>  <td>0.9517</td> \n",
       "</tr>\n",
       "<tr>\n",
       "  <th>main_category_journalism</th>  <td>-1.2290</td>  <td>0.0560</td>  <td>-21.9321</td> <td>0.0000</td> <td>-1.3388</td> <td>-1.1192</td>\n",
       "</tr>\n",
       "<tr>\n",
       "  <th>main_category_music</th>       <td>0.5970</td>   <td>0.0240</td>   <td>24.8486</td> <td>0.0000</td> <td>0.5499</td>  <td>0.6441</td> \n",
       "</tr>\n",
       "<tr>\n",
       "  <th>main_category_photography</th> <td>-0.0469</td>  <td>0.0429</td>   <td>-1.0949</td> <td>0.2735</td> <td>-0.1309</td> <td>0.0371</td> \n",
       "</tr>\n",
       "<tr>\n",
       "  <th>main_category_publishing</th>  <td>-0.2414</td>  <td>0.0248</td>   <td>-9.7369</td> <td>0.0000</td> <td>-0.2900</td> <td>-0.1928</td>\n",
       "</tr>\n",
       "<tr>\n",
       "  <th>main_category_technology</th>  <td>-0.4269</td>  <td>0.0296</td>  <td>-14.4424</td> <td>0.0000</td> <td>-0.4848</td> <td>-0.3689</td>\n",
       "</tr>\n",
       "<tr>\n",
       "  <th>main_category_theater</th>     <td>1.2489</td>   <td>0.0450</td>   <td>27.7676</td> <td>0.0000</td> <td>1.1607</td>  <td>1.3370</td> \n",
       "</tr>\n",
       "<tr>\n",
       "  <th>state_AL</th>                  <td>-0.5696</td>  <td>0.1332</td>   <td>-4.2754</td> <td>0.0000</td> <td>-0.8308</td> <td>-0.3085</td>\n",
       "</tr>\n",
       "<tr>\n",
       "  <th>state_AR</th>                  <td>-0.5413</td>  <td>0.1445</td>   <td>-3.7454</td> <td>0.0002</td> <td>-0.8246</td> <td>-0.2581</td>\n",
       "</tr>\n",
       "<tr>\n",
       "  <th>state_AZ</th>                  <td>-0.2904</td>  <td>0.1184</td>   <td>-2.4523</td> <td>0.0142</td> <td>-0.5225</td> <td>-0.0583</td>\n",
       "</tr>\n",
       "<tr>\n",
       "  <th>state_CA</th>                  <td>0.5295</td>   <td>0.1137</td>   <td>4.6562</td>  <td>0.0000</td> <td>0.3066</td>  <td>0.7525</td> \n",
       "</tr>\n",
       "<tr>\n",
       "  <th>state_CO</th>                  <td>0.0105</td>   <td>0.1171</td>   <td>0.0900</td>  <td>0.9283</td> <td>-0.2190</td> <td>0.2401</td> \n",
       "</tr>\n",
       "<tr>\n",
       "  <th>state_CT</th>                  <td>-0.0907</td>  <td>0.1266</td>   <td>-0.7163</td> <td>0.4738</td> <td>-0.3389</td> <td>0.1575</td> \n",
       "</tr>\n",
       "<tr>\n",
       "  <th>state_DC</th>                  <td>0.1480</td>   <td>0.1247</td>   <td>1.1869</td>  <td>0.2353</td> <td>-0.0964</td> <td>0.3923</td> \n",
       "</tr>\n",
       "<tr>\n",
       "  <th>state_DE</th>                  <td>-0.0635</td>  <td>0.1638</td>   <td>-0.3875</td> <td>0.6984</td> <td>-0.3846</td> <td>0.2576</td> \n",
       "</tr>\n",
       "<tr>\n",
       "  <th>state_FL</th>                  <td>-0.4850</td>  <td>0.1146</td>   <td>-4.2338</td> <td>0.0000</td> <td>-0.7096</td> <td>-0.2605</td>\n",
       "</tr>\n",
       "<tr>\n",
       "  <th>state_GA</th>                  <td>-0.4787</td>  <td>0.1164</td>   <td>-4.1127</td> <td>0.0000</td> <td>-0.7068</td> <td>-0.2506</td>\n",
       "</tr>\n",
       "<tr>\n",
       "  <th>state_HI</th>                  <td>-0.0452</td>  <td>0.1391</td>   <td>-0.3246</td> <td>0.7455</td> <td>-0.3179</td> <td>0.2275</td> \n",
       "</tr>\n",
       "<tr>\n",
       "  <th>state_IA</th>                  <td>-0.2448</td>  <td>0.1369</td>   <td>-1.7879</td> <td>0.0738</td> <td>-0.5131</td> <td>0.0236</td> \n",
       "</tr>\n",
       "<tr>\n",
       "  <th>state_ID</th>                  <td>-0.2811</td>  <td>0.1350</td>   <td>-2.0816</td> <td>0.0374</td> <td>-0.5458</td> <td>-0.0164</td>\n",
       "</tr>\n",
       "<tr>\n",
       "  <th>state_IL</th>                  <td>0.1611</td>   <td>0.1151</td>   <td>1.3991</td>  <td>0.1618</td> <td>-0.0646</td> <td>0.3867</td> \n",
       "</tr>\n",
       "<tr>\n",
       "  <th>state_IN</th>                  <td>-0.4858</td>  <td>0.1221</td>   <td>-3.9798</td> <td>0.0001</td> <td>-0.7250</td> <td>-0.2465</td>\n",
       "</tr>\n",
       "<tr>\n",
       "  <th>state_KS</th>                  <td>-0.4777</td>  <td>0.1382</td>   <td>-3.4570</td> <td>0.0005</td> <td>-0.7486</td> <td>-0.2069</td>\n",
       "</tr>\n",
       "<tr>\n",
       "  <th>state_KY</th>                  <td>-0.4278</td>  <td>0.1290</td>   <td>-3.3150</td> <td>0.0009</td> <td>-0.6807</td> <td>-0.1748</td>\n",
       "</tr>\n",
       "<tr>\n",
       "  <th>state_LA</th>                  <td>-0.1582</td>  <td>0.1267</td>   <td>-1.2487</td> <td>0.2118</td> <td>-0.4064</td> <td>0.0901</td> \n",
       "</tr>\n",
       "<tr>\n",
       "  <th>state_MA</th>                  <td>0.4544</td>   <td>0.1165</td>   <td>3.8995</td>  <td>0.0001</td> <td>0.2260</td>  <td>0.6829</td> \n",
       "</tr>\n",
       "<tr>\n",
       "  <th>state_MD</th>                  <td>-0.2426</td>  <td>0.1210</td>   <td>-2.0042</td> <td>0.0451</td> <td>-0.4798</td> <td>-0.0054</td>\n",
       "</tr>\n",
       "<tr>\n",
       "  <th>state_ME</th>                  <td>0.1847</td>   <td>0.1366</td>   <td>1.3522</td>  <td>0.1763</td> <td>-0.0830</td> <td>0.4524</td> \n",
       "</tr>\n",
       "<tr>\n",
       "  <th>state_MI</th>                  <td>-0.2046</td>  <td>0.1171</td>   <td>-1.7475</td> <td>0.0806</td> <td>-0.4341</td> <td>0.0249</td> \n",
       "</tr>\n",
       "<tr>\n",
       "  <th>state_MN</th>                  <td>0.1659</td>   <td>0.1189</td>   <td>1.3950</td>  <td>0.1630</td> <td>-0.0672</td> <td>0.3990</td> \n",
       "</tr>\n",
       "<tr>\n",
       "  <th>state_MO</th>                  <td>-0.3288</td>  <td>0.1203</td>   <td>-2.7323</td> <td>0.0063</td> <td>-0.5646</td> <td>-0.0929</td>\n",
       "</tr>\n",
       "<tr>\n",
       "  <th>state_MS</th>                  <td>-0.8162</td>  <td>0.1557</td>   <td>-5.2416</td> <td>0.0000</td> <td>-1.1214</td> <td>-0.5110</td>\n",
       "</tr>\n",
       "<tr>\n",
       "  <th>state_MT</th>                  <td>0.3009</td>   <td>0.1463</td>   <td>2.0568</td>  <td>0.0397</td> <td>0.0142</td>  <td>0.5876</td> \n",
       "</tr>\n",
       "<tr>\n",
       "  <th>state_NC</th>                  <td>-0.2777</td>  <td>0.1174</td>   <td>-2.3660</td> <td>0.0180</td> <td>-0.5077</td> <td>-0.0477</td>\n",
       "</tr>\n",
       "<tr>\n",
       "  <th>state_ND</th>                  <td>-0.4549</td>  <td>0.2094</td>   <td>-2.1720</td> <td>0.0299</td> <td>-0.8654</td> <td>-0.0444</td>\n",
       "</tr>\n",
       "<tr>\n",
       "  <th>state_NE</th>                  <td>-0.6020</td>  <td>0.1508</td>   <td>-3.9921</td> <td>0.0001</td> <td>-0.8975</td> <td>-0.3064</td>\n",
       "</tr>\n",
       "<tr>\n",
       "  <th>state_NH</th>                  <td>0.1292</td>   <td>0.1409</td>   <td>0.9173</td>  <td>0.3590</td> <td>-0.1469</td> <td>0.4054</td> \n",
       "</tr>\n",
       "<tr>\n",
       "  <th>state_NJ</th>                  <td>-0.2702</td>  <td>0.1196</td>   <td>-2.2598</td> <td>0.0238</td> <td>-0.5045</td> <td>-0.0359</td>\n",
       "</tr>\n",
       "<tr>\n",
       "  <th>state_NM</th>                  <td>-0.1284</td>  <td>0.1345</td>   <td>-0.9550</td> <td>0.3396</td> <td>-0.3919</td> <td>0.1351</td> \n",
       "</tr>\n",
       "<tr>\n",
       "  <th>state_NV</th>                  <td>-0.2604</td>  <td>0.1229</td>   <td>-2.1183</td> <td>0.0341</td> <td>-0.5014</td> <td>-0.0195</td>\n",
       "</tr>\n",
       "<tr>\n",
       "  <th>state_NY</th>                  <td>0.5961</td>   <td>0.1136</td>   <td>5.2468</td>  <td>0.0000</td> <td>0.3734</td>  <td>0.8188</td> \n",
       "</tr>\n",
       "<tr>\n",
       "  <th>state_OH</th>                  <td>-0.2951</td>  <td>0.1166</td>   <td>-2.5310</td> <td>0.0114</td> <td>-0.5236</td> <td>-0.0666</td>\n",
       "</tr>\n",
       "<tr>\n",
       "  <th>state_OK</th>                  <td>-0.6158</td>  <td>0.1325</td>   <td>-4.6489</td> <td>0.0000</td> <td>-0.8754</td> <td>-0.3562</td>\n",
       "</tr>\n",
       "<tr>\n",
       "  <th>state_OR</th>                  <td>0.3380</td>   <td>0.1170</td>   <td>2.8879</td>  <td>0.0039</td> <td>0.1086</td>  <td>0.5674</td> \n",
       "</tr>\n",
       "<tr>\n",
       "  <th>state_PA</th>                  <td>0.0068</td>   <td>0.1157</td>   <td>0.0591</td>  <td>0.9528</td> <td>-0.2199</td> <td>0.2335</td> \n",
       "</tr>\n",
       "<tr>\n",
       "  <th>state_RI</th>                  <td>0.2874</td>   <td>0.1469</td>   <td>1.9563</td>  <td>0.0504</td> <td>-0.0005</td> <td>0.5753</td> \n",
       "</tr>\n",
       "<tr>\n",
       "  <th>state_SC</th>                  <td>-0.4168</td>  <td>0.1276</td>   <td>-3.2678</td> <td>0.0011</td> <td>-0.6668</td> <td>-0.1668</td>\n",
       "</tr>\n",
       "<tr>\n",
       "  <th>state_SD</th>                  <td>-0.7308</td>  <td>0.1949</td>   <td>-3.7488</td> <td>0.0002</td> <td>-1.1128</td> <td>-0.3487</td>\n",
       "</tr>\n",
       "<tr>\n",
       "  <th>state_TN</th>                  <td>0.0472</td>   <td>0.1179</td>   <td>0.4006</td>  <td>0.6887</td> <td>-0.1838</td> <td>0.2783</td> \n",
       "</tr>\n",
       "<tr>\n",
       "  <th>state_TX</th>                  <td>-0.1239</td>  <td>0.1141</td>   <td>-1.0860</td> <td>0.2775</td> <td>-0.3475</td> <td>0.0997</td> \n",
       "</tr>\n",
       "<tr>\n",
       "  <th>state_UT</th>                  <td>0.1387</td>   <td>0.1195</td>   <td>1.1611</td>  <td>0.2456</td> <td>-0.0955</td> <td>0.3729</td> \n",
       "</tr>\n",
       "<tr>\n",
       "  <th>state_VA</th>                  <td>-0.2524</td>  <td>0.1186</td>   <td>-2.1283</td> <td>0.0333</td> <td>-0.4848</td> <td>-0.0200</td>\n",
       "</tr>\n",
       "<tr>\n",
       "  <th>state_VT</th>                  <td>0.7802</td>   <td>0.1459</td>   <td>5.3488</td>  <td>0.0000</td> <td>0.4943</td>  <td>1.0661</td> \n",
       "</tr>\n",
       "<tr>\n",
       "  <th>state_WA</th>                  <td>0.3143</td>   <td>0.1156</td>   <td>2.7190</td>  <td>0.0065</td> <td>0.0877</td>  <td>0.5409</td> \n",
       "</tr>\n",
       "<tr>\n",
       "  <th>state_WI</th>                  <td>-0.1880</td>  <td>0.1220</td>   <td>-1.5412</td> <td>0.1233</td> <td>-0.4272</td> <td>0.0511</td> \n",
       "</tr>\n",
       "<tr>\n",
       "  <th>state_WV</th>                  <td>-0.5568</td>  <td>0.1659</td>   <td>-3.3556</td> <td>0.0008</td> <td>-0.8820</td> <td>-0.2316</td>\n",
       "</tr>\n",
       "<tr>\n",
       "  <th>state_WY</th>                  <td>0.2903</td>   <td>0.1971</td>   <td>1.4730</td>  <td>0.1407</td> <td>-0.0960</td> <td>0.6767</td> \n",
       "</tr>\n",
       "<tr>\n",
       "  <th>duration_in_days_medium</th>   <td>-0.3638</td>  <td>0.0155</td>  <td>-23.5316</td> <td>0.0000</td> <td>-0.3941</td> <td>-0.3335</td>\n",
       "</tr>\n",
       "<tr>\n",
       "  <th>duration_in_days_high</th>     <td>-0.8206</td>  <td>0.0199</td>  <td>-41.2213</td> <td>0.0000</td> <td>-0.8596</td> <td>-0.7816</td>\n",
       "</tr>\n",
       "<tr>\n",
       "  <th>weekday_launch_Tuesday</th>    <td>0.1332</td>   <td>0.0190</td>   <td>7.0121</td>  <td>0.0000</td> <td>0.0960</td>  <td>0.1704</td> \n",
       "</tr>\n",
       "<tr>\n",
       "  <th>weekday_launch_Wednesday</th>  <td>0.0309</td>   <td>0.0197</td>   <td>1.5726</td>  <td>0.1158</td> <td>-0.0076</td> <td>0.0695</td> \n",
       "</tr>\n",
       "<tr>\n",
       "  <th>weekday_launch_Thursday</th>   <td>-0.0239</td>  <td>0.0202</td>   <td>-1.1844</td> <td>0.2363</td> <td>-0.0635</td> <td>0.0157</td> \n",
       "</tr>\n",
       "<tr>\n",
       "  <th>weekday_launch_Friday</th>     <td>-0.0803</td>  <td>0.0203</td>   <td>-3.9558</td> <td>0.0001</td> <td>-0.1201</td> <td>-0.0405</td>\n",
       "</tr>\n",
       "<tr>\n",
       "  <th>weekday_launch_Saturday</th>   <td>-0.1466</td>  <td>0.0248</td>   <td>-5.9120</td> <td>0.0000</td> <td>-0.1952</td> <td>-0.0980</td>\n",
       "</tr>\n",
       "<tr>\n",
       "  <th>weekday_launch_Sunday</th>     <td>-0.1093</td>  <td>0.0279</td>   <td>-3.9200</td> <td>0.0001</td> <td>-0.1639</td> <td>-0.0546</td>\n",
       "</tr>\n",
       "<tr>\n",
       "  <th>num_competitors_medium</th>    <td>-0.3098</td>  <td>0.0184</td>  <td>-16.8161</td> <td>0.0000</td> <td>-0.3459</td> <td>-0.2737</td>\n",
       "</tr>\n",
       "<tr>\n",
       "  <th>num_competitors_high</th>      <td>-0.4003</td>  <td>0.0278</td>  <td>-14.3837</td> <td>0.0000</td> <td>-0.4549</td> <td>-0.3458</td>\n",
       "</tr>\n",
       "</table>"
      ],
      "text/plain": [
       "<class 'statsmodels.iolib.summary2.Summary'>\n",
       "\"\"\"\n",
       "                    Results: Generalized linear model\n",
       "==========================================================================\n",
       "Model:                  GLM                Method:           IRLS         \n",
       "Link Function:          logit              AIC:              174985.1276  \n",
       "Dependent Variable:     result             BIC:              -1671116.3957\n",
       "Date:                   2020-07-09 13:55   Log-Likelihood:   -87415.      \n",
       "No. Observations:       154571             LL-Null:          -1.0626e+05  \n",
       "Df Model:               77                 Deviance:         1.7483e+05   \n",
       "Df Residuals:           154493             Pearson chi2:     1.60e+05     \n",
       "Converged:              1.0000             Scale:            1.0000       \n",
       "No. Iterations:         2.0000                                            \n",
       "--------------------------------------------------------------------------\n",
       "                           Coef.  Std.Err.    z     P>|z|   [0.025  0.975]\n",
       "--------------------------------------------------------------------------\n",
       "Intercept                  0.0986   0.1136   0.8681 0.3854 -0.1240  0.3212\n",
       "staff_pick                 2.3231   0.0258  89.8869 0.0000  2.2724  2.3737\n",
       "ln_goal_usd               -0.4948   0.0065 -76.1900 0.0000 -0.5076 -0.4821\n",
       "month_launch              -0.0258   0.0058  -4.4361 0.0000 -0.0371 -0.0144\n",
       "main_category_comics       1.0802   0.0375  28.7718 0.0000  1.0067  1.1538\n",
       "main_category_crafts      -0.5949   0.0429 -13.8566 0.0000 -0.6790 -0.5107\n",
       "main_category_dance        1.2541   0.0646  19.4030 0.0000  1.1275  1.3808\n",
       "main_category_design       2.0681   0.0399  51.8272 0.0000  1.9899  2.1463\n",
       "main_category_fashion     -0.2666   0.0293  -9.0851 0.0000 -0.3241 -0.2091\n",
       "main_category_film_video   0.6581   0.0250  26.3543 0.0000  0.6091  0.7070\n",
       "main_category_food        -0.0262   0.0300  -0.8754 0.3813 -0.0850  0.0325\n",
       "main_category_games        0.8973   0.0277  32.3526 0.0000  0.8429  0.9517\n",
       "main_category_journalism  -1.2290   0.0560 -21.9321 0.0000 -1.3388 -1.1192\n",
       "main_category_music        0.5970   0.0240  24.8486 0.0000  0.5499  0.6441\n",
       "main_category_photography -0.0469   0.0429  -1.0949 0.2735 -0.1309  0.0371\n",
       "main_category_publishing  -0.2414   0.0248  -9.7369 0.0000 -0.2900 -0.1928\n",
       "main_category_technology  -0.4269   0.0296 -14.4424 0.0000 -0.4848 -0.3689\n",
       "main_category_theater      1.2489   0.0450  27.7676 0.0000  1.1607  1.3370\n",
       "state_AL                  -0.5696   0.1332  -4.2754 0.0000 -0.8308 -0.3085\n",
       "state_AR                  -0.5413   0.1445  -3.7454 0.0002 -0.8246 -0.2581\n",
       "state_AZ                  -0.2904   0.1184  -2.4523 0.0142 -0.5225 -0.0583\n",
       "state_CA                   0.5295   0.1137   4.6562 0.0000  0.3066  0.7525\n",
       "state_CO                   0.0105   0.1171   0.0900 0.9283 -0.2190  0.2401\n",
       "state_CT                  -0.0907   0.1266  -0.7163 0.4738 -0.3389  0.1575\n",
       "state_DC                   0.1480   0.1247   1.1869 0.2353 -0.0964  0.3923\n",
       "state_DE                  -0.0635   0.1638  -0.3875 0.6984 -0.3846  0.2576\n",
       "state_FL                  -0.4850   0.1146  -4.2338 0.0000 -0.7096 -0.2605\n",
       "state_GA                  -0.4787   0.1164  -4.1127 0.0000 -0.7068 -0.2506\n",
       "state_HI                  -0.0452   0.1391  -0.3246 0.7455 -0.3179  0.2275\n",
       "state_IA                  -0.2448   0.1369  -1.7879 0.0738 -0.5131  0.0236\n",
       "state_ID                  -0.2811   0.1350  -2.0816 0.0374 -0.5458 -0.0164\n",
       "state_IL                   0.1611   0.1151   1.3991 0.1618 -0.0646  0.3867\n",
       "state_IN                  -0.4858   0.1221  -3.9798 0.0001 -0.7250 -0.2465\n",
       "state_KS                  -0.4777   0.1382  -3.4570 0.0005 -0.7486 -0.2069\n",
       "state_KY                  -0.4278   0.1290  -3.3150 0.0009 -0.6807 -0.1748\n",
       "state_LA                  -0.1582   0.1267  -1.2487 0.2118 -0.4064  0.0901\n",
       "state_MA                   0.4544   0.1165   3.8995 0.0001  0.2260  0.6829\n",
       "state_MD                  -0.2426   0.1210  -2.0042 0.0451 -0.4798 -0.0054\n",
       "state_ME                   0.1847   0.1366   1.3522 0.1763 -0.0830  0.4524\n",
       "state_MI                  -0.2046   0.1171  -1.7475 0.0806 -0.4341  0.0249\n",
       "state_MN                   0.1659   0.1189   1.3950 0.1630 -0.0672  0.3990\n",
       "state_MO                  -0.3288   0.1203  -2.7323 0.0063 -0.5646 -0.0929\n",
       "state_MS                  -0.8162   0.1557  -5.2416 0.0000 -1.1214 -0.5110\n",
       "state_MT                   0.3009   0.1463   2.0568 0.0397  0.0142  0.5876\n",
       "state_NC                  -0.2777   0.1174  -2.3660 0.0180 -0.5077 -0.0477\n",
       "state_ND                  -0.4549   0.2094  -2.1720 0.0299 -0.8654 -0.0444\n",
       "state_NE                  -0.6020   0.1508  -3.9921 0.0001 -0.8975 -0.3064\n",
       "state_NH                   0.1292   0.1409   0.9173 0.3590 -0.1469  0.4054\n",
       "state_NJ                  -0.2702   0.1196  -2.2598 0.0238 -0.5045 -0.0359\n",
       "state_NM                  -0.1284   0.1345  -0.9550 0.3396 -0.3919  0.1351\n",
       "state_NV                  -0.2604   0.1229  -2.1183 0.0341 -0.5014 -0.0195\n",
       "state_NY                   0.5961   0.1136   5.2468 0.0000  0.3734  0.8188\n",
       "state_OH                  -0.2951   0.1166  -2.5310 0.0114 -0.5236 -0.0666\n",
       "state_OK                  -0.6158   0.1325  -4.6489 0.0000 -0.8754 -0.3562\n",
       "state_OR                   0.3380   0.1170   2.8879 0.0039  0.1086  0.5674\n",
       "state_PA                   0.0068   0.1157   0.0591 0.9528 -0.2199  0.2335\n",
       "state_RI                   0.2874   0.1469   1.9563 0.0504 -0.0005  0.5753\n",
       "state_SC                  -0.4168   0.1276  -3.2678 0.0011 -0.6668 -0.1668\n",
       "state_SD                  -0.7308   0.1949  -3.7488 0.0002 -1.1128 -0.3487\n",
       "state_TN                   0.0472   0.1179   0.4006 0.6887 -0.1838  0.2783\n",
       "state_TX                  -0.1239   0.1141  -1.0860 0.2775 -0.3475  0.0997\n",
       "state_UT                   0.1387   0.1195   1.1611 0.2456 -0.0955  0.3729\n",
       "state_VA                  -0.2524   0.1186  -2.1283 0.0333 -0.4848 -0.0200\n",
       "state_VT                   0.7802   0.1459   5.3488 0.0000  0.4943  1.0661\n",
       "state_WA                   0.3143   0.1156   2.7190 0.0065  0.0877  0.5409\n",
       "state_WI                  -0.1880   0.1220  -1.5412 0.1233 -0.4272  0.0511\n",
       "state_WV                  -0.5568   0.1659  -3.3556 0.0008 -0.8820 -0.2316\n",
       "state_WY                   0.2903   0.1971   1.4730 0.1407 -0.0960  0.6767\n",
       "duration_in_days_medium   -0.3638   0.0155 -23.5316 0.0000 -0.3941 -0.3335\n",
       "duration_in_days_high     -0.8206   0.0199 -41.2213 0.0000 -0.8596 -0.7816\n",
       "weekday_launch_Tuesday     0.1332   0.0190   7.0121 0.0000  0.0960  0.1704\n",
       "weekday_launch_Wednesday   0.0309   0.0197   1.5726 0.1158 -0.0076  0.0695\n",
       "weekday_launch_Thursday   -0.0239   0.0202  -1.1844 0.2363 -0.0635  0.0157\n",
       "weekday_launch_Friday     -0.0803   0.0203  -3.9558 0.0001 -0.1201 -0.0405\n",
       "weekday_launch_Saturday   -0.1466   0.0248  -5.9120 0.0000 -0.1952 -0.0980\n",
       "weekday_launch_Sunday     -0.1093   0.0279  -3.9200 0.0001 -0.1639 -0.0546\n",
       "num_competitors_medium    -0.3098   0.0184 -16.8161 0.0000 -0.3459 -0.2737\n",
       "num_competitors_high      -0.4003   0.0278 -14.3837 0.0000 -0.4549 -0.3458\n",
       "==========================================================================\n",
       "\n",
       "\"\"\""
      ]
     },
     "execution_count": 61,
     "metadata": {},
     "output_type": "execute_result"
    }
   ],
   "source": [
    "lr_stats.summary2()"
   ]
  },
  {
   "cell_type": "code",
   "execution_count": 63,
   "metadata": {},
   "outputs": [],
   "source": [
    "X_train_lr = X_train.rename(\n",
    "    columns={'ln(goal_usd)': 'ln_goal_usd', 'main_category_film-&-video': 'main_category_film_video',\n",
    "             #'duration_in_days_bin_(0.0, 29.0]': 'duration_in_days_low',\n",
    "             'duration_in_days_bin_(29.0, 45.0]': 'duration_in_days_medium',\n",
    "             'duration_in_days_bin_(45.0, inf]': 'duration_in_days_high',\n",
    "             #'num_competitors_bin_(0.0, 10.0]': 'num_competitors_low',\n",
    "             'num_competitors_bin_(10.0, 30.0]': 'num_competitors_medium',\n",
    "             'num_competitors_bin_(30.0, inf]': 'num_competitors_high'}\n",
    ")\n",
    "X_test_lr = X_test.rename(\n",
    "    columns={'ln(goal_usd)': 'ln_goal_usd', 'main_category_film-&-video': 'main_category_film_video',\n",
    "             #'duration_in_days_bin_(0.0, 29.0]': 'duration_in_days_low',\n",
    "             'duration_in_days_bin_(29.0, 45.0]': 'duration_in_days_medium',\n",
    "             'duration_in_days_bin_(45.0, inf]': 'duration_in_days_high',\n",
    "             #'num_competitors_bin_(0.0, 10.0]': 'num_competitors_low',\n",
    "             'num_competitors_bin_(10.0, 30.0]': 'num_competitors_medium',\n",
    "             'num_competitors_bin_(30.0, inf]': 'num_competitors_high'}\n",
    ")"
   ]
  },
  {
   "cell_type": "code",
   "execution_count": 64,
   "metadata": {},
   "outputs": [],
   "source": [
    "y_train_pred = lr_stats.predict(X_train_lr)\n",
    "y_train_pred = y_train_pred.apply(lambda x: 1 if x > 0.5 else 0)\n",
    "y_test_pred = lr_stats.predict(X_test_lr)\n",
    "y_test_pred = y_test_pred.apply(lambda x: 1 if x > 0.5 else 0)"
   ]
  },
  {
   "cell_type": "code",
   "execution_count": 65,
   "metadata": {},
   "outputs": [
    {
     "name": "stdout",
     "output_type": "stream",
     "text": [
      "Accuracy on training data=0.7049123057\n",
      "Accuracy on test data=0.7026628367\n"
     ]
    }
   ],
   "source": [
    "print('Accuracy on training data={:.10f}'.format(accuracy_score(y_train_pred, y_train)))\n",
    "print('Accuracy on test data={:.10f}'.format(accuracy_score(y_test_pred, y_test)))"
   ]
  },
  {
   "cell_type": "markdown",
   "metadata": {},
   "source": [
    "#### Stepwise selection"
   ]
  },
  {
   "cell_type": "code",
   "execution_count": 66,
   "metadata": {},
   "outputs": [],
   "source": [
    "model_form = create_model_formula('result', '1')\n",
    "lr_stats_null = smf.glm(formula=model_form, data=df_model, family=sm.families.Binomial()).fit(method='lbfgs')"
   ]
  },
  {
   "cell_type": "code",
   "execution_count": 67,
   "metadata": {},
   "outputs": [],
   "source": [
    "# Lets drop variables until all variables are significant at a given cutoff (alpha).\n",
    "alpha = .01"
   ]
  },
  {
   "cell_type": "code",
   "execution_count": 68,
   "metadata": {},
   "outputs": [],
   "source": [
    "def backward_selection(data, response, X_test, y_test, max_iter=10, alpha=0.05, verbose=False):\n",
    "    \"\"\"Linear model designed for backwards selection.\n",
    "\n",
    "    Args:\n",
    "        data..........pandas DataFrame with all possible predictors and response.\n",
    "        response......name of response column in data.\n",
    "        X_test........Test set for computing accuracy of the model.\n",
    "        y_test........Array of Test set actual labels.\n",
    "        max_iter......Maximum number of removals.\n",
    "        alpha.........Confidence threshold cutoff.\n",
    "\n",
    "    Returns:\n",
    "        model.........The final obtained model.\n",
    "        removed_cols..Dict containing remove cols and their p-values.\n",
    "        results.......Dict containing results on each interaction.\n",
    "    \"\"\"    \n",
    "    x_vars = set(data.columns)\n",
    "    x_vars.remove(response)\n",
    "    removed_cols = [] # list of dicts containing {col_name: p_value}\n",
    "    results = [] #list with dicts containing {formula: , accuracy_on_test: , aic}\n",
    "\n",
    "    # Run model with all variables\n",
    "    model_form = create_model_formula(response, x_vars)\n",
    "    if verbose:\n",
    "        print(\"Running model with formula: \\n{}\".format(model_form))\n",
    "    lr_stats = smf.glm(formula=model_form, data=data, family=sm.families.Binomial()).fit(method='lbfgs')\n",
    "    # Compute Accuracy\n",
    "    y_test_pred = lr_stats.predict(X_test)\n",
    "    y_test_pred = y_test_pred.apply(lambda x: 1 if x > 0.5 else 0)\n",
    "    test_acc = accuracy_score(y_test_pred, y_test)\n",
    "    results.append({'formula': model_form, 'test_accuracy': test_acc, 'aic': lr_stats.aic})\n",
    "    \n",
    "    p_values = lr_stats.pvalues.sort_values(ascending=False)\n",
    "    if verbose:\n",
    "            print(\"\\nTest Accuracy: {}\".format(test_acc))\n",
    "            print(\"\\nAIC: {}\".format(lr_stats.aic))\n",
    "            print(\"\\nBiggest p-value: {}:{}\".format(p_values.index[0], p_values[0]))\n",
    "    \n",
    "    while (p_values[0] > alpha) and (len(removed_cols) <= max_iter):\n",
    "        \n",
    "        removed_cols.append({p_values.index[0]: p_values[0]})\n",
    "        print(removed_cols)\n",
    "        model_form = remove_vars_from_formula(model_form, [p_values.index[0]])\n",
    "        if verbose and len(removed_cols)>1:\n",
    "            print(\"\\n\\nRunning model with formula: \\n{}\".format(model_form))\n",
    "        \n",
    "        lr_stats = smf.glm(formula=model_form, data=data, family=sm.families.Binomial()).fit(method='lbfgs')\n",
    "        y_test_pred = lr_stats.predict(X_test)\n",
    "        y_test_pred = y_test_pred.apply(lambda x: 1 if x > 0.5 else 0)\n",
    "        test_acc = accuracy_score(y_test_pred, y_test)\n",
    "        results.append({'formula': model_form, 'test_accuracy': test_acc, 'aic': lr_stats.aic})\n",
    "        if verbose:\n",
    "            print(\"\\nTest Accuracy: {}\".format(test_acc))\n",
    "            print(\"\\nAIC: {}\".format(lr_stats.aic))\n",
    "            print(\"\\nBiggest p-value: {}:{}\".format(p_values.index[0], p_values[0]))\n",
    "        \n",
    "        p_values = lr_stats.pvalues.sort_values(ascending=False)\n",
    "        \n",
    "    return lr_stats, removed_cols, results"
   ]
  },
  {
   "cell_type": "code",
   "execution_count": 69,
   "metadata": {},
   "outputs": [
    {
     "name": "stdout",
     "output_type": "stream",
     "text": [
      "Running model with formula: \n",
      "result ~ state_PA + num_competitors_medium + weekday_launch_Wednesday + state_AR + duration_in_days_medium + state_IA + state_GA + main_category_games + state_NY + state_MN + state_NH + state_VT + state_AZ + state_RI + state_WI + state_NM + weekday_launch_Friday + state_MA + state_CT + main_category_journalism + state_MO + state_DE + state_MI + state_NE + main_category_technology + main_category_design + state_SD + main_category_publishing + state_WV + main_category_photography + main_category_comics + state_KS + weekday_launch_Sunday + state_MT + state_KY + state_CA + state_FL + state_NC + ln_goal_usd + state_MD + state_LA + state_IN + main_category_fashion + month_launch + state_OH + state_ND + state_HI + state_SC + state_MS + state_ME + main_category_crafts + state_IL + state_AL + duration_in_days_high + state_OR + main_category_dance + state_OK + main_category_food + staff_pick + state_CO + num_competitors_high + state_TN + main_category_film_video + state_VA + main_category_theater + state_UT + state_ID + weekday_launch_Saturday + state_NV + weekday_launch_Tuesday + state_TX + state_WA + state_DC + state_NJ + weekday_launch_Thursday + state_WY + main_category_music\n",
      "\n",
      "Test Accuracy: 0.7026628367362783\n",
      "\n",
      "AIC: 174985.1276073877\n",
      "\n",
      "Biggest p-value: state_PA:0.9528329798566272\n",
      "[{'state_PA': 0.9528329798566272}]\n",
      "\n",
      "Test Accuracy: 0.7026628367362783\n",
      "\n",
      "AIC: 174983.13112109565\n",
      "\n",
      "Biggest p-value: state_PA:0.9528329798566272\n",
      "[{'state_PA': 0.9528329798566272}, {'state_CO': 0.929942853551981}]\n",
      "\n",
      "\n",
      "Running model with formula: \n",
      "result ~ state_PA + num_competitors_medium + weekday_launch_Wednesday + state_AR + duration_in_days_medium + state_IA + state_GA + main_category_games + state_NY + state_MN + state_NH + state_VT + state_AZ + state_RI + state_WI + state_NM + weekday_launch_Friday + state_MA + state_CT + main_category_journalism + state_MO + state_DE + state_MI + state_NE + main_category_technology + main_category_design + state_SD + main_category_publishing + state_WV + main_category_photography + main_category_comics + state_KS + weekday_launch_Sunday + state_MT + state_KY + state_CA + state_FL + state_NC + ln_goal_usd + state_MD + state_LA + state_IN + main_category_fashion + month_launch + state_OH + state_ND + state_HI + state_SC + state_MS + state_ME + main_category_crafts + state_IL + state_AL + duration_in_days_high + state_OR + main_category_dance + state_OK + main_category_food + staff_pick + state_CO + num_competitors_high + state_TN + main_category_film_video + state_VA + main_category_theater + state_UT + state_ID + weekday_launch_Saturday + state_NV + weekday_launch_Tuesday + state_TX + state_WA + state_DC + state_NJ + weekday_launch_Thursday + state_WY + main_category_music - state_PA - state_CO\n",
      "\n",
      "Test Accuracy: 0.702714592552338\n",
      "\n",
      "AIC: 174981.13882612993\n",
      "\n",
      "Biggest p-value: state_CO:0.929942853551981\n",
      "[{'state_PA': 0.9528329798566272}, {'state_CO': 0.929942853551981}, {'state_DE': 0.5598083904086186}]\n",
      "\n",
      "\n",
      "Running model with formula: \n",
      "result ~ state_PA + num_competitors_medium + weekday_launch_Wednesday + state_AR + duration_in_days_medium + state_IA + state_GA + main_category_games + state_NY + state_MN + state_NH + state_VT + state_AZ + state_RI + state_WI + state_NM + weekday_launch_Friday + state_MA + state_CT + main_category_journalism + state_MO + state_DE + state_MI + state_NE + main_category_technology + main_category_design + state_SD + main_category_publishing + state_WV + main_category_photography + main_category_comics + state_KS + weekday_launch_Sunday + state_MT + state_KY + state_CA + state_FL + state_NC + ln_goal_usd + state_MD + state_LA + state_IN + main_category_fashion + month_launch + state_OH + state_ND + state_HI + state_SC + state_MS + state_ME + main_category_crafts + state_IL + state_AL + duration_in_days_high + state_OR + main_category_dance + state_OK + main_category_food + staff_pick + state_CO + num_competitors_high + state_TN + main_category_film_video + state_VA + main_category_theater + state_UT + state_ID + weekday_launch_Saturday + state_NV + weekday_launch_Tuesday + state_TX + state_WA + state_DC + state_NJ + weekday_launch_Thursday + state_WY + main_category_music - state_PA - state_CO - state_DE\n",
      "\n",
      "Test Accuracy: 0.702740470460368\n",
      "\n",
      "AIC: 174979.4789537421\n",
      "\n",
      "Biggest p-value: state_DE:0.5598083904086186\n",
      "[{'state_PA': 0.9528329798566272}, {'state_CO': 0.929942853551981}, {'state_DE': 0.5598083904086186}, {'state_HI': 0.5612501253643905}]\n",
      "\n",
      "\n",
      "Running model with formula: \n",
      "result ~ state_PA + num_competitors_medium + weekday_launch_Wednesday + state_AR + duration_in_days_medium + state_IA + state_GA + main_category_games + state_NY + state_MN + state_NH + state_VT + state_AZ + state_RI + state_WI + state_NM + weekday_launch_Friday + state_MA + state_CT + main_category_journalism + state_MO + state_DE + state_MI + state_NE + main_category_technology + main_category_design + state_SD + main_category_publishing + state_WV + main_category_photography + main_category_comics + state_KS + weekday_launch_Sunday + state_MT + state_KY + state_CA + state_FL + state_NC + ln_goal_usd + state_MD + state_LA + state_IN + main_category_fashion + month_launch + state_OH + state_ND + state_HI + state_SC + state_MS + state_ME + main_category_crafts + state_IL + state_AL + duration_in_days_high + state_OR + main_category_dance + state_OK + main_category_food + staff_pick + state_CO + num_competitors_high + state_TN + main_category_film_video + state_VA + main_category_theater + state_UT + state_ID + weekday_launch_Saturday + state_NV + weekday_launch_Tuesday + state_TX + state_WA + state_DC + state_NJ + weekday_launch_Thursday + state_WY + main_category_music - state_PA - state_CO - state_DE - state_HI\n",
      "\n",
      "Test Accuracy: 0.7026887146443082\n",
      "\n",
      "AIC: 174977.81669317416\n",
      "\n",
      "Biggest p-value: state_HI:0.5612501253643905\n",
      "[{'state_PA': 0.9528329798566272}, {'state_CO': 0.929942853551981}, {'state_DE': 0.5598083904086186}, {'state_HI': 0.5612501253643905}, {'main_category_food': 0.3784944038595657}]\n",
      "\n",
      "\n",
      "Running model with formula: \n",
      "result ~ state_PA + num_competitors_medium + weekday_launch_Wednesday + state_AR + duration_in_days_medium + state_IA + state_GA + main_category_games + state_NY + state_MN + state_NH + state_VT + state_AZ + state_RI + state_WI + state_NM + weekday_launch_Friday + state_MA + state_CT + main_category_journalism + state_MO + state_DE + state_MI + state_NE + main_category_technology + main_category_design + state_SD + main_category_publishing + state_WV + main_category_photography + main_category_comics + state_KS + weekday_launch_Sunday + state_MT + state_KY + state_CA + state_FL + state_NC + ln_goal_usd + state_MD + state_LA + state_IN + main_category_fashion + month_launch + state_OH + state_ND + state_HI + state_SC + state_MS + state_ME + main_category_crafts + state_IL + state_AL + duration_in_days_high + state_OR + main_category_dance + state_OK + main_category_food + staff_pick + state_CO + num_competitors_high + state_TN + main_category_film_video + state_VA + main_category_theater + state_UT + state_ID + weekday_launch_Saturday + state_NV + weekday_launch_Tuesday + state_TX + state_WA + state_DC + state_NJ + weekday_launch_Thursday + state_WY + main_category_music - state_PA - state_CO - state_DE - state_HI - main_category_food\n",
      "\n",
      "Test Accuracy: 0.7027922262764278\n",
      "\n",
      "AIC: 174976.59279978275\n",
      "\n",
      "Biggest p-value: main_category_food:0.3784944038595657\n",
      "[{'state_PA': 0.9528329798566272}, {'state_CO': 0.929942853551981}, {'state_DE': 0.5598083904086186}, {'state_HI': 0.5612501253643905}, {'main_category_food': 0.3784944038595657}, {'main_category_photography': 0.3751194295353162}]\n",
      "\n",
      "\n",
      "Running model with formula: \n",
      "result ~ state_PA + num_competitors_medium + weekday_launch_Wednesday + state_AR + duration_in_days_medium + state_IA + state_GA + main_category_games + state_NY + state_MN + state_NH + state_VT + state_AZ + state_RI + state_WI + state_NM + weekday_launch_Friday + state_MA + state_CT + main_category_journalism + state_MO + state_DE + state_MI + state_NE + main_category_technology + main_category_design + state_SD + main_category_publishing + state_WV + main_category_photography + main_category_comics + state_KS + weekday_launch_Sunday + state_MT + state_KY + state_CA + state_FL + state_NC + ln_goal_usd + state_MD + state_LA + state_IN + main_category_fashion + month_launch + state_OH + state_ND + state_HI + state_SC + state_MS + state_ME + main_category_crafts + state_IL + state_AL + duration_in_days_high + state_OR + main_category_dance + state_OK + main_category_food + staff_pick + state_CO + num_competitors_high + state_TN + main_category_film_video + state_VA + main_category_theater + state_UT + state_ID + weekday_launch_Saturday + state_NV + weekday_launch_Tuesday + state_TX + state_WA + state_DC + state_NJ + weekday_launch_Thursday + state_WY + main_category_music - state_PA - state_CO - state_DE - state_HI - main_category_food - main_category_photography\n"
     ]
    },
    {
     "name": "stdout",
     "output_type": "stream",
     "text": [
      "\n",
      "Test Accuracy: 0.7027922262764278\n",
      "\n",
      "AIC: 174975.37985742744\n",
      "\n",
      "Biggest p-value: main_category_photography:0.3751194295353162\n",
      "[{'state_PA': 0.9528329798566272}, {'state_CO': 0.929942853551981}, {'state_DE': 0.5598083904086186}, {'state_HI': 0.5612501253643905}, {'main_category_food': 0.3784944038595657}, {'main_category_photography': 0.3751194295353162}, {'state_TN': 0.3157134582094925}]\n",
      "\n",
      "\n",
      "Running model with formula: \n",
      "result ~ state_PA + num_competitors_medium + weekday_launch_Wednesday + state_AR + duration_in_days_medium + state_IA + state_GA + main_category_games + state_NY + state_MN + state_NH + state_VT + state_AZ + state_RI + state_WI + state_NM + weekday_launch_Friday + state_MA + state_CT + main_category_journalism + state_MO + state_DE + state_MI + state_NE + main_category_technology + main_category_design + state_SD + main_category_publishing + state_WV + main_category_photography + main_category_comics + state_KS + weekday_launch_Sunday + state_MT + state_KY + state_CA + state_FL + state_NC + ln_goal_usd + state_MD + state_LA + state_IN + main_category_fashion + month_launch + state_OH + state_ND + state_HI + state_SC + state_MS + state_ME + main_category_crafts + state_IL + state_AL + duration_in_days_high + state_OR + main_category_dance + state_OK + main_category_food + staff_pick + state_CO + num_competitors_high + state_TN + main_category_film_video + state_VA + main_category_theater + state_UT + state_ID + weekday_launch_Saturday + state_NV + weekday_launch_Tuesday + state_TX + state_WA + state_DC + state_NJ + weekday_launch_Thursday + state_WY + main_category_music - state_PA - state_CO - state_DE - state_HI - main_category_food - main_category_photography - state_TN\n",
      "\n",
      "Test Accuracy: 0.7026110809202184\n",
      "\n",
      "AIC: 174974.3870818633\n",
      "\n",
      "Biggest p-value: state_TN:0.3157134582094925\n",
      "[{'state_PA': 0.9528329798566272}, {'state_CO': 0.929942853551981}, {'state_DE': 0.5598083904086186}, {'state_HI': 0.5612501253643905}, {'main_category_food': 0.3784944038595657}, {'main_category_photography': 0.3751194295353162}, {'state_TN': 0.3157134582094925}, {'weekday_launch_Thursday': 0.23427266377189604}]\n",
      "\n",
      "\n",
      "Running model with formula: \n",
      "result ~ state_PA + num_competitors_medium + weekday_launch_Wednesday + state_AR + duration_in_days_medium + state_IA + state_GA + main_category_games + state_NY + state_MN + state_NH + state_VT + state_AZ + state_RI + state_WI + state_NM + weekday_launch_Friday + state_MA + state_CT + main_category_journalism + state_MO + state_DE + state_MI + state_NE + main_category_technology + main_category_design + state_SD + main_category_publishing + state_WV + main_category_photography + main_category_comics + state_KS + weekday_launch_Sunday + state_MT + state_KY + state_CA + state_FL + state_NC + ln_goal_usd + state_MD + state_LA + state_IN + main_category_fashion + month_launch + state_OH + state_ND + state_HI + state_SC + state_MS + state_ME + main_category_crafts + state_IL + state_AL + duration_in_days_high + state_OR + main_category_dance + state_OK + main_category_food + staff_pick + state_CO + num_competitors_high + state_TN + main_category_film_video + state_VA + main_category_theater + state_UT + state_ID + weekday_launch_Saturday + state_NV + weekday_launch_Tuesday + state_TX + state_WA + state_DC + state_NJ + weekday_launch_Thursday + state_WY + main_category_music - state_PA - state_CO - state_DE - state_HI - main_category_food - main_category_photography - state_TN - weekday_launch_Thursday\n",
      "\n",
      "Test Accuracy: 0.7025852030121885\n",
      "\n",
      "AIC: 174973.80280747003\n",
      "\n",
      "Biggest p-value: weekday_launch_Thursday:0.23427266377189604\n",
      "[{'state_PA': 0.9528329798566272}, {'state_CO': 0.929942853551981}, {'state_DE': 0.5598083904086186}, {'state_HI': 0.5612501253643905}, {'main_category_food': 0.3784944038595657}, {'main_category_photography': 0.3751194295353162}, {'state_TN': 0.3157134582094925}, {'weekday_launch_Thursday': 0.23427266377189604}, {'state_NH': 0.19404639434197435}]\n",
      "\n",
      "\n",
      "Running model with formula: \n",
      "result ~ state_PA + num_competitors_medium + weekday_launch_Wednesday + state_AR + duration_in_days_medium + state_IA + state_GA + main_category_games + state_NY + state_MN + state_NH + state_VT + state_AZ + state_RI + state_WI + state_NM + weekday_launch_Friday + state_MA + state_CT + main_category_journalism + state_MO + state_DE + state_MI + state_NE + main_category_technology + main_category_design + state_SD + main_category_publishing + state_WV + main_category_photography + main_category_comics + state_KS + weekday_launch_Sunday + state_MT + state_KY + state_CA + state_FL + state_NC + ln_goal_usd + state_MD + state_LA + state_IN + main_category_fashion + month_launch + state_OH + state_ND + state_HI + state_SC + state_MS + state_ME + main_category_crafts + state_IL + state_AL + duration_in_days_high + state_OR + main_category_dance + state_OK + main_category_food + staff_pick + state_CO + num_competitors_high + state_TN + main_category_film_video + state_VA + main_category_theater + state_UT + state_ID + weekday_launch_Saturday + state_NV + weekday_launch_Tuesday + state_TX + state_WA + state_DC + state_NJ + weekday_launch_Thursday + state_WY + main_category_music - state_PA - state_CO - state_DE - state_HI - main_category_food - main_category_photography - state_TN - weekday_launch_Thursday - state_NH\n",
      "\n",
      "Test Accuracy: 0.7026887146443082\n",
      "\n",
      "AIC: 174973.494074772\n",
      "\n",
      "Biggest p-value: state_NH:0.19404639434197435\n",
      "[{'state_PA': 0.9528329798566272}, {'state_CO': 0.929942853551981}, {'state_DE': 0.5598083904086186}, {'state_HI': 0.5612501253643905}, {'main_category_food': 0.3784944038595657}, {'main_category_photography': 0.3751194295353162}, {'state_TN': 0.3157134582094925}, {'weekday_launch_Thursday': 0.23427266377189604}, {'state_NH': 0.19404639434197435}, {'state_WY': 0.09893012002168959}]\n",
      "\n",
      "\n",
      "Running model with formula: \n",
      "result ~ state_PA + num_competitors_medium + weekday_launch_Wednesday + state_AR + duration_in_days_medium + state_IA + state_GA + main_category_games + state_NY + state_MN + state_NH + state_VT + state_AZ + state_RI + state_WI + state_NM + weekday_launch_Friday + state_MA + state_CT + main_category_journalism + state_MO + state_DE + state_MI + state_NE + main_category_technology + main_category_design + state_SD + main_category_publishing + state_WV + main_category_photography + main_category_comics + state_KS + weekday_launch_Sunday + state_MT + state_KY + state_CA + state_FL + state_NC + ln_goal_usd + state_MD + state_LA + state_IN + main_category_fashion + month_launch + state_OH + state_ND + state_HI + state_SC + state_MS + state_ME + main_category_crafts + state_IL + state_AL + duration_in_days_high + state_OR + main_category_dance + state_OK + main_category_food + staff_pick + state_CO + num_competitors_high + state_TN + main_category_film_video + state_VA + main_category_theater + state_UT + state_ID + weekday_launch_Saturday + state_NV + weekday_launch_Tuesday + state_TX + state_WA + state_DC + state_NJ + weekday_launch_Thursday + state_WY + main_category_music - state_PA - state_CO - state_DE - state_HI - main_category_food - main_category_photography - state_TN - weekday_launch_Thursday - state_NH - state_WY\n",
      "\n",
      "Test Accuracy: 0.7027663483683979\n",
      "\n",
      "AIC: 174974.23093202384\n",
      "\n",
      "Biggest p-value: state_WY:0.09893012002168959\n",
      "[{'state_PA': 0.9528329798566272}, {'state_CO': 0.929942853551981}, {'state_DE': 0.5598083904086186}, {'state_HI': 0.5612501253643905}, {'main_category_food': 0.3784944038595657}, {'main_category_photography': 0.3751194295353162}, {'state_TN': 0.3157134582094925}, {'weekday_launch_Thursday': 0.23427266377189604}, {'state_NH': 0.19404639434197435}, {'state_WY': 0.09893012002168959}, {'state_CT': 0.07692199051347341}]\n",
      "\n",
      "\n",
      "Running model with formula: \n",
      "result ~ state_PA + num_competitors_medium + weekday_launch_Wednesday + state_AR + duration_in_days_medium + state_IA + state_GA + main_category_games + state_NY + state_MN + state_NH + state_VT + state_AZ + state_RI + state_WI + state_NM + weekday_launch_Friday + state_MA + state_CT + main_category_journalism + state_MO + state_DE + state_MI + state_NE + main_category_technology + main_category_design + state_SD + main_category_publishing + state_WV + main_category_photography + main_category_comics + state_KS + weekday_launch_Sunday + state_MT + state_KY + state_CA + state_FL + state_NC + ln_goal_usd + state_MD + state_LA + state_IN + main_category_fashion + month_launch + state_OH + state_ND + state_HI + state_SC + state_MS + state_ME + main_category_crafts + state_IL + state_AL + duration_in_days_high + state_OR + main_category_dance + state_OK + main_category_food + staff_pick + state_CO + num_competitors_high + state_TN + main_category_film_video + state_VA + main_category_theater + state_UT + state_ID + weekday_launch_Saturday + state_NV + weekday_launch_Tuesday + state_TX + state_WA + state_DC + state_NJ + weekday_launch_Thursday + state_WY + main_category_music - state_PA - state_CO - state_DE - state_HI - main_category_food - main_category_photography - state_TN - weekday_launch_Thursday - state_NH - state_WY - state_CT\n"
     ]
    },
    {
     "name": "stdout",
     "output_type": "stream",
     "text": [
      "\n",
      "Test Accuracy: 0.7027663483683979\n",
      "\n",
      "AIC: 174975.35593097485\n",
      "\n",
      "Biggest p-value: state_CT:0.07692199051347341\n",
      "[{'state_PA': 0.9528329798566272}, {'state_CO': 0.929942853551981}, {'state_DE': 0.5598083904086186}, {'state_HI': 0.5612501253643905}, {'main_category_food': 0.3784944038595657}, {'main_category_photography': 0.3751194295353162}, {'state_TN': 0.3157134582094925}, {'weekday_launch_Thursday': 0.23427266377189604}, {'state_NH': 0.19404639434197435}, {'state_WY': 0.09893012002168959}, {'state_CT': 0.07692199051347341}, {'state_NM': 0.07444161914755774}]\n",
      "\n",
      "\n",
      "Running model with formula: \n",
      "result ~ state_PA + num_competitors_medium + weekday_launch_Wednesday + state_AR + duration_in_days_medium + state_IA + state_GA + main_category_games + state_NY + state_MN + state_NH + state_VT + state_AZ + state_RI + state_WI + state_NM + weekday_launch_Friday + state_MA + state_CT + main_category_journalism + state_MO + state_DE + state_MI + state_NE + main_category_technology + main_category_design + state_SD + main_category_publishing + state_WV + main_category_photography + main_category_comics + state_KS + weekday_launch_Sunday + state_MT + state_KY + state_CA + state_FL + state_NC + ln_goal_usd + state_MD + state_LA + state_IN + main_category_fashion + month_launch + state_OH + state_ND + state_HI + state_SC + state_MS + state_ME + main_category_crafts + state_IL + state_AL + duration_in_days_high + state_OR + main_category_dance + state_OK + main_category_food + staff_pick + state_CO + num_competitors_high + state_TN + main_category_film_video + state_VA + main_category_theater + state_UT + state_ID + weekday_launch_Saturday + state_NV + weekday_launch_Tuesday + state_TX + state_WA + state_DC + state_NJ + weekday_launch_Thursday + state_WY + main_category_music - state_PA - state_CO - state_DE - state_HI - main_category_food - main_category_photography - state_TN - weekday_launch_Thursday - state_NH - state_WY - state_CT - state_NM\n",
      "\n",
      "Test Accuracy: 0.7029216158165774\n",
      "\n",
      "AIC: 174976.53391577324\n",
      "\n",
      "Biggest p-value: state_NM:0.07444161914755774\n",
      "[{'state_PA': 0.9528329798566272}, {'state_CO': 0.929942853551981}, {'state_DE': 0.5598083904086186}, {'state_HI': 0.5612501253643905}, {'main_category_food': 0.3784944038595657}, {'main_category_photography': 0.3751194295353162}, {'state_TN': 0.3157134582094925}, {'weekday_launch_Thursday': 0.23427266377189604}, {'state_NH': 0.19404639434197435}, {'state_WY': 0.09893012002168959}, {'state_CT': 0.07692199051347341}, {'state_NM': 0.07444161914755774}, {'state_ME': 0.026774992189363314}]\n",
      "\n",
      "\n",
      "Running model with formula: \n",
      "result ~ state_PA + num_competitors_medium + weekday_launch_Wednesday + state_AR + duration_in_days_medium + state_IA + state_GA + main_category_games + state_NY + state_MN + state_NH + state_VT + state_AZ + state_RI + state_WI + state_NM + weekday_launch_Friday + state_MA + state_CT + main_category_journalism + state_MO + state_DE + state_MI + state_NE + main_category_technology + main_category_design + state_SD + main_category_publishing + state_WV + main_category_photography + main_category_comics + state_KS + weekday_launch_Sunday + state_MT + state_KY + state_CA + state_FL + state_NC + ln_goal_usd + state_MD + state_LA + state_IN + main_category_fashion + month_launch + state_OH + state_ND + state_HI + state_SC + state_MS + state_ME + main_category_crafts + state_IL + state_AL + duration_in_days_high + state_OR + main_category_dance + state_OK + main_category_food + staff_pick + state_CO + num_competitors_high + state_TN + main_category_film_video + state_VA + main_category_theater + state_UT + state_ID + weekday_launch_Saturday + state_NV + weekday_launch_Tuesday + state_TX + state_WA + state_DC + state_NJ + weekday_launch_Thursday + state_WY + main_category_music - state_PA - state_CO - state_DE - state_HI - main_category_food - main_category_photography - state_TN - weekday_launch_Thursday - state_NH - state_WY - state_CT - state_NM - state_ME\n",
      "\n",
      "Test Accuracy: 0.702714592552338\n",
      "\n",
      "AIC: 174979.46600744734\n",
      "\n",
      "Biggest p-value: state_ME:0.026774992189363314\n",
      "[{'state_PA': 0.9528329798566272}, {'state_CO': 0.929942853551981}, {'state_DE': 0.5598083904086186}, {'state_HI': 0.5612501253643905}, {'main_category_food': 0.3784944038595657}, {'main_category_photography': 0.3751194295353162}, {'state_TN': 0.3157134582094925}, {'weekday_launch_Thursday': 0.23427266377189604}, {'state_NH': 0.19404639434197435}, {'state_WY': 0.09893012002168959}, {'state_CT': 0.07692199051347341}, {'state_NM': 0.07444161914755774}, {'state_ME': 0.026774992189363314}, {'state_DC': 0.021856614817548765}]\n",
      "\n",
      "\n",
      "Running model with formula: \n",
      "result ~ state_PA + num_competitors_medium + weekday_launch_Wednesday + state_AR + duration_in_days_medium + state_IA + state_GA + main_category_games + state_NY + state_MN + state_NH + state_VT + state_AZ + state_RI + state_WI + state_NM + weekday_launch_Friday + state_MA + state_CT + main_category_journalism + state_MO + state_DE + state_MI + state_NE + main_category_technology + main_category_design + state_SD + main_category_publishing + state_WV + main_category_photography + main_category_comics + state_KS + weekday_launch_Sunday + state_MT + state_KY + state_CA + state_FL + state_NC + ln_goal_usd + state_MD + state_LA + state_IN + main_category_fashion + month_launch + state_OH + state_ND + state_HI + state_SC + state_MS + state_ME + main_category_crafts + state_IL + state_AL + duration_in_days_high + state_OR + main_category_dance + state_OK + main_category_food + staff_pick + state_CO + num_competitors_high + state_TN + main_category_film_video + state_VA + main_category_theater + state_UT + state_ID + weekday_launch_Saturday + state_NV + weekday_launch_Tuesday + state_TX + state_WA + state_DC + state_NJ + weekday_launch_Thursday + state_WY + main_category_music - state_PA - state_CO - state_DE - state_HI - main_category_food - main_category_photography - state_TN - weekday_launch_Thursday - state_NH - state_WY - state_CT - state_NM - state_ME - state_DC\n",
      "\n",
      "Test Accuracy: 0.7027663483683979\n",
      "\n",
      "AIC: 174982.73491984443\n",
      "\n",
      "Biggest p-value: state_DC:0.021856614817548765\n",
      "[{'state_PA': 0.9528329798566272}, {'state_CO': 0.929942853551981}, {'state_DE': 0.5598083904086186}, {'state_HI': 0.5612501253643905}, {'main_category_food': 0.3784944038595657}, {'main_category_photography': 0.3751194295353162}, {'state_TN': 0.3157134582094925}, {'weekday_launch_Thursday': 0.23427266377189604}, {'state_NH': 0.19404639434197435}, {'state_WY': 0.09893012002168959}, {'state_CT': 0.07692199051347341}, {'state_NM': 0.07444161914755774}, {'state_ME': 0.026774992189363314}, {'state_DC': 0.021856614817548765}, {'state_UT': 0.01459147141390071}]\n",
      "\n",
      "\n",
      "Running model with formula: \n",
      "result ~ state_PA + num_competitors_medium + weekday_launch_Wednesday + state_AR + duration_in_days_medium + state_IA + state_GA + main_category_games + state_NY + state_MN + state_NH + state_VT + state_AZ + state_RI + state_WI + state_NM + weekday_launch_Friday + state_MA + state_CT + main_category_journalism + state_MO + state_DE + state_MI + state_NE + main_category_technology + main_category_design + state_SD + main_category_publishing + state_WV + main_category_photography + main_category_comics + state_KS + weekday_launch_Sunday + state_MT + state_KY + state_CA + state_FL + state_NC + ln_goal_usd + state_MD + state_LA + state_IN + main_category_fashion + month_launch + state_OH + state_ND + state_HI + state_SC + state_MS + state_ME + main_category_crafts + state_IL + state_AL + duration_in_days_high + state_OR + main_category_dance + state_OK + main_category_food + staff_pick + state_CO + num_competitors_high + state_TN + main_category_film_video + state_VA + main_category_theater + state_UT + state_ID + weekday_launch_Saturday + state_NV + weekday_launch_Tuesday + state_TX + state_WA + state_DC + state_NJ + weekday_launch_Thursday + state_WY + main_category_music - state_PA - state_CO - state_DE - state_HI - main_category_food - main_category_photography - state_TN - weekday_launch_Thursday - state_NH - state_WY - state_CT - state_NM - state_ME - state_DC - state_UT\n",
      "\n",
      "Test Accuracy: 0.7026110809202184\n",
      "\n",
      "AIC: 174986.7150116706\n",
      "\n",
      "Biggest p-value: state_UT:0.01459147141390071\n",
      "[{'state_PA': 0.9528329798566272}, {'state_CO': 0.929942853551981}, {'state_DE': 0.5598083904086186}, {'state_HI': 0.5612501253643905}, {'main_category_food': 0.3784944038595657}, {'main_category_photography': 0.3751194295353162}, {'state_TN': 0.3157134582094925}, {'weekday_launch_Thursday': 0.23427266377189604}, {'state_NH': 0.19404639434197435}, {'state_WY': 0.09893012002168959}, {'state_CT': 0.07692199051347341}, {'state_NM': 0.07444161914755774}, {'state_ME': 0.026774992189363314}, {'state_DC': 0.021856614817548765}, {'state_UT': 0.01459147141390071}, {'weekday_launch_Wednesday': 0.012342363253766116}]\n",
      "\n",
      "\n",
      "Running model with formula: \n",
      "result ~ state_PA + num_competitors_medium + weekday_launch_Wednesday + state_AR + duration_in_days_medium + state_IA + state_GA + main_category_games + state_NY + state_MN + state_NH + state_VT + state_AZ + state_RI + state_WI + state_NM + weekday_launch_Friday + state_MA + state_CT + main_category_journalism + state_MO + state_DE + state_MI + state_NE + main_category_technology + main_category_design + state_SD + main_category_publishing + state_WV + main_category_photography + main_category_comics + state_KS + weekday_launch_Sunday + state_MT + state_KY + state_CA + state_FL + state_NC + ln_goal_usd + state_MD + state_LA + state_IN + main_category_fashion + month_launch + state_OH + state_ND + state_HI + state_SC + state_MS + state_ME + main_category_crafts + state_IL + state_AL + duration_in_days_high + state_OR + main_category_dance + state_OK + main_category_food + staff_pick + state_CO + num_competitors_high + state_TN + main_category_film_video + state_VA + main_category_theater + state_UT + state_ID + weekday_launch_Saturday + state_NV + weekday_launch_Tuesday + state_TX + state_WA + state_DC + state_NJ + weekday_launch_Thursday + state_WY + main_category_music - state_PA - state_CO - state_DE - state_HI - main_category_food - main_category_photography - state_TN - weekday_launch_Thursday - state_NH - state_WY - state_CT - state_NM - state_ME - state_DC - state_UT - weekday_launch_Wednesday\n"
     ]
    },
    {
     "name": "stdout",
     "output_type": "stream",
     "text": [
      "\n",
      "Test Accuracy: 0.7026110809202184\n",
      "\n",
      "AIC: 174990.974220435\n",
      "\n",
      "Biggest p-value: weekday_launch_Wednesday:0.012342363253766116\n"
     ]
    }
   ],
   "source": [
    "lr_stats, removed_cols, results = backward_selection(df_model, target_var, X_test_lr, y_test,\n",
    "                                                     alpha=alpha, max_iter = 100, verbose=True)"
   ]
  },
  {
   "cell_type": "code",
   "execution_count": 70,
   "metadata": {},
   "outputs": [
    {
     "data": {
      "text/plain": [
       "[<matplotlib.lines.Line2D at 0x7f12398f9290>]"
      ]
     },
     "execution_count": 70,
     "metadata": {},
     "output_type": "execute_result"
    },
    {
     "data": {
      "image/png": "[encoded data removed]",
      "text/plain": [
       "<Figure size 432x288 with 1 Axes>"
      ]
     },
     "metadata": {
      "needs_background": "light"
     },
     "output_type": "display_data"
    }
   ],
   "source": [
    "accs = [result['test_accuracy'] for result in results]\n",
    "plt.plot(range(len(accs)), accs)"
   ]
  },
  {
   "cell_type": "code",
   "execution_count": 71,
   "metadata": {},
   "outputs": [
    {
     "data": {
      "text/plain": [
       "[<matplotlib.lines.Line2D at 0x7f12395b1c50>]"
      ]
     },
     "execution_count": 71,
     "metadata": {},
     "output_type": "execute_result"
    },
    {
     "data": {
      "image/png": "[encoded data removed]",
      "text/plain": [
       "<Figure size 432x288 with 1 Axes>"
      ]
     },
     "metadata": {
      "needs_background": "light"
     },
     "output_type": "display_data"
    }
   ],
   "source": [
    "aic = [result['aic'] for result in results]\n",
    "plt.plot(range(len(aic)), aic)"
   ]
  },
  {
   "cell_type": "markdown",
   "metadata": {},
   "source": [
    "#### Model Performance Analysis"
   ]
  },
  {
   "cell_type": "code",
   "execution_count": 72,
   "metadata": {},
   "outputs": [
    {
     "name": "stdout",
     "output_type": "stream",
     "text": [
      "Successful Terms:\n",
      "staff_pick (2.32269)\n",
      "main_category_design (2.08738)\n",
      "main_category_dance (1.26821)\n",
      "main_category_theater (1.26381)\n",
      "main_category_comics (1.09591)\n",
      "main_category_games (0.914243)\n",
      "state_VT (0.742331)\n",
      "main_category_film_video (0.672745)\n",
      "main_category_music (0.611791)\n",
      "state_NY (0.557587)\n",
      "\n",
      "Fail Terms:\n",
      "main_category_technology (-0.429075)\n",
      "state_MS (-0.754024)\n",
      "state_NE (-0.544305)\n",
      "state_CO (0.0603189)\n",
      "state_NM (-0.0784058)\n",
      "state_AR (-0.487886)\n",
      "state_ND (-0.402155)\n",
      "state_DC (0.197418)\n",
      "state_MT (0.347522)\n",
      "month_launch (-0.02576)\n"
     ]
    }
   ],
   "source": [
    "# Lets analyze the terms more related to the different classes.\n",
    "# Coefficients for the positive class\n",
    "coef_pr = lr_stats.params\n",
    "cols_pr =  lr_stats.params.index\n",
    "srted_pr = np.argsort(coef_pr)\n",
    "# Pick top 10 coef. in descendent order\n",
    "topi_pr = srted_pr[::-1][:10]\n",
    "boti_pr = srted_pr[:10]\n",
    "print('Successful Terms:\\n' + '\\n'.join('%s (%g)' % (n, c) for n, c in zip(cols_pr[topi_pr], coef_pr[topi_pr])))\n",
    "print('\\nFail Terms:\\n' + '\\n'.join('%s (%g)' % (n, c) for n, c in zip(cols[boti_pr], coef[boti_pr])))"
   ]
  },
  {
   "cell_type": "code",
   "execution_count": 73,
   "metadata": {},
   "outputs": [
    {
     "data": {
      "text/plain": [
       "Text(0.5, 257.44, 'Predicted label')"
      ]
     },
     "execution_count": 73,
     "metadata": {},
     "output_type": "execute_result"
    },
    {
     "data": {
      "image/png": "[encoded data removed]",
      "text/plain": [
       "<Figure size 432x288 with 2 Axes>"
      ]
     },
     "metadata": {
      "needs_background": "light"
     },
     "output_type": "display_data"
    }
   ],
   "source": [
    "y_test_pred_prob_pr = lr_stats.predict(X_test_lr)\n",
    "y_test_pred_pr = y_test_pred_prob_pr.apply(lambda x: 1 if x > 0.5 else 0)\n",
    "# Lets analyze the confusion matrix\n",
    "cnf_matrix_pr = confusion_matrix(y_test.to_numpy(), y_test_pred_pr)\n",
    "\n",
    "class_names=['fail','successful'] # name  of classes\n",
    "\n",
    "fig, ax = plt.subplots()\n",
    "tick_marks = np.arange(len(class_names))\n",
    "plt.xticks(tick_marks, class_names)\n",
    "plt.yticks(tick_marks, class_names)\n",
    "# create heatmap\n",
    "sns.heatmap(pd.DataFrame(cnf_matrix_pr), annot=True, cmap=\"YlGnBu\" ,fmt='g')\n",
    "ax.xaxis.set_label_position(\"top\")\n",
    "plt.tight_layout()\n",
    "plt.title('Confusion matrix', y=1.1)\n",
    "plt.ylabel('Actual label')\n",
    "plt.xlabel('Predicted label')"
   ]
  },
  {
   "cell_type": "code",
   "execution_count": 74,
   "metadata": {},
   "outputs": [
    {
     "name": "stdout",
     "output_type": "stream",
     "text": [
      "Accuracy Score: 70.26%\n",
      "Precision Score: 72.32%\n",
      "Recall Score: 74.90% \n",
      "\n",
      "              precision    recall  f1-score   support\n",
      "\n",
      "        fail       0.67      0.65      0.66     17266\n",
      "  successful       0.72      0.75      0.74     21377\n",
      "\n",
      "   micro avg       0.70      0.70      0.70     38643\n",
      "   macro avg       0.70      0.70      0.70     38643\n",
      "weighted avg       0.70      0.70      0.70     38643\n",
      "\n"
     ]
    }
   ],
   "source": [
    "print(\"Accuracy Score: {:.2%}\".format(accuracy_score(y_test, y_test_pred_pr)))\n",
    "print(\"Precision Score: {:.2%}\".format(precision_score(y_test, y_test_pred_pr)))\n",
    "print(\"Recall Score: {:.2%} \\n\".format(recall_score(y_test, y_test_pred_pr)))\n",
    "print(classification_report(y_test, y_test_pred_pr, target_names=class_names))"
   ]
  },
  {
   "cell_type": "code",
   "execution_count": 75,
   "metadata": {},
   "outputs": [
    {
     "name": "stdout",
     "output_type": "stream",
     "text": [
      "No Skill: ROC AUC = 0.500\n",
      "Logistic Prunned: ROC AUC = 0.772\n"
     ]
    }
   ],
   "source": [
    "# Lets take a look at the ROC curve.\n",
    "ns_probs = [1 for _ in range(len(y_test))] # No skill predictor\n",
    "# Calculate ROC scores\n",
    "ns_roc_pr = roc_auc_score(y_test, ns_probs)\n",
    "model_roc_pr = roc_auc_score(y_test, y_test_pred_prob_pr)\n",
    "print(\"No Skill: ROC AUC = {:.3f}\".format(ns_roc))\n",
    "print(\"Logistic Prunned: ROC AUC = {:.3f}\".format(model_roc_pr))"
   ]
  },
  {
   "cell_type": "code",
   "execution_count": 76,
   "metadata": {},
   "outputs": [
    {
     "data": {
      "image/png": "[encoded data removed]",
      "text/plain": [
       "<Figure size 576x432 with 1 Axes>"
      ]
     },
     "metadata": {
      "needs_background": "light"
     },
     "output_type": "display_data"
    }
   ],
   "source": [
    "# Calculate roc curves\n",
    "model_fpr_pr, model_tpr_pr, thresholds_pr = roc_curve(y_test, y_test_pred_pr)\n",
    "\n",
    "# Calculate precision-recall curve\n",
    "precision_pr, recall_pr, thresholds_pr = precision_recall_curve(y_test.to_numpy(), y_test_pred_prob_pr)\n",
    "\n",
    "# Plot Roc Curves\n",
    "fig = plt.figure(figsize=(8, 6))\n",
    "plt.plot(model_fpr, model_tpr, color='darkorange',lw=2, label='ROC curve (area = {:.2f})'.format(model_roc))\n",
    "plt.plot(model_fpr_pr, model_tpr_pr, color='red',lw=2, label='Prunned ROC curve (area = {:.2f})'.format(model_roc_pr))\n",
    "plt.plot(ns_fpr, ns_tpr, color='navy', lw=2, linestyle='--')\n",
    "plt.xlim([0.0, 1.0])\n",
    "plt.ylim([0.0, 1.05])\n",
    "plt.xlabel('False Positive Rate')\n",
    "plt.ylabel('True Positive Rate')\n",
    "plt.title('Receiver operating Characteristic curve')\n",
    "plt.legend(loc=\"lower right\")\n",
    "plt.show()"
   ]
  },
  {
   "cell_type": "code",
   "execution_count": 77,
   "metadata": {},
   "outputs": [
    {
     "data": {
      "image/png": "[encoded data removed]",
      "text/plain": [
       "<Figure size 576x432 with 1 Axes>"
      ]
     },
     "metadata": {
      "needs_background": "light"
     },
     "output_type": "display_data"
    }
   ],
   "source": [
    "fig = plt.figure(figsize=(8, 6))\n",
    "plt.plot(precision, recall, label='Prec-Recall')\n",
    "plt.plot(precision_pr, recall_pr, label='Prec-Recall Prunned')\n",
    "#plt.xlim([0.0, 1.0])\n",
    "#plt.ylim([0.0, 1.05])\n",
    "plt.xlabel('Precision')\n",
    "plt.ylabel('Recall')\n",
    "plt.title('Precision-Recall Curve')\n",
    "plt.legend(loc=\"upper right\")\n",
    "plt.show()"
   ]
  },
  {
   "cell_type": "code",
   "execution_count": 78,
   "metadata": {},
   "outputs": [],
   "source": [
    "filename = os.path.join(modelsdir, 'lr_stats')\n",
    "store_model(lr_stats, filename)"
   ]
  },
  {
   "cell_type": "markdown",
   "metadata": {},
   "source": [
    "### 2.3 Random Forest\n",
    "\n",
    "We will perform a classifier using Random Forest. It is important to notice that a Random Forest implements several decision trees and ensembles them. In a classification task, each tree will make a classification, and the random forest final classification will be the the one with the highest mode.\n",
    "\n",
    "First of all we will perform a basic Random Forest with default values to have a threshold accuracy value.\n",
    "\n",
    "Then we will perform a cross-validation seeking for the best options for the random forest in terms of a balance between computing cost vs precision. We will perform this search both using an evaluation from scratch and using the gridsearch provided by the scikit package."
   ]
  },
  {
   "cell_type": "markdown",
   "metadata": {},
   "source": [
    "#### 2.3.1 Naive Log. Regression.\n",
    "\n",
    "Perform a simple Random Forest to obtain an accuracy threshold."
   ]
  },
  {
   "cell_type": "code",
   "execution_count": 13,
   "metadata": {},
   "outputs": [
    {
     "name": "stdout",
     "output_type": "stream",
     "text": [
      "Accuracy on training data=0.9796404241\n",
      "Accuracy on test data=0.6789327951\n"
     ]
    }
   ],
   "source": [
    "rf_scikit = RandomForestClassifier(n_estimators=100, random_state=42)\n",
    "rf_scikit.fit(X_train, y_train)\n",
    "\n",
    "y_test_pred = rf_scikit.predict(X_test)\n",
    "y_train_pred = rf_scikit.predict(X_train)\n",
    "print('Accuracy on training data={:.10f}'.format(accuracy_score(y_train_pred, y_train)))\n",
    "print('Accuracy on test data={:.10f}'.format(accuracy_score(y_test_pred, y_test)))"
   ]
  },
  {
   "cell_type": "markdown",
   "metadata": {},
   "source": [
    "We see that it clearly overfits.\n",
    "\n",
    "We will perform Cross-validation to avoid the overfitting."
   ]
  },
  {
   "cell_type": "markdown",
   "metadata": {},
   "source": [
    "#### 2.3.2 Model Tunning\n",
    "\n",
    "Lets analyse the different combinations of options for finding the best parameter configuration for the model."
   ]
  },
  {
   "cell_type": "code",
   "execution_count": 17,
   "metadata": {},
   "outputs": [],
   "source": [
    "# Creates a LogsticRegression object.\n",
    "def get_clf_rf(random_state=42, **kwds):\n",
    "    \"\"\"Function for creating a Random Forest object.\n",
    "    \n",
    "    Args:\n",
    "        random_state...RandomState instance.\n",
    "        \n",
    "    Returns:\n",
    "        A Random Forest Classifier.\n",
    "    \"\"\"\n",
    "    return RandomForestClassifier(random_state=random_state, **kwds)\n",
    "\n",
    "\n",
    "def do_cross_validation_rf(X, y, X_val, y_val, n_folds=5, verbose=False, random_state=42, **kwds):\n",
    "    \"\"\"Perform a cross-validation accuracy.\n",
    "    \n",
    "    Args:\n",
    "        X.....................Training set matrix without the y value.\n",
    "        y.....................Class value for the training set.\n",
    "        X_val.................Validation set matrix without the y value.\n",
    "        y_val.................Class value for the validation set.\n",
    "        n_folds...............Number of folds to be performed by the cross-validation.\n",
    "        verbose...............Whether to print mid-results.\n",
    "        random_state..........RandomState instance.\n",
    "        **kwds................Other keyword arguments for the model.\n",
    "    \n",
    "    Returns:\n",
    "        Tuple containing accuracies and SD for the train sets, test sets and validation sets.\n",
    "    \"\"\"\n",
    "    cv = StratifiedKFold(n_splits=n_folds, shuffle=True, random_state=random_state)\n",
    "    val_accuracies = []\n",
    "    train_accuracies = []\n",
    "    test_accuracies = []\n",
    "    \n",
    "    for foldi, (train_ind, test_ind) in enumerate(cv.split(X, y)):\n",
    "        # Create Classification Model\n",
    "        model = get_clf_rf(random_state=random_state, **kwds)\n",
    "        # Fit model\n",
    "        model.fit(X[train_ind, :], y[train_ind])\n",
    "        # Perform accuracy on train set\n",
    "        train_accuracies.append(accuracy_score(model.predict(X[train_ind]), y[train_ind]))\n",
    "        # Predict on test set and perform accuracy\n",
    "        acc = accuracy_score(y[test_ind], model.predict(X[test_ind, :]))\n",
    "        test_accuracies.append(acc)\n",
    "        # Predict on validation set and perform accuracy.\n",
    "        val_accuracies.append(accuracy_score(y_val, model.predict(X_val)))\n",
    "        if verbose:\n",
    "            print('fold %d test accuracy=%.4g' % (foldi, acc))\n",
    "\n",
    "    return (np.mean(test_accuracies), np.std(test_accuracies) / math.sqrt(n_folds),\n",
    "            np.mean(train_accuracies), np.std(train_accuracies) / math.sqrt(n_folds),\n",
    "            np.mean(val_accuracies), np.std(val_accuracies) / math.sqrt(n_folds)\n",
    "           )\n",
    "\n",
    "\n",
    "def print_results(results):\n",
    "    print('test accuracy=%.4f (%.2f) train accuracy=%.4f (%.2f) validation accuracy=%.4f (%.2f)' % results)\n",
    "\n",
    "    \n",
    "def generate_all_opts_rf():\n",
    "    \"\"\"\n",
    "    Enumerate all possible classifier settings and compute.\n",
    "    \"\"\"\n",
    "    # Number of trees in random forest\n",
    "    n_estimators = [int(x) for x in np.linspace(start = 10, stop = 1000, num = 25)]\n",
    "    # Number of features to consider at every split\n",
    "    max_features = ['auto', 'sqrt']\n",
    "    # Maximum number of levels in tree\n",
    "    max_depth = [int(x) for x in np.linspace(10, 110, num = 11)]\n",
    "    max_depth.append(None)\n",
    "    # Minimum number of samples required to split a node\n",
    "    min_samples_split = [2, 5, 10]\n",
    "    # Minimum number of samples required at each leaf node\n",
    "    min_samples_leaf = [1, 2, 4]\n",
    "    # Method of selecting samples for training each tree\n",
    "    bootstrap = [True, False]\n",
    "    # Create the random grid\n",
    "    random_grid = {'n_estimators': n_estimators,\n",
    "                   'max_features': max_features,\n",
    "                   'max_depth': max_depth,\n",
    "                   'min_samples_split': min_samples_split,\n",
    "                   'min_samples_leaf': min_samples_leaf,\n",
    "                   'bootstrap': bootstrap}\n",
    "    #option_iter = product(penalty, fit_intercept)\n",
    "    #return argnames, option_iter\n",
    "    return random_grid\n",
    "\n",
    "def eval_all_combinations(X_train, y_train, X_test, y_test, n_folds=3, verbose=False, **kwds):\n",
    "    \"\"\"Evaluate all combinations of options.\n",
    "    \"\"\"\n",
    "    results = []\n",
    "    random_grid = generate_all_opts_rf()\n",
    "    # Create base model to tune\n",
    "    rf = get_clf_rf()\n",
    "    rf_random = RandomizedSearchCV(estimator=rf, param_distributions=random_grid, n_iter=100, cv=n_folds,\n",
    "                                   verbose=2, random_state=42, n_jobs=None)\n",
    "    rf_random.fit(X_train, y_train)\n",
    "    \n",
    "    return rf_random"
   ]
  },
  {
   "cell_type": "code",
   "execution_count": 18,
   "metadata": {},
   "outputs": [
    {
     "name": "stdout",
     "output_type": "stream",
     "text": [
      "Fitting 3 folds for each of 100 candidates, totalling 300 fits\n",
      "[CV] n_estimators=835, min_samples_split=10, min_samples_leaf=1, max_features=auto, max_depth=50, bootstrap=False \n"
     ]
    },
    {
     "name": "stderr",
     "output_type": "stream",
     "text": [
      "[Parallel(n_jobs=1)]: Using backend SequentialBackend with 1 concurrent workers.\n"
     ]
    },
    {
     "name": "stdout",
     "output_type": "stream",
     "text": [
      "[CV]  n_estimators=835, min_samples_split=10, min_samples_leaf=1, max_features=auto, max_depth=50, bootstrap=False, total=10.5min\n",
      "[CV] n_estimators=835, min_samples_split=10, min_samples_leaf=1, max_features=auto, max_depth=50, bootstrap=False \n"
     ]
    },
    {
     "name": "stderr",
     "output_type": "stream",
     "text": [
      "[Parallel(n_jobs=1)]: Done   1 out of   1 | elapsed: 12.2min remaining:    0.0s\n"
     ]
    },
    {
     "name": "stdout",
     "output_type": "stream",
     "text": [
      "[CV]  n_estimators=835, min_samples_split=10, min_samples_leaf=1, max_features=auto, max_depth=50, bootstrap=False, total=13.6min\n",
      "[CV] n_estimators=835, min_samples_split=10, min_samples_leaf=1, max_features=auto, max_depth=50, bootstrap=False \n"
     ]
    },
    {
     "ename": "KeyboardInterrupt",
     "evalue": "",
     "output_type": "error",
     "traceback": [
      "\u001b[0;31m---------------------------------------------------------------------------\u001b[0m",
      "\u001b[0;31mKeyboardInterrupt\u001b[0m                         Traceback (most recent call last)",
      "\u001b[0;32m<ipython-input-18-7010c3a56395>\u001b[0m in \u001b[0;36m<module>\u001b[0;34m\u001b[0m\n\u001b[0;32m----> 1\u001b[0;31m \u001b[0mresults\u001b[0m \u001b[0;34m=\u001b[0m \u001b[0meval_all_combinations\u001b[0m\u001b[0;34m(\u001b[0m\u001b[0mX_train\u001b[0m\u001b[0;34m,\u001b[0m \u001b[0my_train\u001b[0m\u001b[0;34m,\u001b[0m \u001b[0mX_test\u001b[0m\u001b[0;34m,\u001b[0m \u001b[0my_test\u001b[0m\u001b[0;34m,\u001b[0m \u001b[0mverbose\u001b[0m\u001b[0;34m=\u001b[0m\u001b[0;32mFalse\u001b[0m\u001b[0;34m)\u001b[0m\u001b[0;34m\u001b[0m\u001b[0;34m\u001b[0m\u001b[0m\n\u001b[0m\u001b[1;32m      2\u001b[0m \u001b[0;31m#best_opts = results[0][1]\u001b[0m\u001b[0;34m\u001b[0m\u001b[0;34m\u001b[0m\u001b[0;34m\u001b[0m\u001b[0m\n\u001b[1;32m      3\u001b[0m \u001b[0;31m#print(\"Best options are {} with accuracy={:.2%}\".format(results[0][1], results[0\u001b[0m\u001b[0;34m\u001b[0m\u001b[0;34m\u001b[0m\u001b[0;34m\u001b[0m\u001b[0m\n",
      "\u001b[0;32m<ipython-input-17-e47c6328629a>\u001b[0m in \u001b[0;36meval_all_combinations\u001b[0;34m(X_train, y_train, X_test, y_test, n_folds, verbose, **kwds)\u001b[0m\n\u001b[1;32m     95\u001b[0m     rf_random = RandomizedSearchCV(estimator=rf, param_distributions=random_grid, n_iter=100, cv=n_folds,\n\u001b[1;32m     96\u001b[0m                                    verbose=2, random_state=42, n_jobs=None)\n\u001b[0;32m---> 97\u001b[0;31m     \u001b[0mrf_random\u001b[0m\u001b[0;34m.\u001b[0m\u001b[0mfit\u001b[0m\u001b[0;34m(\u001b[0m\u001b[0mX_train\u001b[0m\u001b[0;34m,\u001b[0m \u001b[0my_train\u001b[0m\u001b[0;34m)\u001b[0m\u001b[0;34m\u001b[0m\u001b[0;34m\u001b[0m\u001b[0m\n\u001b[0m\u001b[1;32m     98\u001b[0m \u001b[0;34m\u001b[0m\u001b[0m\n\u001b[1;32m     99\u001b[0m     \u001b[0;32mreturn\u001b[0m \u001b[0mrf_random\u001b[0m\u001b[0;34m\u001b[0m\u001b[0;34m\u001b[0m\u001b[0m\n",
      "\u001b[0;32m~/anaconda3/lib/python3.7/site-packages/sklearn/model_selection/_search.py\u001b[0m in \u001b[0;36mfit\u001b[0;34m(self, X, y, groups, **fit_params)\u001b[0m\n\u001b[1;32m    720\u001b[0m                 \u001b[0;32mreturn\u001b[0m \u001b[0mresults_container\u001b[0m\u001b[0;34m[\u001b[0m\u001b[0;36m0\u001b[0m\u001b[0;34m]\u001b[0m\u001b[0;34m\u001b[0m\u001b[0;34m\u001b[0m\u001b[0m\n\u001b[1;32m    721\u001b[0m \u001b[0;34m\u001b[0m\u001b[0m\n\u001b[0;32m--> 722\u001b[0;31m             \u001b[0mself\u001b[0m\u001b[0;34m.\u001b[0m\u001b[0m_run_search\u001b[0m\u001b[0;34m(\u001b[0m\u001b[0mevaluate_candidates\u001b[0m\u001b[0;34m)\u001b[0m\u001b[0;34m\u001b[0m\u001b[0;34m\u001b[0m\u001b[0m\n\u001b[0m\u001b[1;32m    723\u001b[0m \u001b[0;34m\u001b[0m\u001b[0m\n\u001b[1;32m    724\u001b[0m         \u001b[0mresults\u001b[0m \u001b[0;34m=\u001b[0m \u001b[0mresults_container\u001b[0m\u001b[0;34m[\u001b[0m\u001b[0;36m0\u001b[0m\u001b[0;34m]\u001b[0m\u001b[0;34m\u001b[0m\u001b[0;34m\u001b[0m\u001b[0m\n",
      "\u001b[0;32m~/anaconda3/lib/python3.7/site-packages/sklearn/model_selection/_search.py\u001b[0m in \u001b[0;36m_run_search\u001b[0;34m(self, evaluate_candidates)\u001b[0m\n\u001b[1;32m   1513\u001b[0m         evaluate_candidates(ParameterSampler(\n\u001b[1;32m   1514\u001b[0m             \u001b[0mself\u001b[0m\u001b[0;34m.\u001b[0m\u001b[0mparam_distributions\u001b[0m\u001b[0;34m,\u001b[0m \u001b[0mself\u001b[0m\u001b[0;34m.\u001b[0m\u001b[0mn_iter\u001b[0m\u001b[0;34m,\u001b[0m\u001b[0;34m\u001b[0m\u001b[0;34m\u001b[0m\u001b[0m\n\u001b[0;32m-> 1515\u001b[0;31m             random_state=self.random_state))\n\u001b[0m",
      "\u001b[0;32m~/anaconda3/lib/python3.7/site-packages/sklearn/model_selection/_search.py\u001b[0m in \u001b[0;36mevaluate_candidates\u001b[0;34m(candidate_params)\u001b[0m\n\u001b[1;32m    709\u001b[0m                                \u001b[0;32mfor\u001b[0m \u001b[0mparameters\u001b[0m\u001b[0;34m,\u001b[0m \u001b[0;34m(\u001b[0m\u001b[0mtrain\u001b[0m\u001b[0;34m,\u001b[0m \u001b[0mtest\u001b[0m\u001b[0;34m)\u001b[0m\u001b[0;34m\u001b[0m\u001b[0;34m\u001b[0m\u001b[0m\n\u001b[1;32m    710\u001b[0m                                in product(candidate_params,\n\u001b[0;32m--> 711\u001b[0;31m                                           cv.split(X, y, groups)))\n\u001b[0m\u001b[1;32m    712\u001b[0m \u001b[0;34m\u001b[0m\u001b[0m\n\u001b[1;32m    713\u001b[0m                 \u001b[0mall_candidate_params\u001b[0m\u001b[0;34m.\u001b[0m\u001b[0mextend\u001b[0m\u001b[0;34m(\u001b[0m\u001b[0mcandidate_params\u001b[0m\u001b[0;34m)\u001b[0m\u001b[0;34m\u001b[0m\u001b[0;34m\u001b[0m\u001b[0m\n",
      "\u001b[0;32m~/anaconda3/lib/python3.7/site-packages/sklearn/externals/joblib/parallel.py\u001b[0m in \u001b[0;36m__call__\u001b[0;34m(self, iterable)\u001b[0m\n\u001b[1;32m    918\u001b[0m                 \u001b[0mself\u001b[0m\u001b[0;34m.\u001b[0m\u001b[0m_iterating\u001b[0m \u001b[0;34m=\u001b[0m \u001b[0mself\u001b[0m\u001b[0;34m.\u001b[0m\u001b[0m_original_iterator\u001b[0m \u001b[0;32mis\u001b[0m \u001b[0;32mnot\u001b[0m \u001b[0;32mNone\u001b[0m\u001b[0;34m\u001b[0m\u001b[0;34m\u001b[0m\u001b[0m\n\u001b[1;32m    919\u001b[0m \u001b[0;34m\u001b[0m\u001b[0m\n\u001b[0;32m--> 920\u001b[0;31m             \u001b[0;32mwhile\u001b[0m \u001b[0mself\u001b[0m\u001b[0;34m.\u001b[0m\u001b[0mdispatch_one_batch\u001b[0m\u001b[0;34m(\u001b[0m\u001b[0miterator\u001b[0m\u001b[0;34m)\u001b[0m\u001b[0;34m:\u001b[0m\u001b[0;34m\u001b[0m\u001b[0;34m\u001b[0m\u001b[0m\n\u001b[0m\u001b[1;32m    921\u001b[0m                 \u001b[0;32mpass\u001b[0m\u001b[0;34m\u001b[0m\u001b[0;34m\u001b[0m\u001b[0m\n\u001b[1;32m    922\u001b[0m \u001b[0;34m\u001b[0m\u001b[0m\n",
      "\u001b[0;32m~/anaconda3/lib/python3.7/site-packages/sklearn/externals/joblib/parallel.py\u001b[0m in \u001b[0;36mdispatch_one_batch\u001b[0;34m(self, iterator)\u001b[0m\n\u001b[1;32m    757\u001b[0m                 \u001b[0;32mreturn\u001b[0m \u001b[0;32mFalse\u001b[0m\u001b[0;34m\u001b[0m\u001b[0;34m\u001b[0m\u001b[0m\n\u001b[1;32m    758\u001b[0m             \u001b[0;32melse\u001b[0m\u001b[0;34m:\u001b[0m\u001b[0;34m\u001b[0m\u001b[0;34m\u001b[0m\u001b[0m\n\u001b[0;32m--> 759\u001b[0;31m                 \u001b[0mself\u001b[0m\u001b[0;34m.\u001b[0m\u001b[0m_dispatch\u001b[0m\u001b[0;34m(\u001b[0m\u001b[0mtasks\u001b[0m\u001b[0;34m)\u001b[0m\u001b[0;34m\u001b[0m\u001b[0;34m\u001b[0m\u001b[0m\n\u001b[0m\u001b[1;32m    760\u001b[0m                 \u001b[0;32mreturn\u001b[0m \u001b[0;32mTrue\u001b[0m\u001b[0;34m\u001b[0m\u001b[0;34m\u001b[0m\u001b[0m\n\u001b[1;32m    761\u001b[0m \u001b[0;34m\u001b[0m\u001b[0m\n",
      "\u001b[0;32m~/anaconda3/lib/python3.7/site-packages/sklearn/externals/joblib/parallel.py\u001b[0m in \u001b[0;36m_dispatch\u001b[0;34m(self, batch)\u001b[0m\n\u001b[1;32m    714\u001b[0m         \u001b[0;32mwith\u001b[0m \u001b[0mself\u001b[0m\u001b[0;34m.\u001b[0m\u001b[0m_lock\u001b[0m\u001b[0;34m:\u001b[0m\u001b[0;34m\u001b[0m\u001b[0;34m\u001b[0m\u001b[0m\n\u001b[1;32m    715\u001b[0m             \u001b[0mjob_idx\u001b[0m \u001b[0;34m=\u001b[0m \u001b[0mlen\u001b[0m\u001b[0;34m(\u001b[0m\u001b[0mself\u001b[0m\u001b[0;34m.\u001b[0m\u001b[0m_jobs\u001b[0m\u001b[0;34m)\u001b[0m\u001b[0;34m\u001b[0m\u001b[0;34m\u001b[0m\u001b[0m\n\u001b[0;32m--> 716\u001b[0;31m             \u001b[0mjob\u001b[0m \u001b[0;34m=\u001b[0m \u001b[0mself\u001b[0m\u001b[0;34m.\u001b[0m\u001b[0m_backend\u001b[0m\u001b[0;34m.\u001b[0m\u001b[0mapply_async\u001b[0m\u001b[0;34m(\u001b[0m\u001b[0mbatch\u001b[0m\u001b[0;34m,\u001b[0m \u001b[0mcallback\u001b[0m\u001b[0;34m=\u001b[0m\u001b[0mcb\u001b[0m\u001b[0;34m)\u001b[0m\u001b[0;34m\u001b[0m\u001b[0;34m\u001b[0m\u001b[0m\n\u001b[0m\u001b[1;32m    717\u001b[0m             \u001b[0;31m# A job can complete so quickly than its callback is\u001b[0m\u001b[0;34m\u001b[0m\u001b[0;34m\u001b[0m\u001b[0;34m\u001b[0m\u001b[0m\n\u001b[1;32m    718\u001b[0m             \u001b[0;31m# called before we get here, causing self._jobs to\u001b[0m\u001b[0;34m\u001b[0m\u001b[0;34m\u001b[0m\u001b[0;34m\u001b[0m\u001b[0m\n",
      "\u001b[0;32m~/anaconda3/lib/python3.7/site-packages/sklearn/externals/joblib/_parallel_backends.py\u001b[0m in \u001b[0;36mapply_async\u001b[0;34m(self, func, callback)\u001b[0m\n\u001b[1;32m    180\u001b[0m     \u001b[0;32mdef\u001b[0m \u001b[0mapply_async\u001b[0m\u001b[0;34m(\u001b[0m\u001b[0mself\u001b[0m\u001b[0;34m,\u001b[0m \u001b[0mfunc\u001b[0m\u001b[0;34m,\u001b[0m \u001b[0mcallback\u001b[0m\u001b[0;34m=\u001b[0m\u001b[0;32mNone\u001b[0m\u001b[0;34m)\u001b[0m\u001b[0;34m:\u001b[0m\u001b[0;34m\u001b[0m\u001b[0;34m\u001b[0m\u001b[0m\n\u001b[1;32m    181\u001b[0m         \u001b[0;34m\"\"\"Schedule a func to be run\"\"\"\u001b[0m\u001b[0;34m\u001b[0m\u001b[0;34m\u001b[0m\u001b[0m\n\u001b[0;32m--> 182\u001b[0;31m         \u001b[0mresult\u001b[0m \u001b[0;34m=\u001b[0m \u001b[0mImmediateResult\u001b[0m\u001b[0;34m(\u001b[0m\u001b[0mfunc\u001b[0m\u001b[0;34m)\u001b[0m\u001b[0;34m\u001b[0m\u001b[0;34m\u001b[0m\u001b[0m\n\u001b[0m\u001b[1;32m    183\u001b[0m         \u001b[0;32mif\u001b[0m \u001b[0mcallback\u001b[0m\u001b[0;34m:\u001b[0m\u001b[0;34m\u001b[0m\u001b[0;34m\u001b[0m\u001b[0m\n\u001b[1;32m    184\u001b[0m             \u001b[0mcallback\u001b[0m\u001b[0;34m(\u001b[0m\u001b[0mresult\u001b[0m\u001b[0;34m)\u001b[0m\u001b[0;34m\u001b[0m\u001b[0;34m\u001b[0m\u001b[0m\n",
      "\u001b[0;32m~/anaconda3/lib/python3.7/site-packages/sklearn/externals/joblib/_parallel_backends.py\u001b[0m in \u001b[0;36m__init__\u001b[0;34m(self, batch)\u001b[0m\n\u001b[1;32m    547\u001b[0m         \u001b[0;31m# Don't delay the application, to avoid keeping the input\u001b[0m\u001b[0;34m\u001b[0m\u001b[0;34m\u001b[0m\u001b[0;34m\u001b[0m\u001b[0m\n\u001b[1;32m    548\u001b[0m         \u001b[0;31m# arguments in memory\u001b[0m\u001b[0;34m\u001b[0m\u001b[0;34m\u001b[0m\u001b[0;34m\u001b[0m\u001b[0m\n\u001b[0;32m--> 549\u001b[0;31m         \u001b[0mself\u001b[0m\u001b[0;34m.\u001b[0m\u001b[0mresults\u001b[0m \u001b[0;34m=\u001b[0m \u001b[0mbatch\u001b[0m\u001b[0;34m(\u001b[0m\u001b[0;34m)\u001b[0m\u001b[0;34m\u001b[0m\u001b[0;34m\u001b[0m\u001b[0m\n\u001b[0m\u001b[1;32m    550\u001b[0m \u001b[0;34m\u001b[0m\u001b[0m\n\u001b[1;32m    551\u001b[0m     \u001b[0;32mdef\u001b[0m \u001b[0mget\u001b[0m\u001b[0;34m(\u001b[0m\u001b[0mself\u001b[0m\u001b[0;34m)\u001b[0m\u001b[0;34m:\u001b[0m\u001b[0;34m\u001b[0m\u001b[0;34m\u001b[0m\u001b[0m\n",
      "\u001b[0;32m~/anaconda3/lib/python3.7/site-packages/sklearn/externals/joblib/parallel.py\u001b[0m in \u001b[0;36m__call__\u001b[0;34m(self)\u001b[0m\n\u001b[1;32m    223\u001b[0m         \u001b[0;32mwith\u001b[0m \u001b[0mparallel_backend\u001b[0m\u001b[0;34m(\u001b[0m\u001b[0mself\u001b[0m\u001b[0;34m.\u001b[0m\u001b[0m_backend\u001b[0m\u001b[0;34m,\u001b[0m \u001b[0mn_jobs\u001b[0m\u001b[0;34m=\u001b[0m\u001b[0mself\u001b[0m\u001b[0;34m.\u001b[0m\u001b[0m_n_jobs\u001b[0m\u001b[0;34m)\u001b[0m\u001b[0;34m:\u001b[0m\u001b[0;34m\u001b[0m\u001b[0;34m\u001b[0m\u001b[0m\n\u001b[1;32m    224\u001b[0m             return [func(*args, **kwargs)\n\u001b[0;32m--> 225\u001b[0;31m                     for func, args, kwargs in self.items]\n\u001b[0m\u001b[1;32m    226\u001b[0m \u001b[0;34m\u001b[0m\u001b[0m\n\u001b[1;32m    227\u001b[0m     \u001b[0;32mdef\u001b[0m \u001b[0m__len__\u001b[0m\u001b[0;34m(\u001b[0m\u001b[0mself\u001b[0m\u001b[0;34m)\u001b[0m\u001b[0;34m:\u001b[0m\u001b[0;34m\u001b[0m\u001b[0;34m\u001b[0m\u001b[0m\n",
      "\u001b[0;32m~/anaconda3/lib/python3.7/site-packages/sklearn/externals/joblib/parallel.py\u001b[0m in \u001b[0;36m<listcomp>\u001b[0;34m(.0)\u001b[0m\n\u001b[1;32m    223\u001b[0m         \u001b[0;32mwith\u001b[0m \u001b[0mparallel_backend\u001b[0m\u001b[0;34m(\u001b[0m\u001b[0mself\u001b[0m\u001b[0;34m.\u001b[0m\u001b[0m_backend\u001b[0m\u001b[0;34m,\u001b[0m \u001b[0mn_jobs\u001b[0m\u001b[0;34m=\u001b[0m\u001b[0mself\u001b[0m\u001b[0;34m.\u001b[0m\u001b[0m_n_jobs\u001b[0m\u001b[0;34m)\u001b[0m\u001b[0;34m:\u001b[0m\u001b[0;34m\u001b[0m\u001b[0;34m\u001b[0m\u001b[0m\n\u001b[1;32m    224\u001b[0m             return [func(*args, **kwargs)\n\u001b[0;32m--> 225\u001b[0;31m                     for func, args, kwargs in self.items]\n\u001b[0m\u001b[1;32m    226\u001b[0m \u001b[0;34m\u001b[0m\u001b[0m\n\u001b[1;32m    227\u001b[0m     \u001b[0;32mdef\u001b[0m \u001b[0m__len__\u001b[0m\u001b[0;34m(\u001b[0m\u001b[0mself\u001b[0m\u001b[0;34m)\u001b[0m\u001b[0;34m:\u001b[0m\u001b[0;34m\u001b[0m\u001b[0;34m\u001b[0m\u001b[0m\n",
      "\u001b[0;32m~/anaconda3/lib/python3.7/site-packages/sklearn/model_selection/_validation.py\u001b[0m in \u001b[0;36m_fit_and_score\u001b[0;34m(estimator, X, y, scorer, train, test, verbose, parameters, fit_params, return_train_score, return_parameters, return_n_test_samples, return_times, return_estimator, error_score)\u001b[0m\n\u001b[1;32m    526\u001b[0m             \u001b[0mestimator\u001b[0m\u001b[0;34m.\u001b[0m\u001b[0mfit\u001b[0m\u001b[0;34m(\u001b[0m\u001b[0mX_train\u001b[0m\u001b[0;34m,\u001b[0m \u001b[0;34m**\u001b[0m\u001b[0mfit_params\u001b[0m\u001b[0;34m)\u001b[0m\u001b[0;34m\u001b[0m\u001b[0;34m\u001b[0m\u001b[0m\n\u001b[1;32m    527\u001b[0m         \u001b[0;32melse\u001b[0m\u001b[0;34m:\u001b[0m\u001b[0;34m\u001b[0m\u001b[0;34m\u001b[0m\u001b[0m\n\u001b[0;32m--> 528\u001b[0;31m             \u001b[0mestimator\u001b[0m\u001b[0;34m.\u001b[0m\u001b[0mfit\u001b[0m\u001b[0;34m(\u001b[0m\u001b[0mX_train\u001b[0m\u001b[0;34m,\u001b[0m \u001b[0my_train\u001b[0m\u001b[0;34m,\u001b[0m \u001b[0;34m**\u001b[0m\u001b[0mfit_params\u001b[0m\u001b[0;34m)\u001b[0m\u001b[0;34m\u001b[0m\u001b[0;34m\u001b[0m\u001b[0m\n\u001b[0m\u001b[1;32m    529\u001b[0m \u001b[0;34m\u001b[0m\u001b[0m\n\u001b[1;32m    530\u001b[0m     \u001b[0;32mexcept\u001b[0m \u001b[0mException\u001b[0m \u001b[0;32mas\u001b[0m \u001b[0me\u001b[0m\u001b[0;34m:\u001b[0m\u001b[0;34m\u001b[0m\u001b[0;34m\u001b[0m\u001b[0m\n",
      "\u001b[0;32m~/anaconda3/lib/python3.7/site-packages/sklearn/ensemble/forest.py\u001b[0m in \u001b[0;36mfit\u001b[0;34m(self, X, y, sample_weight)\u001b[0m\n\u001b[1;32m    331\u001b[0m                     \u001b[0mt\u001b[0m\u001b[0;34m,\u001b[0m \u001b[0mself\u001b[0m\u001b[0;34m,\u001b[0m \u001b[0mX\u001b[0m\u001b[0;34m,\u001b[0m \u001b[0my\u001b[0m\u001b[0;34m,\u001b[0m \u001b[0msample_weight\u001b[0m\u001b[0;34m,\u001b[0m \u001b[0mi\u001b[0m\u001b[0;34m,\u001b[0m \u001b[0mlen\u001b[0m\u001b[0;34m(\u001b[0m\u001b[0mtrees\u001b[0m\u001b[0;34m)\u001b[0m\u001b[0;34m,\u001b[0m\u001b[0;34m\u001b[0m\u001b[0;34m\u001b[0m\u001b[0m\n\u001b[1;32m    332\u001b[0m                     verbose=self.verbose, class_weight=self.class_weight)\n\u001b[0;32m--> 333\u001b[0;31m                 for i, t in enumerate(trees))\n\u001b[0m\u001b[1;32m    334\u001b[0m \u001b[0;34m\u001b[0m\u001b[0m\n\u001b[1;32m    335\u001b[0m             \u001b[0;31m# Collect newly grown trees\u001b[0m\u001b[0;34m\u001b[0m\u001b[0;34m\u001b[0m\u001b[0;34m\u001b[0m\u001b[0m\n",
      "\u001b[0;32m~/anaconda3/lib/python3.7/site-packages/sklearn/externals/joblib/parallel.py\u001b[0m in \u001b[0;36m__call__\u001b[0;34m(self, iterable)\u001b[0m\n\u001b[1;32m    918\u001b[0m                 \u001b[0mself\u001b[0m\u001b[0;34m.\u001b[0m\u001b[0m_iterating\u001b[0m \u001b[0;34m=\u001b[0m \u001b[0mself\u001b[0m\u001b[0;34m.\u001b[0m\u001b[0m_original_iterator\u001b[0m \u001b[0;32mis\u001b[0m \u001b[0;32mnot\u001b[0m \u001b[0;32mNone\u001b[0m\u001b[0;34m\u001b[0m\u001b[0;34m\u001b[0m\u001b[0m\n\u001b[1;32m    919\u001b[0m \u001b[0;34m\u001b[0m\u001b[0m\n\u001b[0;32m--> 920\u001b[0;31m             \u001b[0;32mwhile\u001b[0m \u001b[0mself\u001b[0m\u001b[0;34m.\u001b[0m\u001b[0mdispatch_one_batch\u001b[0m\u001b[0;34m(\u001b[0m\u001b[0miterator\u001b[0m\u001b[0;34m)\u001b[0m\u001b[0;34m:\u001b[0m\u001b[0;34m\u001b[0m\u001b[0;34m\u001b[0m\u001b[0m\n\u001b[0m\u001b[1;32m    921\u001b[0m                 \u001b[0;32mpass\u001b[0m\u001b[0;34m\u001b[0m\u001b[0;34m\u001b[0m\u001b[0m\n\u001b[1;32m    922\u001b[0m \u001b[0;34m\u001b[0m\u001b[0m\n",
      "\u001b[0;32m~/anaconda3/lib/python3.7/site-packages/sklearn/externals/joblib/parallel.py\u001b[0m in \u001b[0;36mdispatch_one_batch\u001b[0;34m(self, iterator)\u001b[0m\n\u001b[1;32m    757\u001b[0m                 \u001b[0;32mreturn\u001b[0m \u001b[0;32mFalse\u001b[0m\u001b[0;34m\u001b[0m\u001b[0;34m\u001b[0m\u001b[0m\n\u001b[1;32m    758\u001b[0m             \u001b[0;32melse\u001b[0m\u001b[0;34m:\u001b[0m\u001b[0;34m\u001b[0m\u001b[0;34m\u001b[0m\u001b[0m\n\u001b[0;32m--> 759\u001b[0;31m                 \u001b[0mself\u001b[0m\u001b[0;34m.\u001b[0m\u001b[0m_dispatch\u001b[0m\u001b[0;34m(\u001b[0m\u001b[0mtasks\u001b[0m\u001b[0;34m)\u001b[0m\u001b[0;34m\u001b[0m\u001b[0;34m\u001b[0m\u001b[0m\n\u001b[0m\u001b[1;32m    760\u001b[0m                 \u001b[0;32mreturn\u001b[0m \u001b[0;32mTrue\u001b[0m\u001b[0;34m\u001b[0m\u001b[0;34m\u001b[0m\u001b[0m\n\u001b[1;32m    761\u001b[0m \u001b[0;34m\u001b[0m\u001b[0m\n",
      "\u001b[0;32m~/anaconda3/lib/python3.7/site-packages/sklearn/externals/joblib/parallel.py\u001b[0m in \u001b[0;36m_dispatch\u001b[0;34m(self, batch)\u001b[0m\n\u001b[1;32m    714\u001b[0m         \u001b[0;32mwith\u001b[0m \u001b[0mself\u001b[0m\u001b[0;34m.\u001b[0m\u001b[0m_lock\u001b[0m\u001b[0;34m:\u001b[0m\u001b[0;34m\u001b[0m\u001b[0;34m\u001b[0m\u001b[0m\n\u001b[1;32m    715\u001b[0m             \u001b[0mjob_idx\u001b[0m \u001b[0;34m=\u001b[0m \u001b[0mlen\u001b[0m\u001b[0;34m(\u001b[0m\u001b[0mself\u001b[0m\u001b[0;34m.\u001b[0m\u001b[0m_jobs\u001b[0m\u001b[0;34m)\u001b[0m\u001b[0;34m\u001b[0m\u001b[0;34m\u001b[0m\u001b[0m\n\u001b[0;32m--> 716\u001b[0;31m             \u001b[0mjob\u001b[0m \u001b[0;34m=\u001b[0m \u001b[0mself\u001b[0m\u001b[0;34m.\u001b[0m\u001b[0m_backend\u001b[0m\u001b[0;34m.\u001b[0m\u001b[0mapply_async\u001b[0m\u001b[0;34m(\u001b[0m\u001b[0mbatch\u001b[0m\u001b[0;34m,\u001b[0m \u001b[0mcallback\u001b[0m\u001b[0;34m=\u001b[0m\u001b[0mcb\u001b[0m\u001b[0;34m)\u001b[0m\u001b[0;34m\u001b[0m\u001b[0;34m\u001b[0m\u001b[0m\n\u001b[0m\u001b[1;32m    717\u001b[0m             \u001b[0;31m# A job can complete so quickly than its callback is\u001b[0m\u001b[0;34m\u001b[0m\u001b[0;34m\u001b[0m\u001b[0;34m\u001b[0m\u001b[0m\n\u001b[1;32m    718\u001b[0m             \u001b[0;31m# called before we get here, causing self._jobs to\u001b[0m\u001b[0;34m\u001b[0m\u001b[0;34m\u001b[0m\u001b[0;34m\u001b[0m\u001b[0m\n",
      "\u001b[0;32m~/anaconda3/lib/python3.7/site-packages/sklearn/externals/joblib/_parallel_backends.py\u001b[0m in \u001b[0;36mapply_async\u001b[0;34m(self, func, callback)\u001b[0m\n\u001b[1;32m    180\u001b[0m     \u001b[0;32mdef\u001b[0m \u001b[0mapply_async\u001b[0m\u001b[0;34m(\u001b[0m\u001b[0mself\u001b[0m\u001b[0;34m,\u001b[0m \u001b[0mfunc\u001b[0m\u001b[0;34m,\u001b[0m \u001b[0mcallback\u001b[0m\u001b[0;34m=\u001b[0m\u001b[0;32mNone\u001b[0m\u001b[0;34m)\u001b[0m\u001b[0;34m:\u001b[0m\u001b[0;34m\u001b[0m\u001b[0;34m\u001b[0m\u001b[0m\n\u001b[1;32m    181\u001b[0m         \u001b[0;34m\"\"\"Schedule a func to be run\"\"\"\u001b[0m\u001b[0;34m\u001b[0m\u001b[0;34m\u001b[0m\u001b[0m\n\u001b[0;32m--> 182\u001b[0;31m         \u001b[0mresult\u001b[0m \u001b[0;34m=\u001b[0m \u001b[0mImmediateResult\u001b[0m\u001b[0;34m(\u001b[0m\u001b[0mfunc\u001b[0m\u001b[0;34m)\u001b[0m\u001b[0;34m\u001b[0m\u001b[0;34m\u001b[0m\u001b[0m\n\u001b[0m\u001b[1;32m    183\u001b[0m         \u001b[0;32mif\u001b[0m \u001b[0mcallback\u001b[0m\u001b[0;34m:\u001b[0m\u001b[0;34m\u001b[0m\u001b[0;34m\u001b[0m\u001b[0m\n\u001b[1;32m    184\u001b[0m             \u001b[0mcallback\u001b[0m\u001b[0;34m(\u001b[0m\u001b[0mresult\u001b[0m\u001b[0;34m)\u001b[0m\u001b[0;34m\u001b[0m\u001b[0;34m\u001b[0m\u001b[0m\n",
      "\u001b[0;32m~/anaconda3/lib/python3.7/site-packages/sklearn/externals/joblib/_parallel_backends.py\u001b[0m in \u001b[0;36m__init__\u001b[0;34m(self, batch)\u001b[0m\n\u001b[1;32m    547\u001b[0m         \u001b[0;31m# Don't delay the application, to avoid keeping the input\u001b[0m\u001b[0;34m\u001b[0m\u001b[0;34m\u001b[0m\u001b[0;34m\u001b[0m\u001b[0m\n\u001b[1;32m    548\u001b[0m         \u001b[0;31m# arguments in memory\u001b[0m\u001b[0;34m\u001b[0m\u001b[0;34m\u001b[0m\u001b[0;34m\u001b[0m\u001b[0m\n\u001b[0;32m--> 549\u001b[0;31m         \u001b[0mself\u001b[0m\u001b[0;34m.\u001b[0m\u001b[0mresults\u001b[0m \u001b[0;34m=\u001b[0m \u001b[0mbatch\u001b[0m\u001b[0;34m(\u001b[0m\u001b[0;34m)\u001b[0m\u001b[0;34m\u001b[0m\u001b[0;34m\u001b[0m\u001b[0m\n\u001b[0m\u001b[1;32m    550\u001b[0m \u001b[0;34m\u001b[0m\u001b[0m\n\u001b[1;32m    551\u001b[0m     \u001b[0;32mdef\u001b[0m \u001b[0mget\u001b[0m\u001b[0;34m(\u001b[0m\u001b[0mself\u001b[0m\u001b[0;34m)\u001b[0m\u001b[0;34m:\u001b[0m\u001b[0;34m\u001b[0m\u001b[0;34m\u001b[0m\u001b[0m\n",
      "\u001b[0;32m~/anaconda3/lib/python3.7/site-packages/sklearn/externals/joblib/parallel.py\u001b[0m in \u001b[0;36m__call__\u001b[0;34m(self)\u001b[0m\n\u001b[1;32m    223\u001b[0m         \u001b[0;32mwith\u001b[0m \u001b[0mparallel_backend\u001b[0m\u001b[0;34m(\u001b[0m\u001b[0mself\u001b[0m\u001b[0;34m.\u001b[0m\u001b[0m_backend\u001b[0m\u001b[0;34m,\u001b[0m \u001b[0mn_jobs\u001b[0m\u001b[0;34m=\u001b[0m\u001b[0mself\u001b[0m\u001b[0;34m.\u001b[0m\u001b[0m_n_jobs\u001b[0m\u001b[0;34m)\u001b[0m\u001b[0;34m:\u001b[0m\u001b[0;34m\u001b[0m\u001b[0;34m\u001b[0m\u001b[0m\n\u001b[1;32m    224\u001b[0m             return [func(*args, **kwargs)\n\u001b[0;32m--> 225\u001b[0;31m                     for func, args, kwargs in self.items]\n\u001b[0m\u001b[1;32m    226\u001b[0m \u001b[0;34m\u001b[0m\u001b[0m\n\u001b[1;32m    227\u001b[0m     \u001b[0;32mdef\u001b[0m \u001b[0m__len__\u001b[0m\u001b[0;34m(\u001b[0m\u001b[0mself\u001b[0m\u001b[0;34m)\u001b[0m\u001b[0;34m:\u001b[0m\u001b[0;34m\u001b[0m\u001b[0;34m\u001b[0m\u001b[0m\n",
      "\u001b[0;32m~/anaconda3/lib/python3.7/site-packages/sklearn/externals/joblib/parallel.py\u001b[0m in \u001b[0;36m<listcomp>\u001b[0;34m(.0)\u001b[0m\n\u001b[1;32m    223\u001b[0m         \u001b[0;32mwith\u001b[0m \u001b[0mparallel_backend\u001b[0m\u001b[0;34m(\u001b[0m\u001b[0mself\u001b[0m\u001b[0;34m.\u001b[0m\u001b[0m_backend\u001b[0m\u001b[0;34m,\u001b[0m \u001b[0mn_jobs\u001b[0m\u001b[0;34m=\u001b[0m\u001b[0mself\u001b[0m\u001b[0;34m.\u001b[0m\u001b[0m_n_jobs\u001b[0m\u001b[0;34m)\u001b[0m\u001b[0;34m:\u001b[0m\u001b[0;34m\u001b[0m\u001b[0;34m\u001b[0m\u001b[0m\n\u001b[1;32m    224\u001b[0m             return [func(*args, **kwargs)\n\u001b[0;32m--> 225\u001b[0;31m                     for func, args, kwargs in self.items]\n\u001b[0m\u001b[1;32m    226\u001b[0m \u001b[0;34m\u001b[0m\u001b[0m\n\u001b[1;32m    227\u001b[0m     \u001b[0;32mdef\u001b[0m \u001b[0m__len__\u001b[0m\u001b[0;34m(\u001b[0m\u001b[0mself\u001b[0m\u001b[0;34m)\u001b[0m\u001b[0;34m:\u001b[0m\u001b[0;34m\u001b[0m\u001b[0;34m\u001b[0m\u001b[0m\n",
      "\u001b[0;32m~/anaconda3/lib/python3.7/site-packages/sklearn/ensemble/forest.py\u001b[0m in \u001b[0;36m_parallel_build_trees\u001b[0;34m(tree, forest, X, y, sample_weight, tree_idx, n_trees, verbose, class_weight)\u001b[0m\n\u001b[1;32m    119\u001b[0m         \u001b[0mtree\u001b[0m\u001b[0;34m.\u001b[0m\u001b[0mfit\u001b[0m\u001b[0;34m(\u001b[0m\u001b[0mX\u001b[0m\u001b[0;34m,\u001b[0m \u001b[0my\u001b[0m\u001b[0;34m,\u001b[0m \u001b[0msample_weight\u001b[0m\u001b[0;34m=\u001b[0m\u001b[0mcurr_sample_weight\u001b[0m\u001b[0;34m,\u001b[0m \u001b[0mcheck_input\u001b[0m\u001b[0;34m=\u001b[0m\u001b[0;32mFalse\u001b[0m\u001b[0;34m)\u001b[0m\u001b[0;34m\u001b[0m\u001b[0;34m\u001b[0m\u001b[0m\n\u001b[1;32m    120\u001b[0m     \u001b[0;32melse\u001b[0m\u001b[0;34m:\u001b[0m\u001b[0;34m\u001b[0m\u001b[0;34m\u001b[0m\u001b[0m\n\u001b[0;32m--> 121\u001b[0;31m         \u001b[0mtree\u001b[0m\u001b[0;34m.\u001b[0m\u001b[0mfit\u001b[0m\u001b[0;34m(\u001b[0m\u001b[0mX\u001b[0m\u001b[0;34m,\u001b[0m \u001b[0my\u001b[0m\u001b[0;34m,\u001b[0m \u001b[0msample_weight\u001b[0m\u001b[0;34m=\u001b[0m\u001b[0msample_weight\u001b[0m\u001b[0;34m,\u001b[0m \u001b[0mcheck_input\u001b[0m\u001b[0;34m=\u001b[0m\u001b[0;32mFalse\u001b[0m\u001b[0;34m)\u001b[0m\u001b[0;34m\u001b[0m\u001b[0;34m\u001b[0m\u001b[0m\n\u001b[0m\u001b[1;32m    122\u001b[0m \u001b[0;34m\u001b[0m\u001b[0m\n\u001b[1;32m    123\u001b[0m     \u001b[0;32mreturn\u001b[0m \u001b[0mtree\u001b[0m\u001b[0;34m\u001b[0m\u001b[0;34m\u001b[0m\u001b[0m\n",
      "\u001b[0;32m~/anaconda3/lib/python3.7/site-packages/sklearn/tree/tree.py\u001b[0m in \u001b[0;36mfit\u001b[0;34m(self, X, y, sample_weight, check_input, X_idx_sorted)\u001b[0m\n\u001b[1;32m    799\u001b[0m             \u001b[0msample_weight\u001b[0m\u001b[0;34m=\u001b[0m\u001b[0msample_weight\u001b[0m\u001b[0;34m,\u001b[0m\u001b[0;34m\u001b[0m\u001b[0;34m\u001b[0m\u001b[0m\n\u001b[1;32m    800\u001b[0m             \u001b[0mcheck_input\u001b[0m\u001b[0;34m=\u001b[0m\u001b[0mcheck_input\u001b[0m\u001b[0;34m,\u001b[0m\u001b[0;34m\u001b[0m\u001b[0;34m\u001b[0m\u001b[0m\n\u001b[0;32m--> 801\u001b[0;31m             X_idx_sorted=X_idx_sorted)\n\u001b[0m\u001b[1;32m    802\u001b[0m         \u001b[0;32mreturn\u001b[0m \u001b[0mself\u001b[0m\u001b[0;34m\u001b[0m\u001b[0;34m\u001b[0m\u001b[0m\n\u001b[1;32m    803\u001b[0m \u001b[0;34m\u001b[0m\u001b[0m\n",
      "\u001b[0;32m~/anaconda3/lib/python3.7/site-packages/sklearn/tree/tree.py\u001b[0m in \u001b[0;36mfit\u001b[0;34m(self, X, y, sample_weight, check_input, X_idx_sorted)\u001b[0m\n\u001b[1;32m    364\u001b[0m                                            min_impurity_split)\n\u001b[1;32m    365\u001b[0m \u001b[0;34m\u001b[0m\u001b[0m\n\u001b[0;32m--> 366\u001b[0;31m         \u001b[0mbuilder\u001b[0m\u001b[0;34m.\u001b[0m\u001b[0mbuild\u001b[0m\u001b[0;34m(\u001b[0m\u001b[0mself\u001b[0m\u001b[0;34m.\u001b[0m\u001b[0mtree_\u001b[0m\u001b[0;34m,\u001b[0m \u001b[0mX\u001b[0m\u001b[0;34m,\u001b[0m \u001b[0my\u001b[0m\u001b[0;34m,\u001b[0m \u001b[0msample_weight\u001b[0m\u001b[0;34m,\u001b[0m \u001b[0mX_idx_sorted\u001b[0m\u001b[0;34m)\u001b[0m\u001b[0;34m\u001b[0m\u001b[0;34m\u001b[0m\u001b[0m\n\u001b[0m\u001b[1;32m    367\u001b[0m \u001b[0;34m\u001b[0m\u001b[0m\n\u001b[1;32m    368\u001b[0m         \u001b[0;32mif\u001b[0m \u001b[0mself\u001b[0m\u001b[0;34m.\u001b[0m\u001b[0mn_outputs_\u001b[0m \u001b[0;34m==\u001b[0m \u001b[0;36m1\u001b[0m\u001b[0;34m:\u001b[0m\u001b[0;34m\u001b[0m\u001b[0;34m\u001b[0m\u001b[0m\n",
      "\u001b[0;31mKeyboardInterrupt\u001b[0m: "
     ]
    }
   ],
   "source": [
    "results = eval_all_combinations(X_train, y_train, X_test, y_test, verbose=False)\n",
    "#best_opts = results[0][1]\n",
    "#print(\"Best options are {} with accuracy={:.2%}\".format(results[0][1], results[0"
   ]
  },
  {
   "cell_type": "code",
   "execution_count": null,
   "metadata": {},
   "outputs": [],
   "source": [
    "#print(\"eval comb: {}\".format(kwds))\n",
    "        accs = do_cross_validation_rf(X_train.to_numpy(), y_train.to_numpy(), X_test.to_numpy(),\n",
    "                                      y_test.to_numpy(), n_folds=n_folds, verbose=verbose, **kwds)\n",
    "        opts = kwds.copy()\n",
    "        results.append((accs, opts))\n",
    "    results_sorted = sorted(results, key=lambda x: (-x[0][4], -x[0][0], -x[0][2]))\n",
    "\n",
    "    argnames, option_iter = generate_all_opts()\n",
    "    for options in option_iter:\n",
    "        opts = {name: opt for name, opt in zip(argnames, options)}\n",
    "        accs = do_cross_validation(X_train.to_numpy(), y_train.to_numpy(), X_test.to_numpy(),\n",
    "                                      y_test.to_numpy(), n_folds=n_folds, verbose=verbose, **opts)\n",
    "        results.append((accs, opts))\n",
    "    results_sorted = sorted(results, key=lambda x: (-x[0][4], x[0][6], -x[0][0], -x[0][2]))\n",
    "    return results_sorted\n"
   ]
  },
  {
   "cell_type": "code",
   "execution_count": null,
   "metadata": {},
   "outputs": [],
   "source": [
    "results = eval_all_combinations(X_train, y_train, X_test, y_test, verbose=False)\n",
    "best_opts = results[0][1]\n",
    "print(\"Best options are {} with accuracy={:.2%}\".format(results[0][1], results[0][0][4]))"
   ]
  },
  {
   "cell_type": "code",
   "execution_count": null,
   "metadata": {},
   "outputs": [],
   "source": [
    "# Find the best c value\n",
    "cs = [.001, .01, .1, 1, 5, 10, 1000, 10000]\n",
    "results = eval_all_combinations(X_train, y_train, X_test, y_test, verbose=False,\n",
    "                                cs=cs, **best_opts)\n",
    "\n",
    "def plot_accuracies(results):\n",
    "    \"\"\"Plot accuracies for the different c values.\n",
    "    \"\"\"\n",
    "    #Sort results according to c values\n",
    "    results = sorted(results, key=lambda x: (x[1]['c']))\n",
    "    accs = [result[0] for result in results]\n",
    "    opts = [result[1] for result in results]\n",
    "    cs = [opt['c'] for opt in opts]\n",
    "    test_accs = [acc[0] for acc in accs]\n",
    "    test_sd = [acc[1] for acc in accs]\n",
    "    train_accs = [acc[2] for acc in accs]\n",
    "    train_sd = [acc[3] for acc in accs]\n",
    "    val_accs = [acc[4] for acc in accs]\n",
    "    val_sd = [acc[5] for acc in accs]\n",
    "    dev = [acc[6] for acc in accs]\n",
    "    dev_sd = [acc[7] for acc in accs]\n",
    "    \n",
    "    # plot accuracies\n",
    "    plt.figure()\n",
    "    plt.errorbar(cs, train_accs, fmt='go-', label='train acc', yerr=train_sd)\n",
    "    plt.errorbar(cs, test_accs, fmt='bo-', label='test acc', yerr=test_sd)\n",
    "    plt.errorbar(cs, val_accs, fmt='ro-', label='val acc', yerr=val_sd)\n",
    "    plt.xlabel('C')\n",
    "    plt.ylabel('Accuracy')\n",
    "    plt.xscale('log')\n",
    "    plt.title(\"Accuracies with different C values.\")\n",
    "    plt.ylim([0.68, 0.75])\n",
    "    plt.legend()\n",
    "    plt.show()\n",
    "    # plot deviance values\n",
    "    plt.figure()\n",
    "    plt.errorbar(cs, dev, fmt='ro-', label='deviance vals', yerr=dev_sd)\n",
    "    plt.xlabel('C')\n",
    "    plt.ylabel('deviance')\n",
    "    plt.xscale('log')\n",
    "    plt.title(\"Deviance Values with different C values.\")\n",
    "    plt.show()"
   ]
  }
 ],
 "metadata": {
  "kernelspec": {
   "display_name": "Python 3",
   "language": "python",
   "name": "python3"
  },
  "language_info": {
   "codemirror_mode": {
    "name": "ipython",
    "version": 3
   },
   "file_extension": ".py",
   "mimetype": "text/x-python",
   "name": "python",
   "nbconvert_exporter": "python",
   "pygments_lexer": "ipython3",
   "version": "3.7.7"
  }
 },
 "nbformat": 4,
 "nbformat_minor": 4
}
