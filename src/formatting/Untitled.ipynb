{
 "cells": [
  {
   "cell_type": "code",
   "execution_count": 1,
   "metadata": {},
   "outputs": [
    {
     "name": "stdout",
     "output_type": "stream",
     "text": [
      "Step 0: Initial directories and colnames set up\n",
      "Directory of this file is /home/agericke/crowdfunding_ml/src/formatting\n",
      "Data directory is /home/agericke/crowdfunding_ml/data\n",
      "Images directory is /home/agericke/crowdfunding_ml/src/images\n",
      "Initial columns for our model are: \n",
      "['backers_count', 'blurb', 'category', 'country', 'created_at', 'currency', 'deadline', 'goal', 'id', 'launched_at', 'location', 'name', 'pledged', 'state', 'state_changed_at', 'static_usd_rate', 'usd_pledged']\n"
     ]
    }
   ],
   "source": [
    "import json\n",
    "import pandas as pd\n",
    "import numpy as np\n",
    "import matplotlib.pyplot as plt\n",
    "from matplotlib import cm\n",
    "import seaborn as sns\n",
    "import os, sys\n",
    "import datetime\n",
    "from datetime import date\n",
    "import time\n",
    "import pickle\n",
    "from sklearn.preprocessing import StandardScaler\n",
    "from sklearn.model_selection import train_test_split\n",
    "#from ggplot import *\n",
    "#%matplotlib inline\n",
    "\n",
    "\n",
    "plt.rcParams.update({'font.size': 22})\n",
    "\n",
    "def initial_setup():\n",
    "    \"\"\"\n",
    "    Create Initial setup of directories variables, and dataframe vars to use.\n",
    "    Returns:\n",
    "      A tuple containing:\n",
    "          - datadir:   Absolute Path to the data directory of the project.\n",
    "          - dirname:   Absolute Path of directory that contains this file.\n",
    "          - imagesdir: Absolute path of directory that contains the images.\n",
    "          - colnames: A list containing the initial colnames of the dataframe.\n",
    "    \"\"\"\n",
    "    # Initial directories set up\n",
    "    dirname = os.path.dirname(os.path.abspath('__file__'))\n",
    "    datadir =  os.path.join(os.path.abspath(os.path.join(os.path.join(dirname, os.pardir), os.pardir)), 'data')\n",
    "    imagesdir =  os.path.join(os.path.abspath(os.path.join(dirname, os.pardir)), 'images')\n",
    "    initial_colnames = sorted(['backers_count', 'blurb', 'category', 'country', 'created_at', 'state_changed_at', 'currency', 'deadline', 'goal', 'id', 'launched_at', 'location', 'name', 'pledged', 'state', 'static_usd_rate', 'usd_pledged'])\n",
    "    return dirname, datadir, imagesdir, initial_colnames\n",
    "\n",
    " # 0 - Initial directories and colnames set up\n",
    "print(\"Step 0: Initial directories and colnames set up\")\n",
    "dirname, datadir, imagesdir, initial_colnames = initial_setup()\n",
    "print(\"Directory of this file is %s\" % dirname)\n",
    "print(\"Data directory is %s\" % datadir)\n",
    "print(\"Images directory is %s\" % imagesdir)\n",
    "print(\"Initial columns for our model are: \\n%s\" % initial_colnames)"
   ]
  },
  {
   "cell_type": "code",
   "execution_count": 2,
   "metadata": {},
   "outputs": [
    {
     "name": "stdout",
     "output_type": "stream",
     "text": [
      "\n",
      "\n",
      "\n",
      "Step 1: Load from disk the complete Merged Dataframe.\n",
      "Completed Dataframe read from file /home/agericke/crowdfunding_ml/data/dataframe_total.pkl\n",
      "Dataframe contains 344209 projects and 17 columns for each project\n",
      "\n"
     ]
    }
   ],
   "source": [
    "def read_from_disk(filename):\n",
    "    \"\"\"\n",
    "    Read a dataframe from a filename in disk.\n",
    "    Params:\n",
    "        filename....Path to the file.\n",
    "    Returns:\n",
    "        A pandas dataframe.\n",
    "    \"\"\"\n",
    "    return pickle.load(open(filename, 'rb'))\n",
    "\n",
    "\n",
    "def store_dataframe(dataframe, filename):\n",
    "    \"\"\"\n",
    "    Store the dataframe using pickle.\n",
    "    Params:\n",
    "        dataframe...pandas dataframe to store.\n",
    "        filename....Path to the file to store the datafram in.\n",
    "    Returns:\n",
    "        Nothing.\n",
    "    \"\"\"\n",
    "    pickle.dump(dataframe, open(filename, 'wb'))\n",
    "\n",
    "# 1 - Load from disk the complete Merged Dataframe.\n",
    "print(\"\\n\\n\\nStep 1: Load from disk the complete Merged Dataframe.\")\n",
    "filename = os.path.join(datadir, 'dataframe_total.pkl')\n",
    "print(\"Completed Dataframe read from file %s\" % filename)\n",
    "data = read_from_disk(filename)\n",
    "# Print summary of dataframe\n",
    "print(\"Dataframe contains %d projects and %d columns for each project\\n\" % (data.shape[0], data.shape[1]))"
   ]
  },
  {
   "cell_type": "code",
   "execution_count": 3,
   "metadata": {},
   "outputs": [],
   "source": [
    "def read_dataframe(path):\n",
    "    \"\"\"\n",
    "    Read data from the file provided and return it as a pandas dataframe.\n",
    "    Params:\n",
    "        path.....The absolute path to the dataframe.\n",
    "    Returns:\n",
    "        A pandas dataframe.\n",
    "    \"\"\"\n",
    "    #pd.read_csv(os.path.join(datadir, \"2016-05-15T020446/Kickstarter001.csv\"))\n",
    "    return pd.read_csv(path, encoding='ISO-8859-1')\n",
    "\n",
    "\n",
    "def sort_dataframe_by_columns(dataframe):\n",
    "    \"\"\"\n",
    "    Pick the colnames for a dataframe, and returned the dataframe sorted by the colnames.\n",
    "    Params:\n",
    "        dataframe.....The pandas Dataframe.\n",
    "    Returns:\n",
    "        A pandas dataframe ordered by column name.\n",
    "    \"\"\"\n",
    "    return dataframe.reindex(sorted(dataframe.columns), axis=1)"
   ]
  },
  {
   "cell_type": "code",
   "execution_count": 4,
   "metadata": {},
   "outputs": [
    {
     "name": "stdout",
     "output_type": "stream",
     "text": [
      "['backers_count', 'blurb', 'category', 'converted_pledged_amount', 'country', 'created_at', 'creator', 'currency', 'currency_symbol', 'currency_trailing_code', 'current_currency', 'deadline', 'disable_communication', 'friends', 'fx_rate', 'goal', 'id', 'is_backing', 'is_starrable', 'is_starred', 'launched_at', 'location', 'name', 'permissions', 'photo', 'pledged', 'profile', 'slug', 'source_url', 'spotlight', 'staff_pick', 'state', 'state_changed_at', 'static_usd_rate', 'urls', 'usd_pledged', 'usd_type']\n",
      "\n",
      "\n",
      "['backers_count', 'blurb', 'category', 'converted_pledged_amount', 'country', 'created_at', 'creator', 'currency', 'currency_symbol', 'currency_trailing_code', 'current_currency', 'deadline', 'disable_communication', 'friends', 'fx_rate', 'goal', 'id', 'is_backing', 'is_starrable', 'is_starred', 'launched_at', 'location', 'name', 'permissions', 'photo', 'pledged', 'profile', 'slug', 'spotlight', 'staff_pick', 'state', 'state_changed_at', 'static_usd_rate', 'urls', 'usd_pledged', 'usd_type']\n",
      "\n",
      "\n",
      "['backers_count', 'blurb', 'category', 'country', 'created_at', 'creator', 'currency', 'currency_symbol', 'currency_trailing_code', 'deadline', 'disable_communication', 'friends', 'goal', 'id', 'is_backing', 'is_starred', 'launched_at', 'location', 'name', 'permissions', 'photo', 'pledged', 'profile', 'slug', 'source_url', 'spotlight', 'staff_pick', 'state', 'state_changed_at', 'static_usd_rate', 'urls', 'usd_pledged']\n",
      "\n",
      "\n",
      "['backers_count', 'blurb', 'category', 'country', 'created_at', 'creator', 'currency', 'currency_symbol', 'currency_trailing_code', 'deadline', 'disable_communication', 'friends', 'goal', 'id', 'is_backing', 'is_starred', 'launched_at', 'location', 'name', 'permissions', 'photo', 'pledged', 'profile', 'slug', 'source_url', 'spotlight', 'staff_pick', 'state', 'state_changed_at', 'static_usd_rate', 'urls', 'usd_pledged']\n",
      "False\n",
      "Diff for 2019 and 2018 ['source_url']\n",
      "False\n",
      "Diff for 2019 and 2017 ['converted_pledged_amount', 'current_currency', 'fx_rate', 'is_starrable', 'usd_type']\n",
      "False\n",
      "Diff for 2019 and 2016 ['converted_pledged_amount', 'current_currency', 'fx_rate', 'is_starrable', 'usd_type']\n",
      "source_url in 2016 data: True\n",
      "source_url in 2017 data: True\n",
      "source_url in 2018 data: False\n",
      "source_url in 2019 data: True\n"
     ]
    }
   ],
   "source": [
    "# Compare if columns from each \n",
    "\n",
    "filename2019 = os.path.join(datadir,'2019-05-16T032020/Kickstarter005.csv')\n",
    "df_example_2019 = read_dataframe(filename2019)\n",
    "print(sorted(df_example_2019.columns))\n",
    "print(\"\\n\")\n",
    "\n",
    "filename2018 = os.path.join(datadir,'2018-05-17T032008/Kickstarter005.csv')\n",
    "df_example_2018 = read_dataframe(filename2018)\n",
    "print(sorted(df_example_2018.columns))\n",
    "print(\"\\n\")\n",
    "\n",
    "filename2017 = os.path.join(datadir,'2017-05-15T222111/Kickstarter005.csv')\n",
    "df_example_2017 = read_dataframe(filename2017)\n",
    "print(sorted(df_example_2017.columns))\n",
    "print(\"\\n\")\n",
    "\n",
    "filename2016 = os.path.join(datadir,'2016-05-15T020446/Kickstarter005.csv')\n",
    "df_example_2016 = read_dataframe(filename2016)\n",
    "print(sorted(df_example_2016.columns))\n",
    "\n",
    "\n",
    "print(list(df_example_2019.columns) == list(df_example_2018.columns))\n",
    "list_diff = [i for i in list(df_example_2019.columns) if i not in list(df_example_2018.columns)]\n",
    "print(\"Diff for 2019 and 2018 %s\" % list_diff)\n",
    "\n",
    "print(list(df_example_2019.columns) == list(df_example_2017.columns))\n",
    "list_diff = [i for i in list(df_example_2019.columns) if i not in list(df_example_2017.columns)]\n",
    "print(\"Diff for 2019 and 2017 %s\" % list_diff)\n",
    "\n",
    "print(list(df_example_2019.columns) == list(df_example_2016.columns))\n",
    "list_diff = [i for i in list(df_example_2019.columns) if i not in list(df_example_2016.columns)]\n",
    "print(\"Diff for 2019 and 2016 %s\" % list_diff)\n",
    "\n",
    "print(\"source_url in 2016 data: %s\" % (\"source_url\" in list(df_example_2016.columns)))\n",
    "print(\"source_url in 2017 data: %s\" % (\"source_url\" in list(df_example_2017.columns)))\n",
    "print(\"source_url in 2018 data: %s\" % (\"source_url\" in list(df_example_2018.columns)))\n",
    "print(\"source_url in 2019 data: %s\" % (\"source_url\" in list(df_example_2019.columns)))"
   ]
  },
  {
   "cell_type": "markdown",
   "metadata": {},
   "source": [
    "We drop the columns `['converted_pledged_amount', 'current_currency', 'fx_rate', 'is_starrable', 'source_url', 'usd_type']`.\n",
    "\n",
    "We then have a total of 31 columns left:\n",
    "`['backers_count', 'blurb', 'category', 'country', 'created_at', 'creator', 'currency', 'currency_symbol', 'currency_trailing_code', 'deadline', 'disable_communication', 'friends', 'goal', 'id', 'is_backing', 'is_starred', 'launched_at', 'location', 'name', 'permissions', 'photo', 'pledged', 'profile', 'slug', 'spotlight', 'staff_pick', 'state', 'state_changed_at', 'static_usd_rate', 'urls', 'usd_pledged']`"
   ]
  },
  {
   "cell_type": "code",
   "execution_count": 109,
   "metadata": {
    "collapsed": true
   },
   "outputs": [
    {
     "data": {
      "text/plain": [
       "'{\"id\":201462872,\"name\":\"Jessica\",\"is_registered\":null,\"chosen_currency\":null,\"avatar\":{\"thumb\":\"https://ksr-ugc.imgix.net/assets/007/949/250/d038cc2cebf0a2e2b61e4828846625f0_original.jpg?ixlib=rb-2.0.0&w=40&h=40&fit=crop&v=1461493126&auto=format&frame=1&q=92&s=1286f1e298c4f1bf5a879012d17b1d4e\",\"small\":\"https://ksr-ugc.imgix.net/assets/007/949/250/d038cc2cebf0a2e2b61e4828846625f0_original.jpg?ixlib=rb-2.0.0&w=160&h=160&fit=crop&v=1461493126&auto=format&frame=1&q=92&s=0653fa544d8bb487804fea0f9824b456\",\"medium\":\"https://ksr-ugc.imgix.net/assets/007/949/250/d038cc2cebf0a2e2b61e4828846625f0_original.jpg?ixlib=rb-2.0.0&w=160&h=160&fit=crop&v=1461493126&auto=format&frame=1&q=92&s=0653fa544d8bb487804fea0f9824b456\"},\"urls\":{\"web\":{\"user\":\"https://www.kickstarter.com/profile/201462872\"},\"api\":{\"user\":\"https://api.kickstarter.com/v1/users/201462872?signature=1558067776.5d17f5578109207cc50fad148c887416aef943c3\"}}}'"
      ]
     },
     "execution_count": 109,
     "metadata": {},
     "output_type": "execute_result"
    }
   ],
   "source": [
    "#We drop Creator column\n",
    "df_example_2019.creator[600]"
   ]
  },
  {
   "cell_type": "code",
   "execution_count": 23,
   "metadata": {
    "collapsed": true
   },
   "outputs": [
    {
     "data": {
      "text/plain": [
       "0     EUR\n",
       "1     USD\n",
       "2     GBP\n",
       "3     USD\n",
       "4     USD\n",
       "5     USD\n",
       "6     EUR\n",
       "7     USD\n",
       "8     USD\n",
       "9     CAD\n",
       "10    USD\n",
       "11    USD\n",
       "12    USD\n",
       "13    USD\n",
       "14    USD\n",
       "15    USD\n",
       "16    EUR\n",
       "17    USD\n",
       "18    GBP\n",
       "19    USD\n",
       "Name: currency, dtype: object"
      ]
     },
     "execution_count": 23,
     "metadata": {},
     "output_type": "execute_result"
    }
   ],
   "source": [
    "# We drop currency_symbol\n",
    "df_example_2019.currency_symbol.head(20)"
   ]
  },
  {
   "cell_type": "code",
   "execution_count": 106,
   "metadata": {
    "collapsed": true
   },
   "outputs": [
    {
     "data": {
      "text/plain": [
       "0     False\n",
       "1      True\n",
       "2     False\n",
       "3      True\n",
       "4      True\n",
       "5      True\n",
       "6     False\n",
       "7      True\n",
       "8      True\n",
       "9      True\n",
       "10     True\n",
       "11     True\n",
       "12     True\n",
       "13     True\n",
       "14     True\n",
       "15     True\n",
       "16    False\n",
       "17     True\n",
       "18    False\n",
       "19     True\n",
       "Name: currency_trailing_code, dtype: bool"
      ]
     },
     "execution_count": 106,
     "metadata": {},
     "output_type": "execute_result"
    }
   ],
   "source": [
    "# We drop currency_trailing_code (Appears to have true values only for USD currency values)\n",
    "df_example_2019.currency_trailing_code.head(20)"
   ]
  },
  {
   "cell_type": "code",
   "execution_count": 51,
   "metadata": {
    "collapsed": true
   },
   "outputs": [
    {
     "data": {
      "text/plain": [
       "251     True\n",
       "354     True\n",
       "653     True\n",
       "1807    True\n",
       "2616    True\n",
       "2869    True\n",
       "3713    True\n",
       "Name: disable_communication, dtype: bool"
      ]
     },
     "execution_count": 51,
     "metadata": {},
     "output_type": "execute_result"
    }
   ],
   "source": [
    "# We drop disable_communication column\n",
    "df_example_2019[df_example_2019.disable_communication == True].disable_communication"
   ]
  },
  {
   "cell_type": "code",
   "execution_count": 33,
   "metadata": {
    "collapsed": true
   },
   "outputs": [
    {
     "data": {
      "text/plain": [
       "460     []\n",
       "1476    []\n",
       "2789    []\n",
       "Name: friends, dtype: object"
      ]
     },
     "execution_count": 33,
     "metadata": {},
     "output_type": "execute_result"
    }
   ],
   "source": [
    "# We drop friends columns as it has no values in any project\n",
    "df_example_2019[df_example_2019.friends.notna()].friends"
   ]
  },
  {
   "cell_type": "code",
   "execution_count": 41,
   "metadata": {
    "collapsed": true
   },
   "outputs": [
    {
     "data": {
      "text/plain": [
       "460     False\n",
       "1476    False\n",
       "2789    False\n",
       "Name: is_backing, dtype: object"
      ]
     },
     "execution_count": 41,
     "metadata": {},
     "output_type": "execute_result"
    }
   ],
   "source": [
    "# TODO: Check if goal variable is in USD or original currency \n",
    "# We drop the column is_backing as it has non values in every project.\n",
    "df_example_2019[df_example_2019.is_backing.notna()].is_backing"
   ]
  },
  {
   "cell_type": "code",
   "execution_count": 47,
   "metadata": {
    "collapsed": true
   },
   "outputs": [
    {
     "data": {
      "text/plain": [
       "460     False\n",
       "1476    False\n",
       "2789    False\n",
       "Name: is_starred, dtype: object"
      ]
     },
     "execution_count": 47,
     "metadata": {},
     "output_type": "execute_result"
    }
   ],
   "source": [
    "# We drop the column is_starred as it has non values in every project.\n",
    "df_example_2019[df_example_2019.is_starred.notna()].is_starred"
   ]
  },
  {
   "cell_type": "code",
   "execution_count": 70,
   "metadata": {
    "collapsed": true
   },
   "outputs": [
    {
     "data": {
      "text/plain": [
       "460     []\n",
       "1476    []\n",
       "2789    []\n",
       "Name: permissions, dtype: object"
      ]
     },
     "execution_count": 70,
     "metadata": {},
     "output_type": "execute_result"
    }
   ],
   "source": [
    "# We drop the column permissions as it has non values in every project.\n",
    "df_example_2019[df_example_2019.permissions.notna()].permissions"
   ]
  },
  {
   "cell_type": "code",
   "execution_count": 75,
   "metadata": {
    "collapsed": true
   },
   "outputs": [
    {
     "data": {
      "text/html": [
       "<div>\n",
       "<style scoped>\n",
       "    .dataframe tbody tr th:only-of-type {\n",
       "        vertical-align: middle;\n",
       "    }\n",
       "\n",
       "    .dataframe tbody tr th {\n",
       "        vertical-align: top;\n",
       "    }\n",
       "\n",
       "    .dataframe thead th {\n",
       "        text-align: right;\n",
       "    }\n",
       "</style>\n",
       "<table border=\"1\" class=\"dataframe\">\n",
       "  <thead>\n",
       "    <tr style=\"text-align: right;\">\n",
       "      <th></th>\n",
       "      <th>backers_count</th>\n",
       "      <th>blurb</th>\n",
       "      <th>category</th>\n",
       "      <th>converted_pledged_amount</th>\n",
       "      <th>country</th>\n",
       "      <th>created_at</th>\n",
       "      <th>creator</th>\n",
       "      <th>currency</th>\n",
       "      <th>currency_symbol</th>\n",
       "      <th>currency_trailing_code</th>\n",
       "      <th>...</th>\n",
       "      <th>slug</th>\n",
       "      <th>source_url</th>\n",
       "      <th>spotlight</th>\n",
       "      <th>staff_pick</th>\n",
       "      <th>state</th>\n",
       "      <th>state_changed_at</th>\n",
       "      <th>static_usd_rate</th>\n",
       "      <th>urls</th>\n",
       "      <th>usd_pledged</th>\n",
       "      <th>usd_type</th>\n",
       "    </tr>\n",
       "  </thead>\n",
       "  <tbody>\n",
       "  </tbody>\n",
       "</table>\n",
       "<p>0 rows × 37 columns</p>\n",
       "</div>"
      ],
      "text/plain": [
       "Empty DataFrame\n",
       "Columns: [backers_count, blurb, category, converted_pledged_amount, country, created_at, creator, currency, currency_symbol, currency_trailing_code, current_currency, deadline, disable_communication, friends, fx_rate, goal, id, is_backing, is_starrable, is_starred, launched_at, location, name, permissions, photo, pledged, profile, slug, source_url, spotlight, staff_pick, state, state_changed_at, static_usd_rate, urls, usd_pledged, usd_type]\n",
       "Index: []\n",
       "\n",
       "[0 rows x 37 columns]"
      ]
     },
     "execution_count": 75,
     "metadata": {},
     "output_type": "execute_result"
    }
   ],
   "source": [
    "# We drop the column photo as it only contains links to the photos.\n",
    "df_example_2019.photo[0]"
   ]
  },
  {
   "cell_type": "code",
   "execution_count": 80,
   "metadata": {
    "collapsed": true
   },
   "outputs": [
    {
     "data": {
      "text/plain": [
       "'{\"id\":3438765,\"project_id\":3438765,\"state\":\"inactive\",\"state_changed_at\":1533133044,\"name\":null,\"blurb\":null,\"background_color\":null,\"text_color\":null,\"link_background_color\":null,\"link_text_color\":null,\"link_text\":null,\"link_url\":null,\"show_feature_image\":false,\"background_image_opacity\":0.8,\"should_show_feature_image_section\":true,\"feature_image_attributes\":{\"image_urls\":{\"default\":\"https://ksr-ugc.imgix.net/assets/022/131/877/df8a04e48d2a004cfb668b640ab3c87a_original.jpg?ixlib=rb-2.0.0&crop=faces&w=1552&h=873&fit=crop&v=1533478846&auto=format&frame=1&q=92&s=43a70d311e91d2eddbf441bba2d03729\",\"baseball_card\":\"https://ksr-ugc.imgix.net/assets/022/131/877/df8a04e48d2a004cfb668b640ab3c87a_original.jpg?ixlib=rb-2.0.0&crop=faces&w=560&h=315&fit=crop&v=1533478846&auto=format&frame=1&q=92&s=ba0c49e92f70c35c0e63ec25c5af2409\"}}}'"
      ]
     },
     "execution_count": 80,
     "metadata": {},
     "output_type": "execute_result"
    }
   ],
   "source": [
    "# We drop the column profile as it contains information already provided by other columns.\n",
    "df_example_2019.profile[0]"
   ]
  },
  {
   "cell_type": "code",
   "execution_count": 91,
   "metadata": {
    "collapsed": true
   },
   "outputs": [
    {
     "name": "stdout",
     "output_type": "stream",
     "text": [
      "Tuxpeedo\n",
      "tuxpeedo\n"
     ]
    }
   ],
   "source": [
    "# We drop name column for containing same as slug but slug has cleaned strings.\n",
    "print(df_example_2019.name[1050])\n",
    "print(df_example_2019.slug[1050])"
   ]
  },
  {
   "cell_type": "code",
   "execution_count": 103,
   "metadata": {
    "collapsed": true
   },
   "outputs": [
    {
     "data": {
      "text/plain": [
       "0       1536438029\n",
       "1       1358734294\n",
       "2       1421366412\n",
       "3       1467615541\n",
       "4       1405873727\n",
       "5       1497642609\n",
       "6       1484149238\n",
       "7       1384455965\n",
       "8       1534008181\n",
       "9       1492041000\n",
       "10      1357959631\n",
       "11      1404446341\n",
       "12      1412010011\n",
       "13      1533095942\n",
       "14      1463357276\n",
       "15      1475072770\n",
       "16      1480456801\n",
       "17      1545672795\n",
       "18      1503259200\n",
       "19      1554872400\n",
       "20      1539738060\n",
       "21      1495906755\n",
       "22      1480180740\n",
       "23      1494783996\n",
       "24      1490961910\n",
       "25      1425691377\n",
       "26      1528801463\n",
       "27      1388995218\n",
       "28      1465207317\n",
       "29      1435500299\n",
       "           ...    \n",
       "3756    1370919635\n",
       "3757    1540500977\n",
       "3758    1458394497\n",
       "3759    1384113739\n",
       "3760    1524316006\n",
       "3761    1531765086\n",
       "3762    1418230813\n",
       "3763    1404254803\n",
       "3764    1498074001\n",
       "3765    1467010800\n",
       "3766    1552093204\n",
       "3767    1401656580\n",
       "3768    1427700304\n",
       "3769    1557911759\n",
       "3770    1426280466\n",
       "3771    1494788882\n",
       "3772    1409542476\n",
       "3773    1484429788\n",
       "3774    1555547715\n",
       "3775    1521038978\n",
       "3776    1557294720\n",
       "3777    1407956216\n",
       "3778    1424886842\n",
       "3779    1407983880\n",
       "3780    1408886521\n",
       "3781    1553011202\n",
       "3782    1557936926\n",
       "3783    1430582719\n",
       "3784    1458245566\n",
       "3785    1543201642\n",
       "Name: state_changed_at, Length: 3786, dtype: int64"
      ]
     },
     "execution_count": 103,
     "metadata": {},
     "output_type": "execute_result"
    }
   ],
   "source": [
    "# We drop column state_changed_at as it does not provide useful information.\n",
    "df_example_2019.state_changed_at"
   ]
  },
  {
   "cell_type": "code",
   "execution_count": 111,
   "metadata": {},
   "outputs": [
    {
     "data": {
      "text/plain": [
       "'{\"web\":{\"project\":\"https://www.kickstarter.com/projects/ferdinand-david/ferdinand-and-david-travelmaster-watches-made-in-g?ref=discovery_category_newest\",\"rewards\":\"https://www.kickstarter.com/projects/ferdinand-david/ferdinand-and-david-travelmaster-watches-made-in-g/rewards\"}}'"
      ]
     },
     "execution_count": 111,
     "metadata": {},
     "output_type": "execute_result"
    }
   ],
   "source": [
    "# We drop the column urls although we can make an additional project taking into account the rewards in the project.\n",
    "#  As it only gives us the link to the rewards we should configure a scrapping script to obtain info about the rewards.\n",
    "df_example_2019.urls[0]"
   ]
  },
  {
   "cell_type": "markdown",
   "metadata": {},
   "source": [
    "This way we still have the columns:\n",
    "`['backers_count', 'blurb', 'category', 'country', 'created_at', 'currency', 'deadline', 'goal', 'id', 'launched_at', 'location', 'pledged', 'slug', 'spotlight', 'staff_pick', 'state', 'static_usd_rate', 'usd_pledged']`"
   ]
  },
  {
   "cell_type": "markdown",
   "metadata": {},
   "source": [
    "# EDA (Exploratory Data Analysis)"
   ]
  },
  {
   "cell_type": "code",
   "execution_count": 154,
   "metadata": {},
   "outputs": [],
   "source": [
    "def check_missing_values_and_drop(data, drop=False):\n",
    "    \"\"\"\n",
    "    Check the number of missing values that we have. Notice that this function\n",
    "    will count \n",
    "    Params:\n",
    "        data....Dataframe to check the missing values.\n",
    "        drop....Boolean to indicate if we want to drop missing values or not.\n",
    "    Returns:\n",
    "        Prints a summary of the number and % of missing values.\n",
    "        The dataframe with no missing values\n",
    "    \"\"\"\n",
    "    #dataMis=data[data.isnull().any(axis=1)]\n",
    "    #print(dataMis.groupby('country').country.count())\n",
    "    total_rows = data.shape[0]\n",
    "    na_col_counts = data.isna().sum()\n",
    "    for idx in na_col_counts.index:\n",
    "        na_number = na_col_counts[idx]\n",
    "        print(\"Total number of NA values in column {} is {:d}\".format(str(idx), na_number))\n",
    "        pct_number = (na_number/total_rows) * 100\n",
    "        print(\"Percentage of Na in column %s is %.2f %%\\n\" % (str(idx), pct_number))\n",
    "    if drop:\n",
    "        data = data.dropna()\n",
    "    return data\n",
    "    # TODO: See if we can check the missing indexes for each column and run a study on them.\n",
    "    # TODO: Run experiments to try to identify is the missing values are mainly because of a reason or one type of project, or specific to one period of time (see if they are missing at random, missing not at random...)"
   ]
  },
  {
   "cell_type": "code",
   "execution_count": 156,
   "metadata": {
    "collapsed": true
   },
   "outputs": [
    {
     "name": "stdout",
     "output_type": "stream",
     "text": [
      "Total number of NA values in column backers_count is 0\n",
      "Percentage of Na in column backers_count is 0.00 %\n",
      "\n",
      "Total number of NA values in column blurb is 0\n",
      "Percentage of Na in column blurb is 0.00 %\n",
      "\n",
      "Total number of NA values in column category is 0\n",
      "Percentage of Na in column category is 0.00 %\n",
      "\n",
      "Total number of NA values in column converted_pledged_amount is 0\n",
      "Percentage of Na in column converted_pledged_amount is 0.00 %\n",
      "\n",
      "Total number of NA values in column country is 0\n",
      "Percentage of Na in column country is 0.00 %\n",
      "\n",
      "Total number of NA values in column created_at is 0\n",
      "Percentage of Na in column created_at is 0.00 %\n",
      "\n",
      "Total number of NA values in column creator is 0\n",
      "Percentage of Na in column creator is 0.00 %\n",
      "\n",
      "Total number of NA values in column currency is 0\n",
      "Percentage of Na in column currency is 0.00 %\n",
      "\n",
      "Total number of NA values in column currency_symbol is 0\n",
      "Percentage of Na in column currency_symbol is 0.00 %\n",
      "\n",
      "Total number of NA values in column currency_trailing_code is 0\n",
      "Percentage of Na in column currency_trailing_code is 0.00 %\n",
      "\n",
      "Total number of NA values in column current_currency is 0\n",
      "Percentage of Na in column current_currency is 0.00 %\n",
      "\n",
      "Total number of NA values in column deadline is 0\n",
      "Percentage of Na in column deadline is 0.00 %\n",
      "\n",
      "Total number of NA values in column disable_communication is 0\n",
      "Percentage of Na in column disable_communication is 0.00 %\n",
      "\n",
      "Total number of NA values in column friends is 3783\n",
      "Percentage of Na in column friends is 99.92 %\n",
      "\n",
      "Total number of NA values in column fx_rate is 0\n",
      "Percentage of Na in column fx_rate is 0.00 %\n",
      "\n",
      "Total number of NA values in column goal is 0\n",
      "Percentage of Na in column goal is 0.00 %\n",
      "\n",
      "Total number of NA values in column id is 0\n",
      "Percentage of Na in column id is 0.00 %\n",
      "\n",
      "Total number of NA values in column is_backing is 3783\n",
      "Percentage of Na in column is_backing is 99.92 %\n",
      "\n",
      "Total number of NA values in column is_starrable is 0\n",
      "Percentage of Na in column is_starrable is 0.00 %\n",
      "\n",
      "Total number of NA values in column is_starred is 3783\n",
      "Percentage of Na in column is_starred is 99.92 %\n",
      "\n",
      "Total number of NA values in column launched_at is 0\n",
      "Percentage of Na in column launched_at is 0.00 %\n",
      "\n",
      "Total number of NA values in column location is 7\n",
      "Percentage of Na in column location is 0.18 %\n",
      "\n",
      "Total number of NA values in column name is 0\n",
      "Percentage of Na in column name is 0.00 %\n",
      "\n",
      "Total number of NA values in column permissions is 3783\n",
      "Percentage of Na in column permissions is 99.92 %\n",
      "\n",
      "Total number of NA values in column photo is 0\n",
      "Percentage of Na in column photo is 0.00 %\n",
      "\n",
      "Total number of NA values in column pledged is 0\n",
      "Percentage of Na in column pledged is 0.00 %\n",
      "\n",
      "Total number of NA values in column profile is 0\n",
      "Percentage of Na in column profile is 0.00 %\n",
      "\n",
      "Total number of NA values in column slug is 0\n",
      "Percentage of Na in column slug is 0.00 %\n",
      "\n",
      "Total number of NA values in column source_url is 0\n",
      "Percentage of Na in column source_url is 0.00 %\n",
      "\n",
      "Total number of NA values in column spotlight is 0\n",
      "Percentage of Na in column spotlight is 0.00 %\n",
      "\n",
      "Total number of NA values in column staff_pick is 0\n",
      "Percentage of Na in column staff_pick is 0.00 %\n",
      "\n",
      "Total number of NA values in column state is 0\n",
      "Percentage of Na in column state is 0.00 %\n",
      "\n",
      "Total number of NA values in column state_changed_at is 0\n",
      "Percentage of Na in column state_changed_at is 0.00 %\n",
      "\n",
      "Total number of NA values in column static_usd_rate is 0\n",
      "Percentage of Na in column static_usd_rate is 0.00 %\n",
      "\n",
      "Total number of NA values in column urls is 0\n",
      "Percentage of Na in column urls is 0.00 %\n",
      "\n",
      "Total number of NA values in column usd_pledged is 0\n",
      "Percentage of Na in column usd_pledged is 0.00 %\n",
      "\n",
      "Total number of NA values in column usd_type is 13\n",
      "Percentage of Na in column usd_type is 0.34 %\n",
      "\n"
     ]
    },
    {
     "data": {
      "text/html": [
       "<div>\n",
       "<style scoped>\n",
       "    .dataframe tbody tr th:only-of-type {\n",
       "        vertical-align: middle;\n",
       "    }\n",
       "\n",
       "    .dataframe tbody tr th {\n",
       "        vertical-align: top;\n",
       "    }\n",
       "\n",
       "    .dataframe thead th {\n",
       "        text-align: right;\n",
       "    }\n",
       "</style>\n",
       "<table border=\"1\" class=\"dataframe\">\n",
       "  <thead>\n",
       "    <tr style=\"text-align: right;\">\n",
       "      <th></th>\n",
       "      <th>backers_count</th>\n",
       "      <th>blurb</th>\n",
       "      <th>category</th>\n",
       "      <th>converted_pledged_amount</th>\n",
       "      <th>country</th>\n",
       "      <th>created_at</th>\n",
       "      <th>creator</th>\n",
       "      <th>currency</th>\n",
       "      <th>currency_symbol</th>\n",
       "      <th>currency_trailing_code</th>\n",
       "      <th>...</th>\n",
       "      <th>slug</th>\n",
       "      <th>source_url</th>\n",
       "      <th>spotlight</th>\n",
       "      <th>staff_pick</th>\n",
       "      <th>state</th>\n",
       "      <th>state_changed_at</th>\n",
       "      <th>static_usd_rate</th>\n",
       "      <th>urls</th>\n",
       "      <th>usd_pledged</th>\n",
       "      <th>usd_type</th>\n",
       "    </tr>\n",
       "  </thead>\n",
       "  <tbody>\n",
       "    <tr>\n",
       "      <th>460</th>\n",
       "      <td>35</td>\n",
       "      <td>Reincarnated As Monster is an RPG game. You wi...</td>\n",
       "      <td>{\"id\":35,\"name\":\"Video Games\",\"slug\":\"games/vi...</td>\n",
       "      <td>371</td>\n",
       "      <td>SG</td>\n",
       "      <td>1553241747</td>\n",
       "      <td>{\"id\":1485105272,\"name\":\"Ting Chok Ping\",\"slug...</td>\n",
       "      <td>SGD</td>\n",
       "      <td>$</td>\n",
       "      <td>True</td>\n",
       "      <td>...</td>\n",
       "      <td>reincarnated-as-monster-your-own-story</td>\n",
       "      <td>https://www.kickstarter.com/discover/categorie...</td>\n",
       "      <td>False</td>\n",
       "      <td>False</td>\n",
       "      <td>live</td>\n",
       "      <td>1557163523</td>\n",
       "      <td>0.735078</td>\n",
       "      <td>{\"api\":{\"star\":\"https://api.kickstarter.com/v1...</td>\n",
       "      <td>374.154661</td>\n",
       "      <td>domestic</td>\n",
       "    </tr>\n",
       "  </tbody>\n",
       "</table>\n",
       "<p>1 rows × 37 columns</p>\n",
       "</div>"
      ],
      "text/plain": [
       "     backers_count                                              blurb  \\\n",
       "460             35  Reincarnated As Monster is an RPG game. You wi...   \n",
       "\n",
       "                                              category  \\\n",
       "460  {\"id\":35,\"name\":\"Video Games\",\"slug\":\"games/vi...   \n",
       "\n",
       "     converted_pledged_amount country  created_at  \\\n",
       "460                       371      SG  1553241747   \n",
       "\n",
       "                                               creator currency  \\\n",
       "460  {\"id\":1485105272,\"name\":\"Ting Chok Ping\",\"slug...      SGD   \n",
       "\n",
       "    currency_symbol  currency_trailing_code  ...  \\\n",
       "460               $                    True  ...   \n",
       "\n",
       "                                       slug  \\\n",
       "460  reincarnated-as-monster-your-own-story   \n",
       "\n",
       "                                            source_url  spotlight staff_pick  \\\n",
       "460  https://www.kickstarter.com/discover/categorie...      False      False   \n",
       "\n",
       "     state  state_changed_at  static_usd_rate  \\\n",
       "460   live        1557163523         0.735078   \n",
       "\n",
       "                                                  urls  usd_pledged  usd_type  \n",
       "460  {\"api\":{\"star\":\"https://api.kickstarter.com/v1...   374.154661  domestic  \n",
       "\n",
       "[1 rows x 37 columns]"
      ]
     },
     "execution_count": 156,
     "metadata": {},
     "output_type": "execute_result"
    }
   ],
   "source": [
    "check_missing_values_and_drop(df_example_2019, drop=True)"
   ]
  },
  {
   "cell_type": "code",
   "execution_count": 15,
   "metadata": {},
   "outputs": [
    {
     "data": {
      "text/html": [
       "<div>\n",
       "<style scoped>\n",
       "    .dataframe tbody tr th:only-of-type {\n",
       "        vertical-align: middle;\n",
       "    }\n",
       "\n",
       "    .dataframe tbody tr th {\n",
       "        vertical-align: top;\n",
       "    }\n",
       "\n",
       "    .dataframe thead th {\n",
       "        text-align: right;\n",
       "    }\n",
       "</style>\n",
       "<table border=\"1\" class=\"dataframe\">\n",
       "  <thead>\n",
       "    <tr style=\"text-align: right;\">\n",
       "      <th></th>\n",
       "      <th>backers_count</th>\n",
       "      <th>blurb</th>\n",
       "      <th>category</th>\n",
       "      <th>country</th>\n",
       "      <th>created_at</th>\n",
       "      <th>currency</th>\n",
       "      <th>deadline</th>\n",
       "      <th>goal</th>\n",
       "      <th>id</th>\n",
       "      <th>launched_at</th>\n",
       "      <th>location</th>\n",
       "      <th>name</th>\n",
       "      <th>pledged</th>\n",
       "      <th>state</th>\n",
       "      <th>state_changed_at</th>\n",
       "      <th>static_usd_rate</th>\n",
       "      <th>usd_pledged</th>\n",
       "    </tr>\n",
       "  </thead>\n",
       "  <tbody>\n",
       "    <tr>\n",
       "      <th>2967</th>\n",
       "      <td>1</td>\n",
       "      <td>To create art, an artist must have their tools...</td>\n",
       "      <td>{\"urls\":{\"web\":{\"discover\":\"http://www.kicksta...</td>\n",
       "      <td>US</td>\n",
       "      <td>1428557824</td>\n",
       "      <td>USD</td>\n",
       "      <td>1429770591</td>\n",
       "      <td>400.0</td>\n",
       "      <td>2141932586</td>\n",
       "      <td>1428560991</td>\n",
       "      <td>{\"country\":\"US\",\"urls\":{\"web\":{\"discover\":\"htt...</td>\n",
       "      <td>Tools of the Trade (Canceled)</td>\n",
       "      <td>20.0</td>\n",
       "      <td>canceled</td>\n",
       "      <td>1429332018</td>\n",
       "      <td>1.0</td>\n",
       "      <td>20.0</td>\n",
       "    </tr>\n",
       "    <tr>\n",
       "      <th>4106</th>\n",
       "      <td>0</td>\n",
       "      <td>Firestarter kits for revolutionaries! markers,...</td>\n",
       "      <td>{\"urls\":{\"web\":{\"discover\":\"http://www.kicksta...</td>\n",
       "      <td>US</td>\n",
       "      <td>1453437274</td>\n",
       "      <td>USD</td>\n",
       "      <td>1455244263</td>\n",
       "      <td>63000.0</td>\n",
       "      <td>569937661</td>\n",
       "      <td>1453948263</td>\n",
       "      <td>{\"country\":\"US\",\"urls\":{\"web\":{\"discover\":\"htt...</td>\n",
       "      <td>PROJECT FLINT</td>\n",
       "      <td>0.0</td>\n",
       "      <td>live</td>\n",
       "      <td>1453948263</td>\n",
       "      <td>1.0</td>\n",
       "      <td>0.0</td>\n",
       "    </tr>\n",
       "  </tbody>\n",
       "</table>\n",
       "</div>"
      ],
      "text/plain": [
       "      backers_count                                              blurb  \\\n",
       "2967              1  To create art, an artist must have their tools...   \n",
       "4106              0  Firestarter kits for revolutionaries! markers,...   \n",
       "\n",
       "                                               category country  created_at  \\\n",
       "2967  {\"urls\":{\"web\":{\"discover\":\"http://www.kicksta...      US  1428557824   \n",
       "4106  {\"urls\":{\"web\":{\"discover\":\"http://www.kicksta...      US  1453437274   \n",
       "\n",
       "     currency    deadline     goal          id  launched_at  \\\n",
       "2967      USD  1429770591    400.0  2141932586   1428560991   \n",
       "4106      USD  1455244263  63000.0   569937661   1453948263   \n",
       "\n",
       "                                               location  \\\n",
       "2967  {\"country\":\"US\",\"urls\":{\"web\":{\"discover\":\"htt...   \n",
       "4106  {\"country\":\"US\",\"urls\":{\"web\":{\"discover\":\"htt...   \n",
       "\n",
       "                               name  pledged     state  state_changed_at  \\\n",
       "2967  Tools of the Trade (Canceled)     20.0  canceled        1429332018   \n",
       "4106                  PROJECT FLINT      0.0      live        1453948263   \n",
       "\n",
       "      static_usd_rate  usd_pledged  \n",
       "2967              1.0         20.0  \n",
       "4106              1.0          0.0  "
      ]
     },
     "execution_count": 15,
     "metadata": {},
     "output_type": "execute_result"
    }
   ],
   "source": [
    "total_rows = data.shape[0]\n",
    "data.(2)"
   ]
  },
  {
   "cell_type": "code",
   "execution_count": 7,
   "metadata": {},
   "outputs": [
    {
     "name": "stdout",
     "output_type": "stream",
     "text": [
      "\n",
      "\n",
      "\n",
      "Step 2: Look for missing values for every row and print summary.\n"
     ]
    },
    {
     "ename": "NameError",
     "evalue": "name 'check_missing_values_and_drop' is not defined",
     "output_type": "error",
     "traceback": [
      "\u001b[0;31m---------------------------------------------------------------------------\u001b[0m",
      "\u001b[0;31mNameError\u001b[0m                                 Traceback (most recent call last)",
      "\u001b[0;32m<ipython-input-7-7aca2efcea82>\u001b[0m in \u001b[0;36m<module>\u001b[0;34m\u001b[0m\n\u001b[1;32m      1\u001b[0m \u001b[0;31m# 2 - Look for missing values for every row and print summary.\u001b[0m\u001b[0;34m\u001b[0m\u001b[0;34m\u001b[0m\u001b[0;34m\u001b[0m\u001b[0m\n\u001b[1;32m      2\u001b[0m \u001b[0mprint\u001b[0m\u001b[0;34m(\u001b[0m\u001b[0;34m\"\\n\\n\\nStep 2: Look for missing values for every row and print summary.\"\u001b[0m\u001b[0;34m)\u001b[0m\u001b[0;34m\u001b[0m\u001b[0;34m\u001b[0m\u001b[0m\n\u001b[0;32m----> 3\u001b[0;31m \u001b[0mdata\u001b[0m \u001b[0;34m=\u001b[0m \u001b[0mcheck_missing_values_and_drop\u001b[0m\u001b[0;34m(\u001b[0m\u001b[0mdata\u001b[0m\u001b[0;34m,\u001b[0m \u001b[0;32mTrue\u001b[0m\u001b[0;34m)\u001b[0m\u001b[0;34m\u001b[0m\u001b[0;34m\u001b[0m\u001b[0m\n\u001b[0m\u001b[1;32m      4\u001b[0m \u001b[0mprint\u001b[0m\u001b[0;34m(\u001b[0m\u001b[0;34m\"As we can see, we have very low percentage of missing values,the highest column with missing values is location column with only a 0.34 %, so we decided to drop the missing values\"\u001b[0m\u001b[0;34m)\u001b[0m\u001b[0;34m\u001b[0m\u001b[0;34m\u001b[0m\u001b[0m\n\u001b[1;32m      5\u001b[0m \u001b[0mprint\u001b[0m\u001b[0;34m(\u001b[0m\u001b[0;34m\"Also, studying the missing data, we discover that out of 1091 rows with missing data: \\n\"\u001b[0m\u001b[0;34m)\u001b[0m\u001b[0;34m\u001b[0m\u001b[0;34m\u001b[0m\u001b[0m\n",
      "\u001b[0;31mNameError\u001b[0m: name 'check_missing_values_and_drop' is not defined"
     ]
    }
   ],
   "source": [
    "# 2 - Look for missing values for every row and print summary.\n",
    "print(\"\\n\\n\\nStep 2: Look for missing values for every row and print summary.\")\n",
    "data = check_missing_values_and_drop(data, True)\n",
    "print(\"As we can see, we have very low percentage of missing values,the highest column with missing values is location column with only a 0.34 %, so we decided to drop the missing values\")\n",
    "print(\"Also, studying the missing data, we discover that out of 1091 rows with missing data: \\n\")\n",
    "print(\"United States     1087\\nGreat Britain     2\\nDenmark           1\\nAustria           1\\n\")\n",
    "print(\"The distribution of the missing values across the main_category variable is:\\n\")\n",
    "print(\"art             118\\ncomics           14\\ncrafts            9\\ndance            18\\ndesign           12\\nfashion           6\\nfilm & video    279\\nfood            10\\ngames            49\\njournalism       55\\nmusic           258\\nphotography      49\\npublishing      141\\ntechnology       51\\ntheater          22\")\n",
    "# TODO: NEED TO CHECK OTHER TYPES OF EMPTY VALUES (\"empty strings for example\") They have already been checked right?"
   ]
  }
 ],
 "metadata": {
  "kernelspec": {
   "display_name": "Python 3",
   "language": "python",
   "name": "python3"
  },
  "language_info": {
   "codemirror_mode": {
    "name": "ipython",
    "version": 3
   },
   "file_extension": ".py",
   "mimetype": "text/x-python",
   "name": "python",
   "nbconvert_exporter": "python",
   "pygments_lexer": "ipython3",
   "version": "3.7.2"
  }
 },
 "nbformat": 4,
 "nbformat_minor": 2
}
